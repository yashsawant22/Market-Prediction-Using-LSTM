{
  "nbformat": 4,
  "nbformat_minor": 0,
  "metadata": {
    "colab": {
      "provenance": [],
      "include_colab_link": true
    },
    "kernelspec": {
      "name": "python3",
      "display_name": "Python 3"
    },
    "language_info": {
      "name": "python"
    }
  },
  "cells": [
    {
      "cell_type": "markdown",
      "metadata": {
        "id": "view-in-github",
        "colab_type": "text"
      },
      "source": [
        "<a href=\"https://colab.research.google.com/github/yashsawant22/Market-Prediction-Using-LSTM/blob/main/Project_Code.ipynb\" target=\"_parent\"><img src=\"https://colab.research.google.com/assets/colab-badge.svg\" alt=\"Open In Colab\"/></a>"
      ]
    },
    {
      "cell_type": "markdown",
      "source": [
        "Overview: https://www.kaggle.com/competitions/g-research-crypto-forecasting/overview\n",
        "\n",
        "Detail: https://www.kaggle.com/code/cstein06/tutorial-to-the-g-research-crypto-competition/notebook\n",
        "\n",
        "(API: https://www.kaggle.com/code/sohier/detailed-api-introduction/notebook)\n"
      ],
      "metadata": {
        "id": "zBRfLKNX5Xnc"
      }
    },
    {
      "cell_type": "markdown",
      "source": [
        "## Forecasting returns\n",
        "A fundamental task in financial modeling is predicting how prices will behave in the near future. Using the time-series of historical prices as training data, we want to predict if prices will go up or down, and by how much, namely the asset returns.\n",
        "\n",
        "In this competition, Kagglers are challenged to build machine learning models to predict the returns of 14 popular cryptocurrencies, in the time scale of minutes to hours. You will have access to millions of rows of minute-by-minute cryptocurrency trading data, with which you'll design your forecasting models for all 14 assets simultaneously. Your predictions will be evaluated by how much they correlate with real market data collected during the three-month evaluation period after the competition has closed."
      ],
      "metadata": {
        "id": "3kqPD3u55wOW"
      }
    },
    {
      "cell_type": "markdown",
      "source": [
        "### train.csv - The training set\n",
        "\n",
        "- timestamp: All timestamps are returned as second Unix timestamps (the number of seconds elapsed since 1970-01-01 00:00:00.000 UTC). Timestamps in this dataset are multiple of 60, indicating minute-by-minute data.\n",
        "- Asset_ID: The asset ID corresponding to one of the crytocurrencies (e.g. Asset_ID = 1 for Bitcoin). The mapping from Asset_ID to crypto asset is contained in asset_details.csv.\n",
        "- Count: Total number of trades in the time interval (last minute).\n",
        "- Open: Opening price of the time interval (in USD).\n",
        "- High: Highest price reached during time interval (in USD).\n",
        "- Low: Lowest price reached during time interval (in USD).\n",
        "- Close: Closing price of the time interval (in USD).\n",
        "- Volume: Quantity of asset bought or sold, displayed in base currency USD.\n",
        "- VWAP: The average price of the asset over the time interval, weighted by volume. VWAP is an aggregated form of trade data.\n",
        "- Target: Residual log-returns for the asset over a 15 minute horizon."
      ],
      "metadata": {
        "id": "qE4PSZtNtl7V"
      }
    },
    {
      "cell_type": "code",
      "source": [
        "import pandas as pd\n",
        "import numpy as np\n",
        "from datetime import datetime\n",
        "import scipy.stats as stats\n",
        "import time\n",
        "import matplotlib.pyplot as plt\n",
        "import seaborn as sns\n",
        "import lightgbm as lgb\n",
        "import pickle\n",
        "import gc\n",
        "import plotly.graph_objects as go\n",
        "from datetime import datetime\n",
        "\n",
        "import warnings\n",
        "warnings.filterwarnings('ignore')\n",
        "# import warnings\n",
        "# warnings.simplefilter(action='ignore', category=FutureWarning)"
      ],
      "metadata": {
        "id": "E6ygBUF6reF_"
      },
      "execution_count": null,
      "outputs": []
    },
    {
      "cell_type": "code",
      "source": [
        "from google.colab import drive\n",
        "drive.mount(\"/content/drive\")"
      ],
      "metadata": {
        "colab": {
          "base_uri": "https://localhost:8080/",
          "height": 346
        },
        "id": "IO_kmzYZswb9",
        "outputId": "6ec3a336-8431-4a99-aaca-eba8e4bc4e2c"
      },
      "execution_count": null,
      "outputs": [
        {
          "output_type": "error",
          "ename": "MessageError",
          "evalue": "ignored",
          "traceback": [
            "\u001b[0;31m---------------------------------------------------------------------------\u001b[0m",
            "\u001b[0;31mMessageError\u001b[0m                              Traceback (most recent call last)",
            "\u001b[0;32m<ipython-input-3-bf1647b42bbd>\u001b[0m in \u001b[0;36m<cell line: 2>\u001b[0;34m()\u001b[0m\n\u001b[1;32m      1\u001b[0m \u001b[0;32mfrom\u001b[0m \u001b[0mgoogle\u001b[0m\u001b[0;34m.\u001b[0m\u001b[0mcolab\u001b[0m \u001b[0;32mimport\u001b[0m \u001b[0mdrive\u001b[0m\u001b[0;34m\u001b[0m\u001b[0;34m\u001b[0m\u001b[0m\n\u001b[0;32m----> 2\u001b[0;31m \u001b[0mdrive\u001b[0m\u001b[0;34m.\u001b[0m\u001b[0mmount\u001b[0m\u001b[0;34m(\u001b[0m\u001b[0;34m\"/content/drive\"\u001b[0m\u001b[0;34m)\u001b[0m\u001b[0;34m\u001b[0m\u001b[0;34m\u001b[0m\u001b[0m\n\u001b[0m",
            "\u001b[0;32m/usr/local/lib/python3.10/dist-packages/google/colab/drive.py\u001b[0m in \u001b[0;36mmount\u001b[0;34m(mountpoint, force_remount, timeout_ms, readonly)\u001b[0m\n\u001b[1;32m    101\u001b[0m \u001b[0;32mdef\u001b[0m \u001b[0mmount\u001b[0m\u001b[0;34m(\u001b[0m\u001b[0mmountpoint\u001b[0m\u001b[0;34m,\u001b[0m \u001b[0mforce_remount\u001b[0m\u001b[0;34m=\u001b[0m\u001b[0;32mFalse\u001b[0m\u001b[0;34m,\u001b[0m \u001b[0mtimeout_ms\u001b[0m\u001b[0;34m=\u001b[0m\u001b[0;36m120000\u001b[0m\u001b[0;34m,\u001b[0m \u001b[0mreadonly\u001b[0m\u001b[0;34m=\u001b[0m\u001b[0;32mFalse\u001b[0m\u001b[0;34m)\u001b[0m\u001b[0;34m:\u001b[0m\u001b[0;34m\u001b[0m\u001b[0;34m\u001b[0m\u001b[0m\n\u001b[1;32m    102\u001b[0m   \u001b[0;34m\"\"\"Mount your Google Drive at the specified mountpoint path.\"\"\"\u001b[0m\u001b[0;34m\u001b[0m\u001b[0;34m\u001b[0m\u001b[0m\n\u001b[0;32m--> 103\u001b[0;31m   return _mount(\n\u001b[0m\u001b[1;32m    104\u001b[0m       \u001b[0mmountpoint\u001b[0m\u001b[0;34m,\u001b[0m\u001b[0;34m\u001b[0m\u001b[0;34m\u001b[0m\u001b[0m\n\u001b[1;32m    105\u001b[0m       \u001b[0mforce_remount\u001b[0m\u001b[0;34m=\u001b[0m\u001b[0mforce_remount\u001b[0m\u001b[0;34m,\u001b[0m\u001b[0;34m\u001b[0m\u001b[0;34m\u001b[0m\u001b[0m\n",
            "\u001b[0;32m/usr/local/lib/python3.10/dist-packages/google/colab/drive.py\u001b[0m in \u001b[0;36m_mount\u001b[0;34m(mountpoint, force_remount, timeout_ms, ephemeral, readonly)\u001b[0m\n\u001b[1;32m    130\u001b[0m   )\n\u001b[1;32m    131\u001b[0m   \u001b[0;32mif\u001b[0m \u001b[0mephemeral\u001b[0m\u001b[0;34m:\u001b[0m\u001b[0;34m\u001b[0m\u001b[0;34m\u001b[0m\u001b[0m\n\u001b[0;32m--> 132\u001b[0;31m     _message.blocking_request(\n\u001b[0m\u001b[1;32m    133\u001b[0m         \u001b[0;34m'request_auth'\u001b[0m\u001b[0;34m,\u001b[0m \u001b[0mrequest\u001b[0m\u001b[0;34m=\u001b[0m\u001b[0;34m{\u001b[0m\u001b[0;34m'authType'\u001b[0m\u001b[0;34m:\u001b[0m \u001b[0;34m'dfs_ephemeral'\u001b[0m\u001b[0;34m}\u001b[0m\u001b[0;34m,\u001b[0m \u001b[0mtimeout_sec\u001b[0m\u001b[0;34m=\u001b[0m\u001b[0;32mNone\u001b[0m\u001b[0;34m\u001b[0m\u001b[0;34m\u001b[0m\u001b[0m\n\u001b[1;32m    134\u001b[0m     )\n",
            "\u001b[0;32m/usr/local/lib/python3.10/dist-packages/google/colab/_message.py\u001b[0m in \u001b[0;36mblocking_request\u001b[0;34m(request_type, request, timeout_sec, parent)\u001b[0m\n\u001b[1;32m    174\u001b[0m       \u001b[0mrequest_type\u001b[0m\u001b[0;34m,\u001b[0m \u001b[0mrequest\u001b[0m\u001b[0;34m,\u001b[0m \u001b[0mparent\u001b[0m\u001b[0;34m=\u001b[0m\u001b[0mparent\u001b[0m\u001b[0;34m,\u001b[0m \u001b[0mexpect_reply\u001b[0m\u001b[0;34m=\u001b[0m\u001b[0;32mTrue\u001b[0m\u001b[0;34m\u001b[0m\u001b[0;34m\u001b[0m\u001b[0m\n\u001b[1;32m    175\u001b[0m   )\n\u001b[0;32m--> 176\u001b[0;31m   \u001b[0;32mreturn\u001b[0m \u001b[0mread_reply_from_input\u001b[0m\u001b[0;34m(\u001b[0m\u001b[0mrequest_id\u001b[0m\u001b[0;34m,\u001b[0m \u001b[0mtimeout_sec\u001b[0m\u001b[0;34m)\u001b[0m\u001b[0;34m\u001b[0m\u001b[0;34m\u001b[0m\u001b[0m\n\u001b[0m",
            "\u001b[0;32m/usr/local/lib/python3.10/dist-packages/google/colab/_message.py\u001b[0m in \u001b[0;36mread_reply_from_input\u001b[0;34m(message_id, timeout_sec)\u001b[0m\n\u001b[1;32m    101\u001b[0m     ):\n\u001b[1;32m    102\u001b[0m       \u001b[0;32mif\u001b[0m \u001b[0;34m'error'\u001b[0m \u001b[0;32min\u001b[0m \u001b[0mreply\u001b[0m\u001b[0;34m:\u001b[0m\u001b[0;34m\u001b[0m\u001b[0;34m\u001b[0m\u001b[0m\n\u001b[0;32m--> 103\u001b[0;31m         \u001b[0;32mraise\u001b[0m \u001b[0mMessageError\u001b[0m\u001b[0;34m(\u001b[0m\u001b[0mreply\u001b[0m\u001b[0;34m[\u001b[0m\u001b[0;34m'error'\u001b[0m\u001b[0;34m]\u001b[0m\u001b[0;34m)\u001b[0m\u001b[0;34m\u001b[0m\u001b[0;34m\u001b[0m\u001b[0m\n\u001b[0m\u001b[1;32m    104\u001b[0m       \u001b[0;32mreturn\u001b[0m \u001b[0mreply\u001b[0m\u001b[0;34m.\u001b[0m\u001b[0mget\u001b[0m\u001b[0;34m(\u001b[0m\u001b[0;34m'data'\u001b[0m\u001b[0;34m,\u001b[0m \u001b[0;32mNone\u001b[0m\u001b[0;34m)\u001b[0m\u001b[0;34m\u001b[0m\u001b[0;34m\u001b[0m\u001b[0m\n\u001b[1;32m    105\u001b[0m \u001b[0;34m\u001b[0m\u001b[0m\n",
            "\u001b[0;31mMessageError\u001b[0m: Error: credential propagation was unsuccessful"
          ]
        }
      ]
    },
    {
      "cell_type": "code",
      "source": [
        "data_folder = \"drive/SharedWithMe/\"\n",
        "!ls $data_folder"
      ],
      "metadata": {
        "colab": {
          "base_uri": "https://localhost:8080/"
        },
        "id": "1UOe85Lp8jNB",
        "outputId": "70a5b03f-b791-4b5f-9801-f9a21df4ce3a"
      },
      "execution_count": null,
      "outputs": [
        {
          "output_type": "stream",
          "name": "stdout",
          "text": [
            "ls: cannot access 'drive/SharedWithMe/': No such file or directory\n"
          ]
        }
      ]
    },
    {
      "cell_type": "code",
      "source": [
        "df = pd.read_csv(data_folder + 'train.csv',\n",
        "                 dtype={'Asset_ID': 'int8', 'Count': 'int32', 'Count': 'int32',\n",
        "                        'Open': 'float64', 'High': 'float64', 'Low': 'float64', 'Close': 'float64',\n",
        "                        'Volume': 'float64', 'VWAP': 'float64'})"
      ],
      "metadata": {
        "id": "APjJyWozreJX"
      },
      "execution_count": null,
      "outputs": []
    },
    {
      "cell_type": "code",
      "source": [
        "df.summary()"
      ],
      "metadata": {
        "id": "IyXjxRQZp1Oy"
      },
      "execution_count": null,
      "outputs": []
    },
    {
      "cell_type": "code",
      "source": [
        "df.head(10)"
      ],
      "metadata": {
        "id": "XVMBLhQltGpi",
        "outputId": "9e8afd41-096b-4385-b3bb-382592be7b3e",
        "colab": {
          "base_uri": "https://localhost:8080/",
          "height": 359
        }
      },
      "execution_count": null,
      "outputs": [
        {
          "output_type": "execute_result",
          "data": {
            "text/plain": [
              "    timestamp  Asset_ID  Count          Open        High         Low  \\\n",
              "0  1514764860         2     40   2376.580000   2399.5000   2357.1400   \n",
              "1  1514764860         0      5      8.530000      8.5300      8.5300   \n",
              "2  1514764860         1    229  13835.194000  14013.8000  13666.1100   \n",
              "3  1514764860         5     32      7.659600      7.6596      7.6567   \n",
              "4  1514764860         7      5     25.920000     25.9200     25.8740   \n",
              "5  1514764860         6    173    738.302500    746.0000    732.5100   \n",
              "6  1514764860         9    167    225.330000    227.7800    222.9800   \n",
              "7  1514764860        11      7    329.090000    329.8800    329.0900   \n",
              "8  1514764920         2     53   2374.553333   2400.9000   2354.2000   \n",
              "9  1514764920         0      7      8.530000      8.5300      8.5145   \n",
              "\n",
              "          Close       Volume          VWAP    Target  \n",
              "0   2374.590000    19.233005   2373.116392 -0.004218  \n",
              "1      8.530000    78.380000      8.530000 -0.014399  \n",
              "2  13850.176000    31.550062  13827.062093 -0.014643  \n",
              "3      7.657600  6626.713370      7.657713 -0.013922  \n",
              "4     25.877000   121.087310     25.891363 -0.008264  \n",
              "5    738.507500   335.987856    738.839291 -0.004809  \n",
              "6    225.206667   411.896642    225.197944 -0.009791  \n",
              "7    329.460000     6.635710    329.454118       NaN  \n",
              "8   2372.286667    24.050259   2371.434498 -0.004079  \n",
              "9      8.514500    71.390000      8.520215 -0.015875  "
            ],
            "text/html": [
              "\n",
              "  <div id=\"df-6366c9e4-1baf-4353-880a-31a852953e92\">\n",
              "    <div class=\"colab-df-container\">\n",
              "      <div>\n",
              "<style scoped>\n",
              "    .dataframe tbody tr th:only-of-type {\n",
              "        vertical-align: middle;\n",
              "    }\n",
              "\n",
              "    .dataframe tbody tr th {\n",
              "        vertical-align: top;\n",
              "    }\n",
              "\n",
              "    .dataframe thead th {\n",
              "        text-align: right;\n",
              "    }\n",
              "</style>\n",
              "<table border=\"1\" class=\"dataframe\">\n",
              "  <thead>\n",
              "    <tr style=\"text-align: right;\">\n",
              "      <th></th>\n",
              "      <th>timestamp</th>\n",
              "      <th>Asset_ID</th>\n",
              "      <th>Count</th>\n",
              "      <th>Open</th>\n",
              "      <th>High</th>\n",
              "      <th>Low</th>\n",
              "      <th>Close</th>\n",
              "      <th>Volume</th>\n",
              "      <th>VWAP</th>\n",
              "      <th>Target</th>\n",
              "    </tr>\n",
              "  </thead>\n",
              "  <tbody>\n",
              "    <tr>\n",
              "      <th>0</th>\n",
              "      <td>1514764860</td>\n",
              "      <td>2</td>\n",
              "      <td>40</td>\n",
              "      <td>2376.580000</td>\n",
              "      <td>2399.5000</td>\n",
              "      <td>2357.1400</td>\n",
              "      <td>2374.590000</td>\n",
              "      <td>19.233005</td>\n",
              "      <td>2373.116392</td>\n",
              "      <td>-0.004218</td>\n",
              "    </tr>\n",
              "    <tr>\n",
              "      <th>1</th>\n",
              "      <td>1514764860</td>\n",
              "      <td>0</td>\n",
              "      <td>5</td>\n",
              "      <td>8.530000</td>\n",
              "      <td>8.5300</td>\n",
              "      <td>8.5300</td>\n",
              "      <td>8.530000</td>\n",
              "      <td>78.380000</td>\n",
              "      <td>8.530000</td>\n",
              "      <td>-0.014399</td>\n",
              "    </tr>\n",
              "    <tr>\n",
              "      <th>2</th>\n",
              "      <td>1514764860</td>\n",
              "      <td>1</td>\n",
              "      <td>229</td>\n",
              "      <td>13835.194000</td>\n",
              "      <td>14013.8000</td>\n",
              "      <td>13666.1100</td>\n",
              "      <td>13850.176000</td>\n",
              "      <td>31.550062</td>\n",
              "      <td>13827.062093</td>\n",
              "      <td>-0.014643</td>\n",
              "    </tr>\n",
              "    <tr>\n",
              "      <th>3</th>\n",
              "      <td>1514764860</td>\n",
              "      <td>5</td>\n",
              "      <td>32</td>\n",
              "      <td>7.659600</td>\n",
              "      <td>7.6596</td>\n",
              "      <td>7.6567</td>\n",
              "      <td>7.657600</td>\n",
              "      <td>6626.713370</td>\n",
              "      <td>7.657713</td>\n",
              "      <td>-0.013922</td>\n",
              "    </tr>\n",
              "    <tr>\n",
              "      <th>4</th>\n",
              "      <td>1514764860</td>\n",
              "      <td>7</td>\n",
              "      <td>5</td>\n",
              "      <td>25.920000</td>\n",
              "      <td>25.9200</td>\n",
              "      <td>25.8740</td>\n",
              "      <td>25.877000</td>\n",
              "      <td>121.087310</td>\n",
              "      <td>25.891363</td>\n",
              "      <td>-0.008264</td>\n",
              "    </tr>\n",
              "    <tr>\n",
              "      <th>5</th>\n",
              "      <td>1514764860</td>\n",
              "      <td>6</td>\n",
              "      <td>173</td>\n",
              "      <td>738.302500</td>\n",
              "      <td>746.0000</td>\n",
              "      <td>732.5100</td>\n",
              "      <td>738.507500</td>\n",
              "      <td>335.987856</td>\n",
              "      <td>738.839291</td>\n",
              "      <td>-0.004809</td>\n",
              "    </tr>\n",
              "    <tr>\n",
              "      <th>6</th>\n",
              "      <td>1514764860</td>\n",
              "      <td>9</td>\n",
              "      <td>167</td>\n",
              "      <td>225.330000</td>\n",
              "      <td>227.7800</td>\n",
              "      <td>222.9800</td>\n",
              "      <td>225.206667</td>\n",
              "      <td>411.896642</td>\n",
              "      <td>225.197944</td>\n",
              "      <td>-0.009791</td>\n",
              "    </tr>\n",
              "    <tr>\n",
              "      <th>7</th>\n",
              "      <td>1514764860</td>\n",
              "      <td>11</td>\n",
              "      <td>7</td>\n",
              "      <td>329.090000</td>\n",
              "      <td>329.8800</td>\n",
              "      <td>329.0900</td>\n",
              "      <td>329.460000</td>\n",
              "      <td>6.635710</td>\n",
              "      <td>329.454118</td>\n",
              "      <td>NaN</td>\n",
              "    </tr>\n",
              "    <tr>\n",
              "      <th>8</th>\n",
              "      <td>1514764920</td>\n",
              "      <td>2</td>\n",
              "      <td>53</td>\n",
              "      <td>2374.553333</td>\n",
              "      <td>2400.9000</td>\n",
              "      <td>2354.2000</td>\n",
              "      <td>2372.286667</td>\n",
              "      <td>24.050259</td>\n",
              "      <td>2371.434498</td>\n",
              "      <td>-0.004079</td>\n",
              "    </tr>\n",
              "    <tr>\n",
              "      <th>9</th>\n",
              "      <td>1514764920</td>\n",
              "      <td>0</td>\n",
              "      <td>7</td>\n",
              "      <td>8.530000</td>\n",
              "      <td>8.5300</td>\n",
              "      <td>8.5145</td>\n",
              "      <td>8.514500</td>\n",
              "      <td>71.390000</td>\n",
              "      <td>8.520215</td>\n",
              "      <td>-0.015875</td>\n",
              "    </tr>\n",
              "  </tbody>\n",
              "</table>\n",
              "</div>\n",
              "      <button class=\"colab-df-convert\" onclick=\"convertToInteractive('df-6366c9e4-1baf-4353-880a-31a852953e92')\"\n",
              "              title=\"Convert this dataframe to an interactive table.\"\n",
              "              style=\"display:none;\">\n",
              "        \n",
              "  <svg xmlns=\"http://www.w3.org/2000/svg\" height=\"24px\"viewBox=\"0 0 24 24\"\n",
              "       width=\"24px\">\n",
              "    <path d=\"M0 0h24v24H0V0z\" fill=\"none\"/>\n",
              "    <path d=\"M18.56 5.44l.94 2.06.94-2.06 2.06-.94-2.06-.94-.94-2.06-.94 2.06-2.06.94zm-11 1L8.5 8.5l.94-2.06 2.06-.94-2.06-.94L8.5 2.5l-.94 2.06-2.06.94zm10 10l.94 2.06.94-2.06 2.06-.94-2.06-.94-.94-2.06-.94 2.06-2.06.94z\"/><path d=\"M17.41 7.96l-1.37-1.37c-.4-.4-.92-.59-1.43-.59-.52 0-1.04.2-1.43.59L10.3 9.45l-7.72 7.72c-.78.78-.78 2.05 0 2.83L4 21.41c.39.39.9.59 1.41.59.51 0 1.02-.2 1.41-.59l7.78-7.78 2.81-2.81c.8-.78.8-2.07 0-2.86zM5.41 20L4 18.59l7.72-7.72 1.47 1.35L5.41 20z\"/>\n",
              "  </svg>\n",
              "      </button>\n",
              "      \n",
              "  <style>\n",
              "    .colab-df-container {\n",
              "      display:flex;\n",
              "      flex-wrap:wrap;\n",
              "      gap: 12px;\n",
              "    }\n",
              "\n",
              "    .colab-df-convert {\n",
              "      background-color: #E8F0FE;\n",
              "      border: none;\n",
              "      border-radius: 50%;\n",
              "      cursor: pointer;\n",
              "      display: none;\n",
              "      fill: #1967D2;\n",
              "      height: 32px;\n",
              "      padding: 0 0 0 0;\n",
              "      width: 32px;\n",
              "    }\n",
              "\n",
              "    .colab-df-convert:hover {\n",
              "      background-color: #E2EBFA;\n",
              "      box-shadow: 0px 1px 2px rgba(60, 64, 67, 0.3), 0px 1px 3px 1px rgba(60, 64, 67, 0.15);\n",
              "      fill: #174EA6;\n",
              "    }\n",
              "\n",
              "    [theme=dark] .colab-df-convert {\n",
              "      background-color: #3B4455;\n",
              "      fill: #D2E3FC;\n",
              "    }\n",
              "\n",
              "    [theme=dark] .colab-df-convert:hover {\n",
              "      background-color: #434B5C;\n",
              "      box-shadow: 0px 1px 3px 1px rgba(0, 0, 0, 0.15);\n",
              "      filter: drop-shadow(0px 1px 2px rgba(0, 0, 0, 0.3));\n",
              "      fill: #FFFFFF;\n",
              "    }\n",
              "  </style>\n",
              "\n",
              "      <script>\n",
              "        const buttonEl =\n",
              "          document.querySelector('#df-6366c9e4-1baf-4353-880a-31a852953e92 button.colab-df-convert');\n",
              "        buttonEl.style.display =\n",
              "          google.colab.kernel.accessAllowed ? 'block' : 'none';\n",
              "\n",
              "        async function convertToInteractive(key) {\n",
              "          const element = document.querySelector('#df-6366c9e4-1baf-4353-880a-31a852953e92');\n",
              "          const dataTable =\n",
              "            await google.colab.kernel.invokeFunction('convertToInteractive',\n",
              "                                                     [key], {});\n",
              "          if (!dataTable) return;\n",
              "\n",
              "          const docLinkHtml = 'Like what you see? Visit the ' +\n",
              "            '<a target=\"_blank\" href=https://colab.research.google.com/notebooks/data_table.ipynb>data table notebook</a>'\n",
              "            + ' to learn more about interactive tables.';\n",
              "          element.innerHTML = '';\n",
              "          dataTable['output_type'] = 'display_data';\n",
              "          await google.colab.output.renderOutput(dataTable, element);\n",
              "          const docLink = document.createElement('div');\n",
              "          docLink.innerHTML = docLinkHtml;\n",
              "          element.appendChild(docLink);\n",
              "        }\n",
              "      </script>\n",
              "    </div>\n",
              "  </div>\n",
              "  "
            ]
          },
          "metadata": {},
          "execution_count": 6
        }
      ]
    },
    {
      "cell_type": "code",
      "source": [
        "id = df.Asset_ID.unique()\n",
        "id.sort()\n",
        "id"
      ],
      "metadata": {
        "id": "zbM_WqnXreL1",
        "colab": {
          "base_uri": "https://localhost:8080/"
        },
        "outputId": "c7c6cb1b-6fe8-46f0-c153-4a97ab07ec5f"
      },
      "execution_count": null,
      "outputs": [
        {
          "output_type": "execute_result",
          "data": {
            "text/plain": [
              "array([ 0,  1,  2,  3,  4,  5,  6,  7,  8,  9, 10, 11, 12, 13], dtype=int8)"
            ]
          },
          "metadata": {},
          "execution_count": 7
        }
      ]
    },
    {
      "cell_type": "code",
      "source": [
        "# df.columns"
      ],
      "metadata": {
        "id": "AAcuAxX8ykwq"
      },
      "execution_count": null,
      "outputs": []
    },
    {
      "cell_type": "markdown",
      "source": [
        "### 14 cryptocurrencies data"
      ],
      "metadata": {
        "id": "gabCc5AXHQra"
      }
    },
    {
      "cell_type": "code",
      "source": [
        "asset_details = pd.read_csv(data_folder + 'asset_details.csv')\n",
        "# asset_details\n",
        "asset_details = asset_details.sort_values('Asset_ID')\n",
        "asset_details = asset_details.reset_index(drop=True)"
      ],
      "metadata": {
        "id": "HKu1adye8_R3"
      },
      "execution_count": null,
      "outputs": []
    },
    {
      "cell_type": "code",
      "source": [
        "# split data by assets\n",
        "bnn = df[df[\"Asset_ID\"]==0].set_index(\"timestamp\")  # Binance Coin\n",
        "btc = df[df[\"Asset_ID\"]==1].set_index(\"timestamp\")  # Bitcoin\n",
        "btcc = df[df[\"Asset_ID\"]==2].set_index(\"timestamp\")  # Bitcoin Cash\n",
        "crd = df[df[\"Asset_ID\"]==3].set_index(\"timestamp\")  # Cardano\n",
        "doge = df[df[\"Asset_ID\"]==4].set_index(\"timestamp\")  # Dogecoin\n",
        "eos = df[df[\"Asset_ID\"]==5].set_index(\"timestamp\")  # EOS.IO\n",
        "eth = df[df[\"Asset_ID\"]==6].set_index(\"timestamp\")  # Ethereum\n",
        "ethc = df[df[\"Asset_ID\"]==7].set_index(\"timestamp\")  # Ethereum Classic\n",
        "iota = df[df[\"Asset_ID\"]==8].set_index(\"timestamp\")  # IOTA\n",
        "lite = df[df[\"Asset_ID\"]==9].set_index(\"timestamp\")  # Litecoin\n",
        "maker = df[df[\"Asset_ID\"]==10].set_index(\"timestamp\")  # Maker\n",
        "mon = df[df[\"Asset_ID\"]==11].set_index(\"timestamp\")  # Monero\n",
        "stl = df[df[\"Asset_ID\"]==12].set_index(\"timestamp\")  # Stellar\n",
        "tron = df[df[\"Asset_ID\"]==13].set_index(\"timestamp\")  # TRON"
      ],
      "metadata": {
        "id": "tFWQaWUUGpiL"
      },
      "execution_count": null,
      "outputs": []
    },
    {
      "cell_type": "code",
      "source": [
        "# for reference\n",
        "btc.info(show_counts=True)"
      ],
      "metadata": {
        "colab": {
          "base_uri": "https://localhost:8080/"
        },
        "id": "7y3Ev2v_I4YE",
        "outputId": "f4d08ef6-8225-46c1-f7e8-3b123de79177"
      },
      "execution_count": null,
      "outputs": [
        {
          "output_type": "stream",
          "name": "stdout",
          "text": [
            "<class 'pandas.core.frame.DataFrame'>\n",
            "Int64Index: 1956282 entries, 1514764860 to 1632182400\n",
            "Data columns (total 9 columns):\n",
            " #   Column    Non-Null Count    Dtype  \n",
            "---  ------    --------------    -----  \n",
            " 0   Asset_ID  1956282 non-null  int8   \n",
            " 1   Count     1956282 non-null  int32  \n",
            " 2   Open      1956282 non-null  float64\n",
            " 3   High      1956282 non-null  float64\n",
            " 4   Low       1956282 non-null  float64\n",
            " 5   Close     1956282 non-null  float64\n",
            " 6   Volume    1956282 non-null  float64\n",
            " 7   VWAP      1956282 non-null  float64\n",
            " 8   Target    1955978 non-null  float64\n",
            "dtypes: float64(7), int32(1), int8(1)\n",
            "memory usage: 128.7 MB\n"
          ]
        }
      ]
    },
    {
      "cell_type": "markdown",
      "source": [
        "## Visualization of recent Bitcoin data using candlestick charts\n",
        "\n",
        "- Length represents the price range between the open and close of that day's trading.\n",
        "- When the bar is red, it means the close was lower than the open, and green otherwise.\n",
        "- The wicks above and below the bars show the high and low prices of that interval's trading.\n",
        "- The bottom part of the plot shows a rangeslider to zoom in the plot."
      ],
      "metadata": {
        "id": "ZSCDDVtO-e71"
      }
    },
    {
      "cell_type": "code",
      "source": [
        "# select recent data\n",
        "btc_recent = btc.iloc[-200:]"
      ],
      "metadata": {
        "id": "dnbn1YSO7GvM"
      },
      "execution_count": null,
      "outputs": []
    },
    {
      "cell_type": "code",
      "source": [
        "fig = go.Figure(data=[go.Candlestick(x=btc_recent.index, open=btc_recent['Open'], high=btc_recent['High'], low=btc_recent['Low'], close=btc_recent['Close'])])\n",
        "fig.show()"
      ],
      "metadata": {
        "colab": {
          "base_uri": "https://localhost:8080/",
          "height": 542
        },
        "id": "EbCOqIAh7QC0",
        "outputId": "1fd08401-011a-467f-c679-cee7111a666c"
      },
      "execution_count": null,
      "outputs": [
        {
          "output_type": "display_data",
          "data": {
            "text/html": [
              "<html>\n",
              "<head><meta charset=\"utf-8\" /></head>\n",
              "<body>\n",
              "    <div>            <script src=\"https://cdnjs.cloudflare.com/ajax/libs/mathjax/2.7.5/MathJax.js?config=TeX-AMS-MML_SVG\"></script><script type=\"text/javascript\">if (window.MathJax && window.MathJax.Hub && window.MathJax.Hub.Config) {window.MathJax.Hub.Config({SVG: {font: \"STIX-Web\"}});}</script>                <script type=\"text/javascript\">window.PlotlyConfig = {MathJaxConfig: 'local'};</script>\n",
              "        <script src=\"https://cdn.plot.ly/plotly-2.18.2.min.js\"></script>                <div id=\"6d5bbed4-31a0-4c91-a1d5-8d971e36b48d\" class=\"plotly-graph-div\" style=\"height:525px; width:100%;\"></div>            <script type=\"text/javascript\">                                    window.PLOTLYENV=window.PLOTLYENV || {};                                    if (document.getElementById(\"6d5bbed4-31a0-4c91-a1d5-8d971e36b48d\")) {                    Plotly.newPlot(                        \"6d5bbed4-31a0-4c91-a1d5-8d971e36b48d\",                        [{\"close\":[43447.00375,43440.0,43360.72375,43427.24285714286,43375.04,43391.2775,43328.33142857143,43333.292857142864,43272.20571428572,43302.26142857143,43237.22857142857,43293.438571428575,43335.397142857146,43329.36,43315.57857142857,43358.98,43401.56125,43496.01714285714,43543.944285714286,43735.24749999998,43635.8,43565.93714285714,43445.9742505125,43582.882500000014,43509.89375,43583.13375,43620.45625000002,43683.955,43688.792857142864,43748.37285714286,43733.61857142858,43770.91142857143,43725.21247342,43699.93519433285,43681.41125,43663.37142857142,43674.12714285714,43735.2968762825,43761.40857142857,43804.98142857143,43748.64871729857,43754.64400535857,43761.9313146925,43745.054649555714,43749.41395637714,43704.05428571429,43754.37857142858,43752.16000000002,43752.56428571429,43742.16285714285,43722.25010413143,43698.399835418575,43678.80153424286,43688.29428571429,43673.78428571428,43674.93714285714,43696.93209772,43696.218571428566,43688.90142857142,43680.15714285715,43699.02571428572,43731.86428571429,43747.49428571429,43762.66571428572,43851.00774273375,43796.60571428571,43767.107142857145,43685.150000000016,43691.55,43724.642857142855,43737.69285714287,43651.975714285705,43596.42285714286,43623.89428571428,43635.89571428572,43561.85142857144,43536.07792585572,43480.374285714286,43514.82,43608.34571428572,43568.90142857143,43554.05285714286,43631.01714285714,43631.90714285714,43537.49,43597.75303396001,43648.514285714286,43697.334285714285,43707.43,43726.24681658715,43765.792857142864,43715.65571428572,43715.125714285714,43710.31428571429,43731.00625,43770.145714285725,43814.85571428571,43816.27125000001,43806.570000000014,43806.79142857143,43770.66857142857,43799.1,43833.474285714285,43811.704285714295,43843.44,43832.01571428571,43786.38571428572,43769.188571428575,43774.467142857146,43796.19,43797.20571428572,43798.15714285714,43804.61142857144,43831.59142857143,43871.69625,43897.16857142858,43901.38285714285,43883.25895342144,43862.52,43894.77857142857,43866.73499999999,43845.84857142857,43823.298571428575,43752.76714285714,43703.374285714286,43669.07857142857,43642.77285714285,43615.38,43504.42428571429,43367.88571428572,43316.7225,43295.04428571429,43250.16571428572,43075.9025,43232.90125,43259.1575,43293.7075,43305.09857142857,43327.79,43356.28068103,43344.55857142858,43484.61375,43580.82375,43470.794999999984,43198.788571428566,43213.69,43269.54714285715,43239.26125,43114.23614144125,43067.63,43060.81,42991.2775,42989.62375,43219.33125,43140.19135458125,43198.24000000001,43110.797500000015,43157.72298172143,43099.1575,43051.08285714287,42966.91285714286,43009.43142857143,42880.67875,42822.040000000015,42699.178750000014,42778.885,42779.71,42700.44625,42659.58241635572,42600.39625,42624.279999999984,42577.0,42679.60625,42678.21816655625,42762.514285714286,42825.295,42736.6525,42769.39571428571,42637.115,42703.63625,42781.97057111125,42755.5925,42717.23428571428,42657.20249999999,42678.72142857143,42778.29125,42790.17571428571,42731.73142857143,42898.565,42939.64571428572,42927.167142857135,42979.83375,42960.60142857144,42985.48285714286,42985.21482412572,42899.01285714287,42860.00571428572,42827.02,43017.277142857136,43002.505],\"high\":[43588.68,43495.95402838,43455.2184781,43454.99,43467.0,43405.0,43407.7,43350.0,43344.99,43315.99,43317.0,43318.8,43353.43,43363.82,43341.56,43372.8,43436.99,43512.7,43581.88,43750.27,43749.6,43636.4,43587.1,43609.1,43617.0,43611.11,43634.01,43715.6675949,43707.74,43763.7,43766.35,43798.21,43780.0,43726.0,43731.0,43702.91,43684.24,43773.35,43784.1,43818.17,43810.0,43766.0,43790.0,43774.0,43760.01,43763.66,43773.4,43768.62,43776.0,43768.53,43750.0,43746.7,43708.0,43701.5,43701.5,43689.0,43716.49468404,43709.0,43703.62,43723.37,43708.47,43754.58,43757.98,43776.38,43882.75,43913.83,43813.0,43788.8,43704.19,43738.0,43746.19,43747.0,43672.0,43639.5,43651.0,43647.45,43582.0,43550.99,43524.0,43618.15,43652.3,43587.51,43654.6,43682.6,43646.0,43614.93123772,43660.09,43708.05,43744.4,43776.1,43785.75,43779.05,43756.0,43782.7,43777.2,43782.74,43830.0,43835.6,43835.5,43833.6,43867.04,43805.3,43861.08,43848.1,43860.78,43866.41,43840.14,43808.31,43800.0,43812.4,43818.6,43818.4,43821.1,43840.7,43910.99,43912.1,43940.0,43912.0,43908.5,43906.71,43906.73,43874.98,43851.4,43843.87,43782.1,43721.3,43699.8,43679.99,43633.3,43560.02,43417.91,43354.59,43359.44,43259.3,43281.0,43301.61947119,43320.02,43348.22,43366.0,43391.85,43376.0,43546.61,43640.0,43627.0,43455.0,43276.57,43366.0,43288.47,43287.5,43133.15,43099.98,43072.2,43069.67,43289.9,43350.5,43229.1,43247.5,43193.54,43172.9,43122.0,43082.02,43029.49,43015.0,42897.0,42884.85,42836.33,42811.0,42852.0,42719.98,42779.1,42703.01,42650.0,42705.0,42802.54,42862.0,42877.82,42846.0,42833.9,42841.99,42736.9,42819.38,42827.1,42811.3,42752.0,42715.99,42810.26,42828.0,42827.7,42937.31,42966.98,42971.95,43014.98,43005.65,43008.85,43006.54,43001.85084871,42932.0,42887.5,43042.16,43048.51],\"low\":[43427.28,43414.33,43327.29,43348.06,43351.15,43280.0,43284.12,43283.74,43240.01,43261.26,43217.6,43207.55,43268.05,43278.42,43272.19,43287.88,43350.2,43387.95,43487.66,43527.56,43600.0,43538.26,43426.2,43431.57,43436.46,43476.65,43525.5,43585.4,43647.65,43676.9,43702.98,43709.75,43706.19,43683.73,43669.67,43638.92,43631.17,43662.11,43729.9,43730.0,43732.41,43725.22,43739.3,43722.3,43717.71,43686.54,43695.18,43733.8,43729.06,43730.17,43705.92,43691.2,43665.84,43657.79,43663.42,43658.2,43663.48,43669.1,43669.1,43659.05,43669.2,43677.4,43718.9,43742.1,43754.67,43790.01,43750.89,43672.6,43669.13,43683.08,43689.3,43641.65,43584.69,43583.4,43608.15,43522.0,43504.1,43464.86,43462.56,43499.99,43548.51,43538.67,43534.0,43616.54,43521.92,43514.09,43593.43,43644.1,43682.67,43688.1,43712.74,43701.41,43700.0,43665.29,43678.37,43718.44,43758.4,43763.01,43772.0,43772.75,43741.3,43760.3,43788.96,43788.53,43780.41,43816.96,43762.7,43742.7,43750.0,43759.23,43766.7,43757.17,43782.18,43795.58,43823.74,43842.5,43875.72,43866.3,43847.0,43835.66,43850.16,43832.56,43813.11,43746.0,43687.0,43650.01,43627.29,43600.0,43499.99,43350.4,43295.74,43278.42,43221.04,43003.84,43067.0,43172.38,43172.0,43220.67,43261.3,43333.51,43283.1,43335.64,43441.56,43428.8,43172.9,43133.08,43209.9,43218.81,43062.9,43050.9,43019.49,42930.14,42967.33,42969.79,43106.01,43026.47,43092.88,43064.36,43058.56,43007.67,42898.8,42900.0,42801.0,42795.45,42659.29112887,42660.05,42651.4,42672.8,42640.0,42575.0,42579.4,42515.09,42548.09,42626.61,42660.7,42743.68,42688.55,42731.17,42600.0,42607.5,42690.84,42690.75,42694.37,42636.76,42630.17,42662.27,42742.36,42713.48,42713.48,42852.07,42899.1,42907.18,42929.74,42953.1,42958.06,42878.26,42840.16,42797.2,42818.1,42961.64],\"open\":[43558.39375,43449.81857142858,43427.0823097625,43362.572857142855,43419.8325,43368.71625,43393.847142857136,43329.654285714285,43335.71432474571,43275.938571428575,43301.834285714285,43232.93714285714,43297.98428571429,43336.64,43333.63142857143,43314.74000000001,43364.94875,43408.08714285715,43504.69050787143,43563.5475,43734.17517274572,43622.09142833857,43556.59375,43455.175,43574.825,43520.28,43576.7775,43622.23555296,43692.88857142858,43693.87714285714,43746.07428571429,43732.60428571428,43769.21714285714,43713.06428571429,43696.00375,43671.81428571429,43658.32428571429,43678.86,43747.11558816286,43763.66857142857,43801.88285714287,43743.70142857143,43760.135,43757.962857142855,43746.89571428572,43752.36571428572,43706.63459625,43754.938571428575,43751.42502128715,43747.71428571428,43741.16142857143,43718.720000000016,43697.06571428572,43678.72571428572,43687.59428571429,43674.66142857143,43674.23,43699.485714285714,43693.75714285714,43686.042857142864,43680.84285714286,43703.04380334572,43737.424990827145,43748.792857142864,43764.222193155,43867.28649138286,43796.17000235,43764.80711541429,43683.29195864715,43694.014285714286,43724.80857142858,43734.218571428566,43648.50714285714,43595.79378934143,43622.90857142857,43635.26571428571,43561.49245584857,43540.261460078575,43481.81571428572,43514.376468365714,43617.79142857143,43571.87298438429,43552.88571428572,43628.438571428575,43627.27428571428,43537.74857142858,43605.25142857143,43650.830000000016,43700.829614364295,43709.82420531143,43729.398571428566,43758.39428571429,43711.38000000001,43711.45285714285,43709.3575,43745.652857142864,43771.43571428571,43811.9775,43826.62833333333,43809.957142857136,43813.72,43780.97162221715,43805.69142857142,43832.400000000016,43801.23428571429,43846.09142857143,43828.874285714286,43786.38571428572,43771.014285714286,43774.80714285715,43798.41857142857,43794.84032981571,43807.66285714285,43807.34428571429,43836.9875,43872.08714285714,43900.88857142856,43901.008571428574,43890.30857142857,43858.474285714285,43893.88166666668,43866.00571428572,43843.235714285714,43821.555714285714,43752.37,43704.62857142857,43671.72,43644.06142857143,43610.07408044428,43504.71428571428,43365.91375,43313.70812588,43296.055714285714,43239.0175,43092.85375,43251.94250000001,43264.50125,43307.44571428571,43296.88375,43341.862857142856,43353.12,43365.74875000001,43477.0875,43588.102500000015,43447.60285714286,43205.55625,43234.95285714286,43267.83,43229.50125,43106.66925542,43064.47714285714,43054.81000000001,43002.9225,42998.535,43227.1275,43122.16,43192.76624999999,43106.25997366144,43159.91625,43085.22049047715,43049.56714285714,42972.15714285714,42979.09125000001,42873.23000000002,42815.11375,42707.930000000015,42766.4325,42775.73125,42694.57285714285,42675.71750000001,42599.647142857146,42620.29375,42577.715,42683.24375,42673.72571428572,42768.39625000001,42819.91125,42750.58285714287,42760.10875,42632.465,42718.815,42772.92125,42762.29,42703.80250000001,42655.528483642855,42688.935,42790.287142857145,42792.855714285724,42745.15375,42896.17428571428,42937.78428571428,42933.25490686,42974.10869267286,42971.347142857136,42982.91571428572,42983.779999999984,42904.19714285714,42859.38571428572,42839.01280218857,43009.96125],\"x\":[1632170460,1632170520,1632170580,1632170640,1632170700,1632170760,1632170820,1632170880,1632170940,1632171000,1632171060,1632171120,1632171180,1632171240,1632171300,1632171360,1632171420,1632171480,1632171540,1632171600,1632171660,1632171720,1632171780,1632171840,1632171900,1632171960,1632172020,1632172080,1632172140,1632172200,1632172260,1632172320,1632172380,1632172440,1632172500,1632172560,1632172620,1632172680,1632172740,1632172800,1632172860,1632172920,1632172980,1632173040,1632173100,1632173160,1632173220,1632173280,1632173340,1632173400,1632173460,1632173520,1632173580,1632173640,1632173700,1632173760,1632173820,1632173880,1632173940,1632174000,1632174060,1632174120,1632174180,1632174240,1632174300,1632174360,1632174420,1632174480,1632174540,1632174600,1632174660,1632174720,1632174780,1632174840,1632174900,1632174960,1632175020,1632175080,1632175140,1632175200,1632175260,1632175320,1632175380,1632175440,1632175500,1632175560,1632175620,1632175680,1632175740,1632175800,1632175860,1632175920,1632175980,1632176040,1632176100,1632176160,1632176220,1632176280,1632176340,1632176400,1632176460,1632176520,1632176580,1632176640,1632176700,1632176760,1632176820,1632176880,1632176940,1632177000,1632177060,1632177120,1632177180,1632177240,1632177300,1632177360,1632177420,1632177480,1632177540,1632177600,1632177660,1632177720,1632177780,1632177840,1632177900,1632177960,1632178020,1632178080,1632178140,1632178200,1632178260,1632178320,1632178380,1632178440,1632178500,1632178560,1632178620,1632178680,1632178740,1632178800,1632178860,1632178920,1632178980,1632179040,1632179100,1632179160,1632179220,1632179280,1632179340,1632179400,1632179460,1632179520,1632179580,1632179640,1632179700,1632179760,1632179820,1632179880,1632179940,1632180000,1632180060,1632180120,1632180180,1632180240,1632180300,1632180360,1632180420,1632180480,1632180540,1632180600,1632180660,1632180720,1632180780,1632180840,1632180900,1632180960,1632181020,1632181080,1632181140,1632181200,1632181260,1632181320,1632181380,1632181440,1632181500,1632181560,1632181620,1632181680,1632181740,1632181800,1632181860,1632181920,1632181980,1632182040,1632182100,1632182160,1632182220,1632182280,1632182340,1632182400],\"type\":\"candlestick\"}],                        {\"template\":{\"data\":{\"histogram2dcontour\":[{\"type\":\"histogram2dcontour\",\"colorbar\":{\"outlinewidth\":0,\"ticks\":\"\"},\"colorscale\":[[0.0,\"#0d0887\"],[0.1111111111111111,\"#46039f\"],[0.2222222222222222,\"#7201a8\"],[0.3333333333333333,\"#9c179e\"],[0.4444444444444444,\"#bd3786\"],[0.5555555555555556,\"#d8576b\"],[0.6666666666666666,\"#ed7953\"],[0.7777777777777778,\"#fb9f3a\"],[0.8888888888888888,\"#fdca26\"],[1.0,\"#f0f921\"]]}],\"choropleth\":[{\"type\":\"choropleth\",\"colorbar\":{\"outlinewidth\":0,\"ticks\":\"\"}}],\"histogram2d\":[{\"type\":\"histogram2d\",\"colorbar\":{\"outlinewidth\":0,\"ticks\":\"\"},\"colorscale\":[[0.0,\"#0d0887\"],[0.1111111111111111,\"#46039f\"],[0.2222222222222222,\"#7201a8\"],[0.3333333333333333,\"#9c179e\"],[0.4444444444444444,\"#bd3786\"],[0.5555555555555556,\"#d8576b\"],[0.6666666666666666,\"#ed7953\"],[0.7777777777777778,\"#fb9f3a\"],[0.8888888888888888,\"#fdca26\"],[1.0,\"#f0f921\"]]}],\"heatmap\":[{\"type\":\"heatmap\",\"colorbar\":{\"outlinewidth\":0,\"ticks\":\"\"},\"colorscale\":[[0.0,\"#0d0887\"],[0.1111111111111111,\"#46039f\"],[0.2222222222222222,\"#7201a8\"],[0.3333333333333333,\"#9c179e\"],[0.4444444444444444,\"#bd3786\"],[0.5555555555555556,\"#d8576b\"],[0.6666666666666666,\"#ed7953\"],[0.7777777777777778,\"#fb9f3a\"],[0.8888888888888888,\"#fdca26\"],[1.0,\"#f0f921\"]]}],\"heatmapgl\":[{\"type\":\"heatmapgl\",\"colorbar\":{\"outlinewidth\":0,\"ticks\":\"\"},\"colorscale\":[[0.0,\"#0d0887\"],[0.1111111111111111,\"#46039f\"],[0.2222222222222222,\"#7201a8\"],[0.3333333333333333,\"#9c179e\"],[0.4444444444444444,\"#bd3786\"],[0.5555555555555556,\"#d8576b\"],[0.6666666666666666,\"#ed7953\"],[0.7777777777777778,\"#fb9f3a\"],[0.8888888888888888,\"#fdca26\"],[1.0,\"#f0f921\"]]}],\"contourcarpet\":[{\"type\":\"contourcarpet\",\"colorbar\":{\"outlinewidth\":0,\"ticks\":\"\"}}],\"contour\":[{\"type\":\"contour\",\"colorbar\":{\"outlinewidth\":0,\"ticks\":\"\"},\"colorscale\":[[0.0,\"#0d0887\"],[0.1111111111111111,\"#46039f\"],[0.2222222222222222,\"#7201a8\"],[0.3333333333333333,\"#9c179e\"],[0.4444444444444444,\"#bd3786\"],[0.5555555555555556,\"#d8576b\"],[0.6666666666666666,\"#ed7953\"],[0.7777777777777778,\"#fb9f3a\"],[0.8888888888888888,\"#fdca26\"],[1.0,\"#f0f921\"]]}],\"surface\":[{\"type\":\"surface\",\"colorbar\":{\"outlinewidth\":0,\"ticks\":\"\"},\"colorscale\":[[0.0,\"#0d0887\"],[0.1111111111111111,\"#46039f\"],[0.2222222222222222,\"#7201a8\"],[0.3333333333333333,\"#9c179e\"],[0.4444444444444444,\"#bd3786\"],[0.5555555555555556,\"#d8576b\"],[0.6666666666666666,\"#ed7953\"],[0.7777777777777778,\"#fb9f3a\"],[0.8888888888888888,\"#fdca26\"],[1.0,\"#f0f921\"]]}],\"mesh3d\":[{\"type\":\"mesh3d\",\"colorbar\":{\"outlinewidth\":0,\"ticks\":\"\"}}],\"scatter\":[{\"fillpattern\":{\"fillmode\":\"overlay\",\"size\":10,\"solidity\":0.2},\"type\":\"scatter\"}],\"parcoords\":[{\"type\":\"parcoords\",\"line\":{\"colorbar\":{\"outlinewidth\":0,\"ticks\":\"\"}}}],\"scatterpolargl\":[{\"type\":\"scatterpolargl\",\"marker\":{\"colorbar\":{\"outlinewidth\":0,\"ticks\":\"\"}}}],\"bar\":[{\"error_x\":{\"color\":\"#2a3f5f\"},\"error_y\":{\"color\":\"#2a3f5f\"},\"marker\":{\"line\":{\"color\":\"#E5ECF6\",\"width\":0.5},\"pattern\":{\"fillmode\":\"overlay\",\"size\":10,\"solidity\":0.2}},\"type\":\"bar\"}],\"scattergeo\":[{\"type\":\"scattergeo\",\"marker\":{\"colorbar\":{\"outlinewidth\":0,\"ticks\":\"\"}}}],\"scatterpolar\":[{\"type\":\"scatterpolar\",\"marker\":{\"colorbar\":{\"outlinewidth\":0,\"ticks\":\"\"}}}],\"histogram\":[{\"marker\":{\"pattern\":{\"fillmode\":\"overlay\",\"size\":10,\"solidity\":0.2}},\"type\":\"histogram\"}],\"scattergl\":[{\"type\":\"scattergl\",\"marker\":{\"colorbar\":{\"outlinewidth\":0,\"ticks\":\"\"}}}],\"scatter3d\":[{\"type\":\"scatter3d\",\"line\":{\"colorbar\":{\"outlinewidth\":0,\"ticks\":\"\"}},\"marker\":{\"colorbar\":{\"outlinewidth\":0,\"ticks\":\"\"}}}],\"scattermapbox\":[{\"type\":\"scattermapbox\",\"marker\":{\"colorbar\":{\"outlinewidth\":0,\"ticks\":\"\"}}}],\"scatterternary\":[{\"type\":\"scatterternary\",\"marker\":{\"colorbar\":{\"outlinewidth\":0,\"ticks\":\"\"}}}],\"scattercarpet\":[{\"type\":\"scattercarpet\",\"marker\":{\"colorbar\":{\"outlinewidth\":0,\"ticks\":\"\"}}}],\"carpet\":[{\"aaxis\":{\"endlinecolor\":\"#2a3f5f\",\"gridcolor\":\"white\",\"linecolor\":\"white\",\"minorgridcolor\":\"white\",\"startlinecolor\":\"#2a3f5f\"},\"baxis\":{\"endlinecolor\":\"#2a3f5f\",\"gridcolor\":\"white\",\"linecolor\":\"white\",\"minorgridcolor\":\"white\",\"startlinecolor\":\"#2a3f5f\"},\"type\":\"carpet\"}],\"table\":[{\"cells\":{\"fill\":{\"color\":\"#EBF0F8\"},\"line\":{\"color\":\"white\"}},\"header\":{\"fill\":{\"color\":\"#C8D4E3\"},\"line\":{\"color\":\"white\"}},\"type\":\"table\"}],\"barpolar\":[{\"marker\":{\"line\":{\"color\":\"#E5ECF6\",\"width\":0.5},\"pattern\":{\"fillmode\":\"overlay\",\"size\":10,\"solidity\":0.2}},\"type\":\"barpolar\"}],\"pie\":[{\"automargin\":true,\"type\":\"pie\"}]},\"layout\":{\"autotypenumbers\":\"strict\",\"colorway\":[\"#636efa\",\"#EF553B\",\"#00cc96\",\"#ab63fa\",\"#FFA15A\",\"#19d3f3\",\"#FF6692\",\"#B6E880\",\"#FF97FF\",\"#FECB52\"],\"font\":{\"color\":\"#2a3f5f\"},\"hovermode\":\"closest\",\"hoverlabel\":{\"align\":\"left\"},\"paper_bgcolor\":\"white\",\"plot_bgcolor\":\"#E5ECF6\",\"polar\":{\"bgcolor\":\"#E5ECF6\",\"angularaxis\":{\"gridcolor\":\"white\",\"linecolor\":\"white\",\"ticks\":\"\"},\"radialaxis\":{\"gridcolor\":\"white\",\"linecolor\":\"white\",\"ticks\":\"\"}},\"ternary\":{\"bgcolor\":\"#E5ECF6\",\"aaxis\":{\"gridcolor\":\"white\",\"linecolor\":\"white\",\"ticks\":\"\"},\"baxis\":{\"gridcolor\":\"white\",\"linecolor\":\"white\",\"ticks\":\"\"},\"caxis\":{\"gridcolor\":\"white\",\"linecolor\":\"white\",\"ticks\":\"\"}},\"coloraxis\":{\"colorbar\":{\"outlinewidth\":0,\"ticks\":\"\"}},\"colorscale\":{\"sequential\":[[0.0,\"#0d0887\"],[0.1111111111111111,\"#46039f\"],[0.2222222222222222,\"#7201a8\"],[0.3333333333333333,\"#9c179e\"],[0.4444444444444444,\"#bd3786\"],[0.5555555555555556,\"#d8576b\"],[0.6666666666666666,\"#ed7953\"],[0.7777777777777778,\"#fb9f3a\"],[0.8888888888888888,\"#fdca26\"],[1.0,\"#f0f921\"]],\"sequentialminus\":[[0.0,\"#0d0887\"],[0.1111111111111111,\"#46039f\"],[0.2222222222222222,\"#7201a8\"],[0.3333333333333333,\"#9c179e\"],[0.4444444444444444,\"#bd3786\"],[0.5555555555555556,\"#d8576b\"],[0.6666666666666666,\"#ed7953\"],[0.7777777777777778,\"#fb9f3a\"],[0.8888888888888888,\"#fdca26\"],[1.0,\"#f0f921\"]],\"diverging\":[[0,\"#8e0152\"],[0.1,\"#c51b7d\"],[0.2,\"#de77ae\"],[0.3,\"#f1b6da\"],[0.4,\"#fde0ef\"],[0.5,\"#f7f7f7\"],[0.6,\"#e6f5d0\"],[0.7,\"#b8e186\"],[0.8,\"#7fbc41\"],[0.9,\"#4d9221\"],[1,\"#276419\"]]},\"xaxis\":{\"gridcolor\":\"white\",\"linecolor\":\"white\",\"ticks\":\"\",\"title\":{\"standoff\":15},\"zerolinecolor\":\"white\",\"automargin\":true,\"zerolinewidth\":2},\"yaxis\":{\"gridcolor\":\"white\",\"linecolor\":\"white\",\"ticks\":\"\",\"title\":{\"standoff\":15},\"zerolinecolor\":\"white\",\"automargin\":true,\"zerolinewidth\":2},\"scene\":{\"xaxis\":{\"backgroundcolor\":\"#E5ECF6\",\"gridcolor\":\"white\",\"linecolor\":\"white\",\"showbackground\":true,\"ticks\":\"\",\"zerolinecolor\":\"white\",\"gridwidth\":2},\"yaxis\":{\"backgroundcolor\":\"#E5ECF6\",\"gridcolor\":\"white\",\"linecolor\":\"white\",\"showbackground\":true,\"ticks\":\"\",\"zerolinecolor\":\"white\",\"gridwidth\":2},\"zaxis\":{\"backgroundcolor\":\"#E5ECF6\",\"gridcolor\":\"white\",\"linecolor\":\"white\",\"showbackground\":true,\"ticks\":\"\",\"zerolinecolor\":\"white\",\"gridwidth\":2}},\"shapedefaults\":{\"line\":{\"color\":\"#2a3f5f\"}},\"annotationdefaults\":{\"arrowcolor\":\"#2a3f5f\",\"arrowhead\":0,\"arrowwidth\":1},\"geo\":{\"bgcolor\":\"white\",\"landcolor\":\"#E5ECF6\",\"subunitcolor\":\"white\",\"showland\":true,\"showlakes\":true,\"lakecolor\":\"white\"},\"title\":{\"x\":0.05},\"mapbox\":{\"style\":\"light\"}}}},                        {\"responsive\": true}                    ).then(function(){\n",
              "                            \n",
              "var gd = document.getElementById('6d5bbed4-31a0-4c91-a1d5-8d971e36b48d');\n",
              "var x = new MutationObserver(function (mutations, observer) {{\n",
              "        var display = window.getComputedStyle(gd).display;\n",
              "        if (!display || display === 'none') {{\n",
              "            console.log([gd, 'removed!']);\n",
              "            Plotly.purge(gd);\n",
              "            observer.disconnect();\n",
              "        }}\n",
              "}});\n",
              "\n",
              "// Listen for the removal of the full notebook cells\n",
              "var notebookContainer = gd.closest('#notebook-container');\n",
              "if (notebookContainer) {{\n",
              "    x.observe(notebookContainer, {childList: true});\n",
              "}}\n",
              "\n",
              "// Listen for the clearing of the current output cell\n",
              "var outputEl = gd.closest('.output');\n",
              "if (outputEl) {{\n",
              "    x.observe(outputEl, {childList: true});\n",
              "}}\n",
              "\n",
              "                        })                };                            </script>        </div>\n",
              "</body>\n",
              "</html>"
            ]
          },
          "metadata": {}
        }
      ]
    },
    {
      "cell_type": "markdown",
      "source": [
        "## Preprocessing\n",
        "\n",
        "### Dealing with missing data\n",
        "\n",
        "- Missing asset data, for a given minute, is not represented by NaN's, but instead by the absence of those rows. Can check the timestamp difference between consecutive rows to see if there is missing data."
      ],
      "metadata": {
        "id": "PmoZE4RT_v5l"
      }
    },
    {
      "cell_type": "code",
      "source": [
        "assets = [bnn, btc, btcc, crd, doge, eos, eth, ethc, iota, lite, maker, mon, stl, tron]\n",
        "\n",
        "for i in assets:\n",
        "  # check the time gaps\n",
        "  print((i.index[1:] - i.index[:-1]).value_counts().head())\n",
        "  i += 1"
      ],
      "metadata": {
        "id": "DrPo29PyLgT6"
      },
      "execution_count": null,
      "outputs": []
    },
    {
      "cell_type": "code",
      "source": [
        "bnn = bnn.reindex(range(bnn.index[0], bnn.index[-1]+60,60), method='pad')\n",
        "btc = btc.reindex(range(btc.index[0], btc.index[-1]+60,60), method='pad')\n",
        "btcc = btcc.reindex(range(btcc.index[0], btcc.index[-1]+60,60), method='pad')\n",
        "crd = crd.reindex(range(crd.index[0], crd.index[-1]+60,60), method='pad')\n",
        "doge = doge.reindex(range(doge.index[0], doge.index[-1]+60,60), method='pad')\n",
        "eos = eos.reindex(range(eos.index[0], eos.index[-1]+60,60), method='pad')\n",
        "eth = eth.reindex(range(eth.index[0], eth.index[-1]+60,60), method='pad')\n",
        "ethc = ethc.reindex(range(ethc.index[0], ethc.index[-1]+60,60), method='pad')\n",
        "iota = iota.reindex(range(iota.index[0], iota.index[-1]+60,60), method='pad')\n",
        "lite = lite.reindex(range(lite.index[0], lite.index[-1]+60,60), method='pad')\n",
        "maker = maker.reindex(range(maker.index[0], maker.index[-1]+60,60), method='pad')\n",
        "mon = mon.reindex(range(mon.index[0], mon.index[-1]+60,60), method='pad')\n",
        "stl = stl.reindex(range(stl.index[0], stl.index[-1]+60,60), method='pad')\n",
        "tron = tron.reindex(range(tron.index[0], tron.index[-1]+60,60), method='pad')"
      ],
      "metadata": {
        "id": "jWJuwLlx8JF_"
      },
      "execution_count": null,
      "outputs": []
    },
    {
      "cell_type": "code",
      "source": [
        "# check\n",
        "(tron.index[1:] - tron.index[:-1]).value_counts().head()"
      ],
      "metadata": {
        "id": "Ok4RqPtBOX5u"
      },
      "execution_count": null,
      "outputs": []
    },
    {
      "cell_type": "markdown",
      "source": [
        "## Visualization for the support\n",
        "\n",
        "In order to analyze price changes for an asset we can deal with the price difference. However, different assets exhibit different price scales, so that the their returns are not readily comparable. We can solve this problem by computing the percentage change in price instead, also known as the return. This return coincides with the percentage change in our invested capital.\n",
        "\n",
        "Returns are widely used in finance, however log returns are preferred for mathematical modelling of time series, as they are additive across time. Also, while regular returns cannot go below -100%, log returns are not bounded.\n",
        "\n",
        "To compute the log return, we can simply take the logarithm of the ratio between two consecutive prices. The first row will have an empty return as the previous value is unknown, therefore the empty return data point will be dropped.\n",
        "\n",
        "### Log returns"
      ],
      "metadata": {
        "id": "otKISHUhRo-v"
      }
    },
    {
      "cell_type": "markdown",
      "source": [
        "### Correlation matrix"
      ],
      "metadata": {
        "id": "eB5DrThJRyam"
      }
    },
    {
      "cell_type": "code",
      "source": [
        "# create dataframe with returns for all assets\n",
        "all_assets_2021 = pd.DataFrame([])\n",
        "for asset_id, asset_name in zip(asset_details.Asset_ID, asset_details.Asset_Name):\n",
        "  asset = df[df[\"Asset_ID\"]==asset_id].set_index(\"timestamp\")\n",
        "  asset = asset.loc[totimestamp('12/01/2021'):totimestamp('12/05/2021')]\n",
        "  asset = asset.reindex(range(asset.index[0],asset.index[-1]+60,60),method='pad')\n",
        "  lret = log_return(asset.Close.fillna(0))[1:]\n",
        "  all_assets_2021 = all_assets_2021.join(lret, rsuffix=asset_name, how=\"outer\")"
      ],
      "metadata": {
        "id": "zIvQEPJsRoR2"
      },
      "execution_count": null,
      "outputs": []
    },
    {
      "cell_type": "code",
      "source": [
        "plt.imshow(all_assets_2021.corr());\n",
        "plt.yticks(range(14), asset_details.Asset_Name.values);\n",
        "plt.xticks(range(14), asset_details.Asset_Name.values, rotation='vertical');\n",
        "plt.colorbar();"
      ],
      "metadata": {
        "colab": {
          "base_uri": "https://localhost:8080/",
          "height": 346
        },
        "id": "vifYKN0KSBxH",
        "outputId": "45922501-133a-48ce-eaa4-aa79b1543dfe"
      },
      "execution_count": null,
      "outputs": [
        {
          "output_type": "display_data",
          "data": {
            "text/plain": [
              "<Figure size 432x288 with 2 Axes>"
            ],
            "image/png": "[encoded data removed]"
          },
          "metadata": {
            "needs_background": "light"
          }
        }
      ]
    },
    {
      "cell_type": "markdown",
      "source": [
        "The matrix indicates the correlation between all assets.  \n",
        "Highlights:\n",
        "- Ethereum and Bitcoin are relatively highly correlated.\n",
        "- Ethereum Classic, IOTA, and Dogecoin are barely correlated to others."
      ],
      "metadata": {
        "id": "7_4hh9YxbJ8n"
      }
    },
    {
      "cell_type": "markdown",
      "source": [
        "## Building a prediction model\n",
        "\n",
        "### Feature engineering\n",
        "\n",
        "https://www.kaggle.com/code/cstein06/tutorial-to-the-g-research-crypto-competition?scriptVersionId=84976518&cellId=51\n",
        "\n",
        "y = Target, which is derived from log returns over 15 minutes.  \n",
        "\n",
        "Some rows have null values for targets due to missing values in future prices. Rows with nulls in the test set ground truth are ignored for scoring purposes.\n",
        "\n",
        "In the competition, your predictions will be evaluated on a weighted version of the Pearson correlation coefficient, with weights given by the Weight column in the Asset Details file."
      ],
      "metadata": {
        "id": "KDMrRSc3Dvzt"
      }
    },
    {
      "cell_type": "code",
      "source": [
        "def reduce_mem_usage(df):\n",
        "    \"\"\" iterate through all the columns of a dataframe and modify the data type\n",
        "        to reduce memory usage.\n",
        "    \"\"\"\n",
        "    start_mem = df.memory_usage().sum() / 1024**2\n",
        "    print('Memory usage of dataframe is {:.2f} MB'.format(start_mem))\n",
        "\n",
        "    for col in df.columns:\n",
        "        col_type = df[col].dtype\n",
        "\n",
        "        c_min = df[col].min()\n",
        "        c_max = df[col].max()\n",
        "        if str(col_type)[:3] == 'int':\n",
        "            if c_min > np.iinfo(np.int8).min and c_max < np.iinfo(np.int8).max:\n",
        "                df[col] = df[col].astype(np.int8)\n",
        "            elif c_min > np.iinfo(np.int16).min and c_max < np.iinfo(np.int16).max:\n",
        "                df[col] = df[col].astype(np.int16)\n",
        "            elif c_min > np.iinfo(np.int32).min and c_max < np.iinfo(np.int32).max:\n",
        "                df[col] = df[col].astype(np.int32)\n",
        "            elif c_min > np.iinfo(np.int64).min and c_max < np.iinfo(np.int64).max:\n",
        "                df[col] = df[col].astype(np.int64)\n",
        "        else:\n",
        "            if c_min > np.finfo(np.float16).min and c_max < np.finfo(np.float16).max:\n",
        "                df[col] = df[col].astype(np.float16)\n",
        "            elif c_min > np.finfo(np.float32).min and c_max < np.finfo(np.float32).max:\n",
        "                df[col] = df[col].astype(np.float32)\n",
        "            else:\n",
        "                df[col] = df[col].astype(np.float64)\n",
        "\n",
        "    end_mem = df.memory_usage().sum() / 1024**2\n",
        "    print('Memory usage after optimization is: {:.2f} MB'.format(end_mem))\n",
        "    print('Decreased by {:.1f}%'.format(100 * (start_mem - end_mem) / start_mem))\n",
        "\n",
        "    return df"
      ],
      "metadata": {
        "id": "XfaDkqCB3Yps"
      },
      "execution_count": null,
      "outputs": []
    },
    {
      "cell_type": "code",
      "source": [
        "#Building general model for market movement ignoring individual crypto coins"
      ],
      "metadata": {
        "id": "glxueB8rbNkB"
      },
      "execution_count": null,
      "outputs": []
    },
    {
      "cell_type": "code",
      "source": [
        "seed0 = 0\n",
        "params = {\n",
        "    'early_stopping_rounds': 50,\n",
        "    'objective': 'regression',\n",
        "    'metric': 'rmse',\n",
        "    'boosting_type': 'gbdt',\n",
        "    'max_depth': 10,\n",
        "    'verbose': -1,\n",
        "    'max_bin':600,\n",
        "    'min_data_in_leaf':50,\n",
        "    'learning_rate': 0.03,\n",
        "    'subsample': 0.7,\n",
        "    'subsample_freq': 1,\n",
        "    'feature_fraction': 1,\n",
        "    'lambda_l1': 0.5,\n",
        "    'lambda_l2': 1,\n",
        "    'seed':seed0,\n",
        "    'feature_fraction_seed': seed0,\n",
        "    'bagging_fraction_seed': seed0,\n",
        "    'drop_seed': seed0,\n",
        "    'data_random_seed': seed0,\n",
        "    'extra_trees': True,\n",
        "    'extra_seed': seed0,\n",
        "    'zero_as_missing': True,\n",
        "    \"first_metric_only\": True\n",
        "         }"
      ],
      "metadata": {
        "id": "kMSjJbG-i23x"
      },
      "execution_count": null,
      "outputs": []
    },
    {
      "cell_type": "code",
      "source": [
        "from lightgbm import LGBMRegressor\n",
        "import lightgbm as lgb\n",
        "\n",
        "# define function to compute log returns\n",
        "def log_return(series, periods = 1):\n",
        "    return (np.log(abs(series))*np.sign(series)).diff(periods=periods)\n",
        "\n",
        "# auxiliary function, from datetime to timestamp\n",
        "totimestamp = lambda s: np.int32(time.mktime(datetime.strptime(s, \"%d/%m/%Y\").timetuple()))\n",
        "\n",
        "def plot_importance(importances, features_names, PLOT_TOP_N = 20, figsize=(10, 10)):\n",
        "    importance_df = pd.DataFrame(data=importances, columns=features_names)\n",
        "    sorted_indices = importance_df.median(axis=0).sort_values(ascending=False).index\n",
        "    sorted_importance_df = importance_df.loc[:, sorted_indices]\n",
        "    plot_cols = sorted_importance_df.columns[:PLOT_TOP_N]\n",
        "    _, ax = plt.subplots(figsize=figsize)\n",
        "    ax.grid()\n",
        "    ax.set_xscale('log')\n",
        "    ax.set_ylabel('Feature')\n",
        "    ax.set_xlabel('Importance')\n",
        "    sns.boxplot(data=sorted_importance_df[plot_cols],\n",
        "                orient='h',\n",
        "                ax=ax)\n",
        "    plt.show()\n",
        "\n",
        "def sample_data(df, assit_id = None, startDate = '01/01/2020', endDate = '01/01/2021'):\n",
        "  if assit_id:\n",
        "    df = df[df[\"Asset_ID\"] == assit_id].set_index(\"timestamp\")\n",
        "  else:\n",
        "    df = df.groupby(\"timestamp\", as_index=True).mean()\n",
        "  #df = df.drop(\"Asset_ID\", axis=1)\n",
        "  df = df.reindex(range(df.index[0],df.index[-1]+60,60),method='pad')\n",
        "  df = df.loc[totimestamp(startDate):totimestamp(endDate)]\n",
        "  return df\n",
        "\n",
        "# define the evaluation metric\n",
        "def correlation(a, train_data):\n",
        "\n",
        "    b = train_data.get_label()\n",
        "\n",
        "    a = np.ravel(a)\n",
        "    b = np.ravel(b)\n",
        "\n",
        "    len_data = len(a)\n",
        "    mean_a = np.sum(a) / len_data\n",
        "    mean_b = np.sum(b) / len_data\n",
        "    var_a = np.sum(np.square(a - mean_a)) / len_data\n",
        "    var_b = np.sum(np.square(b - mean_b)) / len_data\n",
        "\n",
        "    cov = np.sum((a * b))/len_data - mean_a*mean_b\n",
        "    corr = cov / np.sqrt(var_a * var_b)\n",
        "\n",
        "    return 'corr', corr, True\n",
        "\n",
        "# Two new features from the competition tutorial\n",
        "def upper_shadow(df):\n",
        "    return df['High'] - np.maximum(df['Close'], df['Open'])\n",
        "\n",
        "def lower_shadow(df):\n",
        "    return np.minimum(df['Close'], df['Open']) - df['Low']\n",
        "\n",
        "def feature_select(df):\n",
        "    df = df[['Close', 'Open', 'High', 'Low','Volume', 'VWAP','Target']]#'Open', 'High', 'Low','Volume', 'VWAP',\n",
        "    df['LogReturnOpen(5)'] = log_return(df.Open, 5)\n",
        "    df['LogReturnOpen(15)'] = log_return(df.Open, 15)\n",
        "    df['LogReturnClose(5)'] = log_return(df.Close, 5)\n",
        "    df['LogReturnClose(15)'] = log_return(df.Close, 15)\n",
        "    df['LogReturnHigh(5)'] = log_return(df.High-df.Open, 5)\n",
        "    df['LogReturnHigh(15)'] = log_return(df.High-df.Open, 15)\n",
        "    df['LogReturnOpen(1)'] = log_return(df.Open, 1)\n",
        "    df['LogReturnOpen(3)'] = log_return(df.Open, 3)\n",
        "    df['LogReturnClose(1)'] = log_return(df.Close, 1)\n",
        "    df['LogReturnClose(3)'] = log_return(df.Close, 3)\n",
        "    df['LogReturnHigh(1)'] = log_return(df.High-df.Open, 1)\n",
        "    df['LogReturnHigh(3)'] = log_return(df.High-df.Open, 3)\n",
        "    df['MAClose21'] = df['Close'].rolling(21).mean()\n",
        "    df['MAClose7'] = df['Close'].rolling(7).mean()\n",
        "    df['LogReturnLow(5)'] = log_return(df.Low-df.Open, 5)\n",
        "    df['LogReturnLow(15)'] = log_return(df.Low-df.Open, 15)\n",
        "    df['Upper_Shadow'] = upper_shadow(df)\n",
        "    df['Lower_Shadow'] = lower_shadow(df)\n",
        "    #df = df.drop([\"Close\",\"Open\", \"High\", \"Low\", \"VWAP\"], axis=1)#\"Open\", \"High\", \"Low\", \"VWAP\"\n",
        "    return df\n",
        "\n",
        "def split_Data(df, splits = 5):\n",
        "  start = df.index.start\n",
        "  stop = df.index.stop\n",
        "  stepSize = int((stop - start)/splits)\n",
        "  #stepSize -= stepSize%60\n",
        "  splits = [(start + stepSize*i, start + stepSize*(i+1)) for i in range(splits)]\n",
        "  return splits\n",
        "\n",
        "def train(df, asset_id = None, splits = None, printIt = True):\n",
        "    dataSplits = split_Data(df, splits)\n",
        "    importances = []\n",
        "    oof_pred = []\n",
        "    oof_valid = []\n",
        "    for split in range(splits):\n",
        "      training = dataSplits[:split] + dataSplits[split+1:]\n",
        "      trainingData = []\n",
        "      for tup in training:\n",
        "        trainingData.append(df.loc[list(range(tup[0],tup[1]))])\n",
        "      trainingData = pd.concat(trainingData)\n",
        "      validation = dataSplits[split]\n",
        "      validationData = df.loc[list(range(validation[0],validation[1]))]\n",
        "      X_train, y_train = trainingData[trainingData.columns[:-1]], trainingData[trainingData.columns[-1]]\n",
        "      train_dataset = lgb.Dataset(X_train,\n",
        "                                    y_train.values,\n",
        "                                    feature_name = list(X_train.columns),\n",
        "                                   )\n",
        "\n",
        "      X_val, y_val = validationData[validationData.columns[:-1]], validationData[validationData.columns[-1]]\n",
        "      val_dataset = lgb.Dataset(X_val,\n",
        "                                    y_val.values,\n",
        "                                    feature_name = list(X_val.columns),\n",
        "                                    )\n",
        "      if printIt:\n",
        "        print(\"doing split {} out of {}\".format(split+1, splits))\n",
        "        print(f\"number of train data: {len(X_train)}\")\n",
        "        print(f\"number of val data:   {len(X_val)}\")\n",
        "\n",
        "      model = lgb.train(params = params,\n",
        "                          train_set = train_dataset,\n",
        "                          valid_sets=[train_dataset, val_dataset],\n",
        "                          valid_names=['tr', 'vl'],\n",
        "                          num_boost_round = 5000,\n",
        "                          verbose_eval = 100,\n",
        "                          feval = correlation,\n",
        "                         )\n",
        "      importances.append(model.feature_importance(importance_type='gain'))\n",
        "      #file = f'trained_model_id{asset_id}_fold{split}.pkl'\n",
        "      #pickle.dump(model, open(file, 'wb'))\n",
        "      #print(f\"Trained model was saved to 'trained_model_id{asset_id}_fold{split}.pkl'\")\n",
        "      print(\"\")\n",
        "\n",
        "      oof_pred += list(model.predict(X_val))\n",
        "      oof_valid += list(y_val.values)\n",
        "    if printIt:\n",
        "      print(importances)\n",
        "      plot_importance(np.array(importances),X_train.columns, PLOT_TOP_N = 40, figsize=(10, 5))\n",
        "    return oof_pred, oof_valid"
      ],
      "metadata": {
        "id": "2VVrA5Tvr-jv"
      },
      "execution_count": null,
      "outputs": []
    },
    {
      "cell_type": "code",
      "source": [
        "#Feature engineer expected return based on other cryptos\n",
        "\n",
        "def testFeatureTimePrevail(df, myDic, target = \"Target\", assit_id = 0, startDate = '01/01/2020', endDate = '01/01/2021'):\n",
        "  feature, func, i, selected = myDic[0]\n",
        "  if feature == None:\n",
        "    feature = target\n",
        "  xTargetPred = df[[\"timestamp\",\"Asset_ID\", feature]]\n",
        "  xTargetPred = xTargetPred.pivot(index=\"timestamp\", columns='Asset_ID', values=feature)\n",
        "  xTargetPred = xTargetPred[selected]\n",
        "  if func:\n",
        "    rename = lambda x : \"{}({})({}-{})\".format(func.__name__,feature,x,i)\n",
        "    xTargetPred.columns = [rename(x) for x in xTargetPred.columns]\n",
        "    orig = xTargetPred.columns\n",
        "    for col in orig:\n",
        "      xTargetPred[col] = func(xTargetPred[col],i)\n",
        "    #xTargetPred = xTargetPred.drop(orig, axis=1)\n",
        "  else:\n",
        "    rename = lambda x : \"{}({})\".format(feature,x)\n",
        "    xTargetPred.columns = [rename(x) for x in xTargetPred.columns]\n",
        "  if len(myDic) > 1:\n",
        "    for feature, func, i, selected in myDic[1:]:\n",
        "      temp = df[[\"timestamp\",\"Asset_ID\", feature]]\n",
        "      temp = temp.pivot(index=\"timestamp\", columns='Asset_ID', values=feature)\n",
        "      temp = temp[selected]\n",
        "      if func:\n",
        "        rename = lambda x : \"{}({})({}-{})\".format(func.__name__,feature,x,i)\n",
        "        temp.columns = [rename(x) for x in temp.columns]\n",
        "        orig = temp.columns\n",
        "        for col in orig:\n",
        "          temp[col] = func(temp[col],i)\n",
        "      else:\n",
        "        rename = lambda x : \"{}({})\".format(feature,x)\n",
        "        temp.columns = [rename(x) for x in temp.columns]\n",
        "      xTargetPred = pd.merge(xTargetPred, temp, how=\"inner\", on=[\"timestamp\"])\n",
        "  yTargetPred = df[df[\"Asset_ID\"]==assit_id][[\"timestamp\",target]]\n",
        "  targetPred = pd.merge(xTargetPred, yTargetPred, how=\"inner\", on=[\"timestamp\"]).set_index(\"timestamp\")\n",
        "  targetPred.columns = targetPred.columns.astype(str)\n",
        "  targetPred = targetPred.reindex(range(targetPred.index[0],targetPred.index[-1]+60,60),method='pad')\n",
        "  targetPred = targetPred.loc[totimestamp(startDate):totimestamp(endDate)]\n",
        "  xTargetPred = targetPred[targetPred.columns[:-1]].iloc[:-1].reset_index(drop=True)\n",
        "  #xTargetPred = xTargetPred.drop([\"timestamp\"], axis=1)\n",
        "  yTargetPred = targetPred[targetPred.columns[-1]].iloc[1:].reset_index(drop=True)\n",
        "  dfSample = pd.concat([xTargetPred, yTargetPred], axis=1)\n",
        "  dfSample = dfSample.interpolate(method='nearest')\n",
        "  dfSampletest = dfSample.fillna(0)\n",
        "  #dfSample2 = reduce_mem_usage(dfSample.copy())\n",
        "  oof_pred, oof_valid = train(dfSampletest,splits=12)\n",
        "  #print(oof_pred)\n",
        "  #print(oof_valid)\n",
        "  return corr_score(np.array(oof_pred),np.array(oof_valid)), dfSampletest"
      ],
      "metadata": {
        "id": "h7NJtVaAT71I"
      },
      "execution_count": null,
      "outputs": []
    },
    {
      "cell_type": "code",
      "source": [
        "# For CV score calculation\n",
        "def corr_score(pred, valid):\n",
        "    len_data = len(pred)\n",
        "    mean_pred = np.sum(pred) / len_data\n",
        "    mean_valid = np.sum(valid) / len_data\n",
        "    var_pred = np.sum(np.square(pred - mean_pred)) / len_data\n",
        "    var_valid = np.sum(np.square(valid - mean_valid)) / len_data\n",
        "\n",
        "    cov = np.sum((pred * valid))/len_data - mean_pred*mean_valid\n",
        "    corr = cov / np.sqrt(var_pred * var_valid)\n",
        "\n",
        "    return corr\n",
        "\n",
        "# For CV score calculation\n",
        "def wcorr_score(pred, valid, weight):\n",
        "    len_data = len(pred)\n",
        "    sum_w = np.sum(weight)\n",
        "    mean_pred = np.sum(pred * weight) / sum_w\n",
        "    mean_valid = np.sum(valid * weight) / sum_w\n",
        "    var_pred = np.sum(weight * np.square(pred - mean_pred)) / sum_w\n",
        "    var_valid = np.sum(weight * np.square(valid - mean_valid)) / sum_w\n",
        "\n",
        "    cov = np.sum((pred * valid * weight)) / sum_w - mean_pred*mean_valid\n",
        "    corr = cov / np.sqrt(var_pred * var_valid)\n",
        "\n",
        "    return corr"
      ],
      "metadata": {
        "id": "RK9clvJaXHhF"
      },
      "execution_count": null,
      "outputs": []
    },
    {
      "cell_type": "code",
      "source": [
        "df[\"High-Low\"] = df[\"High\"]-df[\"Low\"]\n",
        "df['Upper_Shadow'] = upper_shadow(df)\n",
        "df['Lower_Shadow'] = lower_shadow(df)"
      ],
      "metadata": {
        "id": "ky7qGoDrd5DM"
      },
      "execution_count": null,
      "outputs": []
    },
    {
      "cell_type": "code",
      "source": [
        "corr = []\n",
        "\n",
        "def log_Return(series,i):\n",
        "  return (np.log(abs(series))*np.sign(series)).diff(periods=i)\n",
        "\n",
        "def movingAverage(col, i):\n",
        "  return col.rolling(i).mean()#log_return(col,1).rolling(i).mean()\n",
        "\n",
        "def movingAverageLog_Return(col, i):\n",
        "  return log_return(col,1).rolling(i).mean()\n",
        "\n",
        "myDic = [[col, None, None, [1,2,8,10]] for col in df.columns[:-3]] + [[\"High-Low\",movingAverage,4,[2,5,10,11]],\n",
        "         [\"High-Low\",movingAverage,14,[5,10]],\n",
        "         [\"High-Low\",movingAverage,28,[2,5,10,11]],\n",
        "         [\"Close\",movingAverageLog_Return,14,[8,10,4]],\n",
        "         [\"Close\",movingAverageLog_Return,36,[8,10,4]],\n",
        "         [\"Close\",log_Return,5,[6,10,1]],\n",
        "         [\"Close\",log_Return,14,[10]],\n",
        "         [\"Volume\",log_Return,14,[10,1]],\n",
        "         [\"Volume\",log_Return,30,[8,10,1]],\n",
        "         [\"VWAP\",log_Return,5,[6,10]],\n",
        "         [\"VWAP\",log_Return,14,[6,10,1]],\n",
        "         [\"VWAP\",log_Return,36,[6,10]]]\n",
        "corr, testDF = testFeatureTimePrevail(df, myDic, assit_id = 1)"
      ],
      "metadata": {
        "colab": {
          "base_uri": "https://localhost:8080/",
          "height": 1000
        },
        "id": "YFdDU3ltiNW-",
        "outputId": "204071f7-7ec9-4e5f-907f-7570285670d0"
      },
      "execution_count": null,
      "outputs": [
        {
          "output_type": "stream",
          "name": "stdout",
          "text": [
            "doing split 1 out of 12\n",
            "number of train data: 483120\n",
            "number of val data:   43920\n",
            "Training until validation scores don't improve for 50 rounds\n",
            "[100]\ttr's rmse: 0.0016695\ttr's corr: 0.116369\tvl's rmse: 0.00134194\tvl's corr: 0.0180946\n",
            "Early stopping, best iteration is:\n",
            "[59]\ttr's rmse: 0.0016713\ttr's corr: 0.107001\tvl's rmse: 0.00134177\tvl's corr: 0.0181248\n",
            "Evaluated only: rmse\n",
            "\n",
            "doing split 2 out of 12\n",
            "number of train data: 483120\n",
            "number of val data:   43920\n",
            "Training until validation scores don't improve for 50 rounds\n",
            "[100]\ttr's rmse: 0.00167187\ttr's corr: 0.12427\tvl's rmse: 0.0013049\tvl's corr: 0.0547579\n",
            "Early stopping, best iteration is:\n",
            "[84]\ttr's rmse: 0.00167261\ttr's corr: 0.119994\tvl's rmse: 0.00130465\tvl's corr: 0.0611156\n",
            "Evaluated only: rmse\n",
            "\n",
            "doing split 3 out of 12\n",
            "number of train data: 483120\n",
            "number of val data:   43920\n",
            "Training until validation scores don't improve for 50 rounds\n",
            "[100]\ttr's rmse: 0.00156226\ttr's corr: 0.116678\tvl's rmse: 0.00237807\tvl's corr: 0.0171857\n",
            "Early stopping, best iteration is:\n",
            "[62]\ttr's rmse: 0.00156391\ttr's corr: 0.105996\tvl's rmse: 0.00237774\tvl's corr: 0.0318842\n",
            "Evaluated only: rmse\n",
            "\n",
            "doing split 4 out of 12\n",
            "number of train data: 483120\n",
            "number of val data:   43920\n",
            "Training until validation scores don't improve for 50 rounds\n",
            "Early stopping, best iteration is:\n",
            "[4]\ttr's rmse: 0.00167982\ttr's corr: 0.0758324\tvl's rmse: 0.00127883\tvl's corr: 0.00581599\n",
            "Evaluated only: rmse\n",
            "\n",
            "doing split 5 out of 12\n",
            "number of train data: 483120\n",
            "number of val data:   43920\n",
            "Training until validation scores don't improve for 50 rounds\n",
            "[100]\ttr's rmse: 0.00164373\ttr's corr: 0.125614\tvl's rmse: 0.00164971\tvl's corr: 0.0196081\n",
            "Early stopping, best iteration is:\n",
            "[75]\ttr's rmse: 0.00164493\ttr's corr: 0.120305\tvl's rmse: 0.00164954\tvl's corr: 0.0227623\n",
            "Evaluated only: rmse\n",
            "\n",
            "doing split 6 out of 12\n",
            "number of train data: 483120\n",
            "number of val data:   43920\n",
            "Training until validation scores don't improve for 50 rounds\n",
            "[100]\ttr's rmse: 0.00168439\ttr's corr: 0.12016\tvl's rmse: 0.00111403\tvl's corr: 0.0265697\n",
            "Early stopping, best iteration is:\n",
            "[106]\ttr's rmse: 0.00168415\ttr's corr: 0.121295\tvl's rmse: 0.00111393\tvl's corr: 0.0295212\n",
            "Evaluated only: rmse\n",
            "\n",
            "doing split 7 out of 12\n",
            "number of train data: 483120\n",
            "number of val data:   43920\n",
            "Training until validation scores don't improve for 50 rounds\n",
            "Early stopping, best iteration is:\n",
            "[2]\ttr's rmse: 0.00166322\ttr's corr: 0.0665139\tvl's rmse: 0.00150196\tvl's corr: 0.0122666\n",
            "Evaluated only: rmse\n",
            "\n",
            "doing split 8 out of 12\n",
            "number of train data: 483120\n",
            "number of val data:   43920\n",
            "Training until validation scores don't improve for 50 rounds\n",
            "[100]\ttr's rmse: 0.00167202\ttr's corr: 0.122195\tvl's rmse: 0.001302\tvl's corr: 0.0789901\n",
            "[200]\ttr's rmse: 0.00166849\ttr's corr: 0.14502\tvl's rmse: 0.0013014\tvl's corr: 0.073381\n",
            "Early stopping, best iteration is:\n",
            "[192]\ttr's rmse: 0.00166871\ttr's corr: 0.143536\tvl's rmse: 0.00130137\tvl's corr: 0.0742705\n",
            "Evaluated only: rmse\n",
            "\n",
            "doing split 9 out of 12\n",
            "number of train data: 483120\n",
            "number of val data:   43920\n",
            "Training until validation scores don't improve for 50 rounds\n",
            "Early stopping, best iteration is:\n",
            "[1]\ttr's rmse: 0.0016644\ttr's corr: 0.0544688\tvl's rmse: 0.00148886\tvl's corr: -0.0110128\n",
            "Evaluated only: rmse\n",
            "\n",
            "doing split 10 out of 12\n",
            "number of train data: 483120\n",
            "number of val data:   43920\n",
            "Training until validation scores don't improve for 50 rounds\n",
            "[100]\ttr's rmse: 0.00166458\ttr's corr: 0.12452\tvl's rmse: 0.00140403\tvl's corr: 0.0143853\n",
            "[200]\ttr's rmse: 0.00166086\ttr's corr: 0.146185\tvl's rmse: 0.00140381\tvl's corr: 0.0170802\n",
            "Early stopping, best iteration is:\n",
            "[198]\ttr's rmse: 0.00166093\ttr's corr: 0.146007\tvl's rmse: 0.0014038\tvl's corr: 0.017166\n",
            "Evaluated only: rmse\n",
            "\n",
            "doing split 11 out of 12\n",
            "number of train data: 483120\n",
            "number of val data:   43920\n",
            "Training until validation scores don't improve for 50 rounds\n",
            "Early stopping, best iteration is:\n",
            "[10]\ttr's rmse: 0.00159074\ttr's corr: 0.0904773\tvl's rmse: 0.00219514\tvl's corr: 0.00342573\n",
            "Evaluated only: rmse\n",
            "\n",
            "doing split 12 out of 12\n",
            "number of train data: 483120\n",
            "number of val data:   43920\n",
            "Training until validation scores don't improve for 50 rounds\n",
            "Early stopping, best iteration is:\n",
            "[46]\ttr's rmse: 0.00158457\ttr's corr: 0.105929\tvl's rmse: 0.00222696\tvl's corr: 0.0361223\n",
            "Evaluated only: rmse\n",
            "\n",
            "[array([6.90350101e-04, 1.95453930e-03, 3.76315490e-05, 5.15790998e-06,\n",
            "       1.35480257e-03, 4.26665943e-04, 2.01108646e-04, 6.78339313e-04,\n",
            "       1.01864619e-03, 4.42680644e-04, 5.07715596e-04, 9.28687188e-04,\n",
            "       6.51268558e-04, 3.90730905e-04, 1.23341601e-04, 2.11235030e-04,\n",
            "       9.24440214e-04, 6.91891662e-04, 9.80361001e-05, 3.00549205e-04,\n",
            "       4.62396710e-04, 2.63937025e-04, 7.66286378e-05, 3.82623018e-04,\n",
            "       4.89474703e-04, 4.04727706e-04, 1.36053899e-04, 8.10280525e-04,\n",
            "       2.56563932e-04, 7.57513127e-04, 4.34842807e-04, 7.17152515e-04,\n",
            "       1.96339735e-04, 4.31639868e-05, 1.27566202e-03, 1.24075501e-03,\n",
            "       4.50926589e-04, 1.22692868e-04, 2.29136221e-03, 7.67164272e-04,\n",
            "       2.43051437e-03, 6.90012241e-04, 4.98326065e-04, 1.39287820e-03,\n",
            "       2.65540414e-03, 1.63239816e-03, 3.55931676e-03, 2.74642286e-03,\n",
            "       1.22587764e-03, 5.04385703e-03, 8.61487287e-04, 1.34920201e-03,\n",
            "       1.67707795e-04, 2.60874946e-03, 8.74281978e-04, 1.38812868e-04,\n",
            "       1.75697901e-03, 5.01538867e-04, 1.64192451e-03, 8.43270103e-04,\n",
            "       4.14125800e-04, 9.75608632e-05, 0.00000000e+00, 8.69221599e-05,\n",
            "       8.82782500e-04, 4.35120990e-05, 5.01074037e-04, 9.89302516e-04,\n",
            "       1.05580934e-03, 3.79301656e-03, 1.79434946e-03, 6.76028655e-04]), array([9.14165076e-04, 9.40240696e-04, 0.00000000e+00, 1.43723800e-05,\n",
            "       1.03818758e-03, 7.04014896e-04, 7.02815630e-04, 8.98155093e-04,\n",
            "       1.40593788e-03, 3.61212359e-04, 3.44618467e-04, 1.20863841e-03,\n",
            "       1.84520877e-03, 9.68813672e-04, 3.65675592e-04, 7.44018961e-04,\n",
            "       7.87979726e-04, 8.36346968e-04, 2.92249097e-04, 5.30077323e-04,\n",
            "       2.02961908e-03, 7.63745466e-04, 1.33222301e-04, 4.51930487e-04,\n",
            "       7.63746875e-04, 6.89483891e-04, 2.89937221e-04, 4.94008768e-04,\n",
            "       4.66479949e-04, 6.60267806e-04, 8.80562303e-04, 3.31394406e-03,\n",
            "       4.47447501e-05, 2.62249393e-04, 9.36066047e-04, 5.22678506e-04,\n",
            "       4.09852382e-04, 9.64563950e-05, 1.50335680e-03, 1.03548295e-03,\n",
            "       1.43240126e-03, 7.97636352e-04, 1.51305747e-03, 1.37611046e-03,\n",
            "       2.75249412e-03, 1.69865152e-03, 3.39511693e-03, 4.35889740e-03,\n",
            "       1.58807800e-03, 3.32459815e-03, 6.61150442e-04, 1.47564575e-03,\n",
            "       1.79723860e-04, 4.72977821e-03, 5.76411646e-04, 4.02074898e-04,\n",
            "       1.64319023e-03, 1.16983527e-03, 1.91883757e-03, 1.50516257e-03,\n",
            "       5.17996216e-04, 2.59909269e-04, 0.00000000e+00, 8.40469866e-04,\n",
            "       1.07564913e-03, 2.24586241e-04, 1.07413610e-03, 1.54460555e-03,\n",
            "       1.43776428e-03, 3.59005953e-03, 1.75804482e-03, 2.13803371e-03]), array([9.65683472e-04, 9.74326725e-04, 1.26826193e-04, 0.00000000e+00,\n",
            "       1.08231010e-03, 4.34826190e-04, 2.84268202e-04, 5.18321425e-04,\n",
            "       9.04158245e-04, 3.35199222e-04, 4.21838360e-04, 6.63622957e-04,\n",
            "       1.54586232e-03, 2.34716984e-04, 2.33681257e-04, 5.88663446e-04,\n",
            "       6.79616338e-04, 6.69799842e-04, 1.81959200e-04, 5.52712213e-04,\n",
            "       5.78980382e-04, 4.40727592e-05, 2.10982967e-04, 1.36008163e-04,\n",
            "       7.18403831e-04, 6.07466998e-04, 2.16401373e-04, 8.26293940e-04,\n",
            "       2.45294851e-04, 2.00270856e-04, 1.20595492e-04, 4.64396616e-04,\n",
            "       2.32969924e-05, 2.91785275e-04, 1.99020757e-04, 3.08047976e-04,\n",
            "       3.88296994e-05, 8.06087286e-05, 1.27137990e-03, 5.36052566e-04,\n",
            "       5.10468324e-04, 2.33006122e-04, 1.00907443e-03, 2.37587375e-04,\n",
            "       1.34291244e-03, 1.20224293e-03, 2.36787586e-03, 2.59493202e-03,\n",
            "       1.48257104e-03, 2.05126084e-03, 7.65739246e-04, 1.42382160e-03,\n",
            "       2.69420815e-04, 3.12267790e-03, 4.13808695e-04, 1.29379812e-03,\n",
            "       1.49286483e-04, 1.08180885e-03, 5.03656580e-04, 3.74277204e-04,\n",
            "       8.98095721e-04, 5.53576043e-04, 4.62241997e-06, 5.59231231e-04,\n",
            "       4.03150841e-04, 1.09620350e-04, 7.14437888e-04, 8.42889861e-04,\n",
            "       1.34605418e-03, 2.55413028e-03, 2.08120450e-03, 1.31177372e-03]), array([2.66960997e-04, 1.36051007e-04, 0.00000000e+00, 0.00000000e+00,\n",
            "       0.00000000e+00, 0.00000000e+00, 0.00000000e+00, 2.07325396e-04,\n",
            "       0.00000000e+00, 1.95383007e-04, 0.00000000e+00, 0.00000000e+00,\n",
            "       6.53274014e-06, 1.22087004e-04, 3.33751996e-05, 0.00000000e+00,\n",
            "       2.82628986e-04, 0.00000000e+00, 0.00000000e+00, 1.13779830e-04,\n",
            "       0.00000000e+00, 0.00000000e+00, 0.00000000e+00, 0.00000000e+00,\n",
            "       4.16584551e-07, 0.00000000e+00, 0.00000000e+00, 1.54359004e-04,\n",
            "       1.12428884e-04, 0.00000000e+00, 7.68516999e-04, 0.00000000e+00,\n",
            "       0.00000000e+00, 0.00000000e+00, 0.00000000e+00, 0.00000000e+00,\n",
            "       0.00000000e+00, 2.18213995e-06, 0.00000000e+00, 2.25894996e-06,\n",
            "       1.27884006e-04, 0.00000000e+00, 0.00000000e+00, 7.14870874e-04,\n",
            "       1.07710830e-03, 1.26703198e-04, 0.00000000e+00, 4.97737726e-04,\n",
            "       9.84893004e-05, 1.02785290e-03, 0.00000000e+00, 5.86234285e-05,\n",
            "       0.00000000e+00, 4.09894539e-04, 6.21430008e-05, 0.00000000e+00,\n",
            "       2.67691198e-04, 1.49265703e-05, 8.23894602e-05, 1.10167034e-05,\n",
            "       0.00000000e+00, 0.00000000e+00, 0.00000000e+00, 0.00000000e+00,\n",
            "       6.16589023e-05, 6.77384014e-06, 0.00000000e+00, 3.56894620e-04,\n",
            "       6.23800988e-05, 3.80671499e-04, 7.51357984e-05, 0.00000000e+00]), array([1.91527934e-03, 1.70952223e-03, 3.52944007e-05, 2.31534904e-06,\n",
            "       5.89804298e-04, 1.25340086e-03, 3.72520916e-04, 1.29264700e-03,\n",
            "       1.72127963e-03, 7.24804314e-04, 4.48030158e-04, 9.02265153e-04,\n",
            "       1.61467154e-03, 3.81438534e-04, 8.07175810e-04, 9.61320397e-04,\n",
            "       6.35488583e-04, 5.78706960e-04, 5.80567985e-05, 8.31919720e-04,\n",
            "       1.84859739e-03, 5.32519016e-06, 1.02828551e-04, 5.68195786e-04,\n",
            "       2.07118971e-03, 6.96444964e-04, 3.77871988e-04, 9.42724192e-04,\n",
            "       2.42037234e-04, 3.01226699e-04, 2.58218224e-03, 1.11723863e-03,\n",
            "       1.11543654e-04, 1.22933998e-05, 6.20574026e-04, 1.10706227e-03,\n",
            "       5.07391295e-04, 6.39544996e-05, 1.91533761e-03, 1.07754945e-03,\n",
            "       1.65821963e-03, 1.12958419e-03, 1.53408753e-03, 2.32477368e-03,\n",
            "       2.79735125e-03, 1.39402240e-03, 2.83480896e-03, 4.72234512e-03,\n",
            "       2.41412744e-03, 3.23066791e-03, 5.43725358e-04, 1.24055011e-03,\n",
            "       3.04148804e-04, 3.25091039e-03, 5.74534095e-04, 1.90212013e-04,\n",
            "       1.03230631e-03, 1.14114304e-03, 1.94572988e-03, 1.41511880e-03,\n",
            "       7.01729869e-04, 9.86179891e-05, 1.80810396e-05, 9.41931860e-04,\n",
            "       1.09901117e-03, 4.62726335e-04, 7.82029383e-04, 1.72054091e-03,\n",
            "       4.78694940e-04, 2.67307117e-03, 1.42021060e-03, 1.65000495e-03]), array([9.71209609e-04, 1.63753911e-03, 4.67189002e-05, 2.99214797e-05,\n",
            "       1.30341343e-03, 1.08566997e-03, 3.29816312e-04, 6.08416518e-04,\n",
            "       8.76044335e-04, 1.03871107e-03, 3.87544812e-04, 1.24243288e-03,\n",
            "       2.13505289e-03, 6.88649816e-04, 5.87755735e-04, 7.90289401e-04,\n",
            "       1.54083436e-03, 1.12751640e-03, 4.45410682e-04, 1.61661349e-03,\n",
            "       2.55817580e-03, 2.32489916e-04, 2.79298846e-04, 6.88547537e-04,\n",
            "       6.41543714e-04, 1.22437395e-03, 1.23884822e-04, 6.41652367e-04,\n",
            "       8.14228515e-04, 7.25985631e-04, 5.60788357e-04, 1.96470105e-03,\n",
            "       4.70718987e-05, 9.16175639e-05, 1.58400743e-03, 1.64362545e-03,\n",
            "       3.29223715e-04, 4.86093022e-04, 2.86072682e-03, 1.61757592e-03,\n",
            "       1.54170052e-03, 8.81328355e-04, 1.49183940e-03, 2.15043730e-03,\n",
            "       2.52985476e-03, 1.27017293e-03, 4.52093194e-03, 6.13750543e-03,\n",
            "       3.39896347e-03, 4.55855095e-03, 9.41188691e-04, 2.30063029e-03,\n",
            "       3.47429878e-04, 3.55463947e-03, 1.15856062e-03, 3.32252132e-04,\n",
            "       9.41926020e-04, 1.07799636e-03, 2.40408460e-03, 1.97973509e-03,\n",
            "       9.69784257e-04, 7.47350746e-04, 3.03077995e-05, 1.20314034e-03,\n",
            "       1.36840021e-03, 7.22550112e-05, 8.08116556e-04, 1.66327716e-03,\n",
            "       1.57923275e-03, 4.34818573e-03, 2.27847443e-03, 2.87940912e-03]), array([2.89646996e-04, 1.16048999e-04, 0.00000000e+00, 8.39253971e-06,\n",
            "       1.82197997e-04, 0.00000000e+00, 0.00000000e+00, 5.00376009e-05,\n",
            "       0.00000000e+00, 0.00000000e+00, 0.00000000e+00, 0.00000000e+00,\n",
            "       1.75423298e-06, 0.00000000e+00, 0.00000000e+00, 7.27657971e-05,\n",
            "       0.00000000e+00, 0.00000000e+00, 1.21997997e-04, 0.00000000e+00,\n",
            "       0.00000000e+00, 0.00000000e+00, 0.00000000e+00, 0.00000000e+00,\n",
            "       8.96451020e-05, 0.00000000e+00, 0.00000000e+00, 8.36285035e-05,\n",
            "       0.00000000e+00, 6.94270011e-06, 4.13559988e-04, 0.00000000e+00,\n",
            "       0.00000000e+00, 0.00000000e+00, 0.00000000e+00, 0.00000000e+00,\n",
            "       0.00000000e+00, 0.00000000e+00, 0.00000000e+00, 1.48171000e-06,\n",
            "       7.37103983e-05, 0.00000000e+00, 0.00000000e+00, 0.00000000e+00,\n",
            "       5.18075001e-04, 0.00000000e+00, 0.00000000e+00, 8.04309020e-05,\n",
            "       2.77447567e-05, 1.31573267e-04, 2.06675995e-05, 2.50322495e-04,\n",
            "       0.00000000e+00, 1.47506529e-04, 2.90430398e-05, 0.00000000e+00,\n",
            "       0.00000000e+00, 1.70139940e-05, 1.17993982e-04, 0.00000000e+00,\n",
            "       0.00000000e+00, 0.00000000e+00, 0.00000000e+00, 0.00000000e+00,\n",
            "       0.00000000e+00, 0.00000000e+00, 0.00000000e+00, 2.64294009e-04,\n",
            "       7.55137007e-05, 2.78073014e-04, 7.74441014e-06, 7.54041012e-05]), array([2.59124771e-03, 1.30820705e-03, 8.05950904e-05, 9.66384359e-05,\n",
            "       8.84424219e-04, 1.57789393e-03, 8.10065957e-04, 1.19784620e-03,\n",
            "       2.65519995e-03, 1.14526224e-03, 8.54271236e-04, 1.08791509e-03,\n",
            "       8.43103834e-04, 2.56907452e-03, 1.35207303e-03, 6.87823232e-04,\n",
            "       1.13993561e-03, 1.55546085e-03, 1.66384171e-03, 7.72636161e-04,\n",
            "       2.76375132e-03, 5.36045917e-04, 2.04313302e-04, 1.14782142e-03,\n",
            "       1.23384475e-03, 3.84917113e-04, 9.38686078e-04, 9.30456582e-04,\n",
            "       1.15213524e-03, 1.06964361e-03, 9.84807854e-04, 4.05674376e-03,\n",
            "       4.18775380e-04, 4.01596063e-04, 4.64207875e-03, 1.50650627e-03,\n",
            "       9.01947542e-04, 3.26110846e-04, 2.81395857e-03, 1.69634629e-03,\n",
            "       1.85600846e-03, 1.10011181e-03, 2.91139837e-03, 2.83821798e-03,\n",
            "       3.10022735e-03, 4.31954188e-03, 4.98228895e-03, 5.55677427e-03,\n",
            "       4.01518195e-03, 3.86016171e-03, 1.53874149e-03, 3.01689839e-03,\n",
            "       1.15495790e-03, 4.44296660e-03, 1.87677283e-03, 1.65278163e-03,\n",
            "       1.06304621e-03, 3.08530749e-03, 3.61783481e-03, 2.42455275e-03,\n",
            "       1.98025833e-03, 8.44342789e-04, 2.05604406e-05, 1.63259281e-03,\n",
            "       1.99548502e-03, 6.30998952e-04, 2.19752281e-03, 1.74236149e-03,\n",
            "       2.64957702e-03, 3.48645877e-03, 4.10166024e-03, 4.12895543e-03]), array([2.16248998e-04, 0.00000000e+00, 0.00000000e+00, 0.00000000e+00,\n",
            "       0.00000000e+00, 1.54965004e-04, 0.00000000e+00, 0.00000000e+00,\n",
            "       0.00000000e+00, 0.00000000e+00, 0.00000000e+00, 0.00000000e+00,\n",
            "       0.00000000e+00, 0.00000000e+00, 0.00000000e+00, 5.66318013e-05,\n",
            "       3.02007993e-05, 0.00000000e+00, 0.00000000e+00, 0.00000000e+00,\n",
            "       0.00000000e+00, 0.00000000e+00, 0.00000000e+00, 0.00000000e+00,\n",
            "       0.00000000e+00, 0.00000000e+00, 0.00000000e+00, 0.00000000e+00,\n",
            "       0.00000000e+00, 0.00000000e+00, 0.00000000e+00, 0.00000000e+00,\n",
            "       0.00000000e+00, 0.00000000e+00, 2.32689999e-04, 2.10326805e-04,\n",
            "       0.00000000e+00, 0.00000000e+00, 0.00000000e+00, 0.00000000e+00,\n",
            "       0.00000000e+00, 0.00000000e+00, 0.00000000e+00, 0.00000000e+00,\n",
            "       4.43002995e-04, 7.30942993e-05, 0.00000000e+00, 7.27765176e-05,\n",
            "       0.00000000e+00, 1.32743011e-04, 0.00000000e+00, 2.88958995e-06,\n",
            "       0.00000000e+00, 7.85675002e-05, 0.00000000e+00, 0.00000000e+00,\n",
            "       0.00000000e+00, 0.00000000e+00, 0.00000000e+00, 0.00000000e+00,\n",
            "       0.00000000e+00, 0.00000000e+00, 0.00000000e+00, 3.46818770e-05,\n",
            "       0.00000000e+00, 0.00000000e+00, 1.42848003e-05, 2.15225999e-04,\n",
            "       0.00000000e+00, 0.00000000e+00, 0.00000000e+00, 0.00000000e+00]), array([1.40582244e-03, 1.64133314e-03, 8.78203577e-05, 2.13577966e-05,\n",
            "       2.10542251e-03, 1.27201343e-03, 8.55566928e-04, 1.27472301e-03,\n",
            "       1.16296520e-03, 1.65161594e-03, 1.15743521e-03, 6.93976373e-04,\n",
            "       2.54046628e-03, 6.76198577e-04, 7.55718873e-04, 6.51209664e-04,\n",
            "       9.75832965e-04, 1.31617802e-03, 6.25327805e-04, 6.46900880e-04,\n",
            "       3.13607092e-03, 7.23981777e-04, 3.04128897e-04, 1.14797932e-03,\n",
            "       8.86820701e-04, 1.50034339e-03, 8.71409660e-04, 8.19125555e-04,\n",
            "       8.88512380e-04, 6.28441590e-04, 9.88148944e-04, 4.18824843e-03,\n",
            "       1.72460270e-04, 4.16531605e-04, 1.55830998e-03, 1.29306329e-03,\n",
            "       8.04017876e-04, 2.90822574e-04, 4.20911823e-03, 2.58116844e-03,\n",
            "       2.55587523e-03, 1.17810717e-03, 2.41310759e-03, 2.50625538e-03,\n",
            "       2.36575798e-03, 3.43521902e-03, 5.91214882e-03, 5.43538950e-03,\n",
            "       3.52215080e-03, 5.29684524e-03, 2.81958451e-03, 3.72917618e-03,\n",
            "       1.52382404e-03, 5.94259978e-03, 1.40413065e-03, 1.36386216e-03,\n",
            "       1.95861212e-03, 3.43328663e-03, 2.80689762e-03, 2.19929095e-03,\n",
            "       1.40148719e-03, 6.03245944e-04, 9.05395566e-05, 1.47477866e-03,\n",
            "       2.96224762e-03, 6.62468534e-04, 2.18450275e-03, 2.57540554e-03,\n",
            "       2.81960984e-03, 5.33081765e-03, 4.80311232e-03, 4.78503434e-03]), array([7.40877435e-05, 2.67200996e-04, 0.00000000e+00, 0.00000000e+00,\n",
            "       0.00000000e+00, 8.76065501e-05, 6.40904036e-05, 5.78330000e-05,\n",
            "       9.49181474e-04, 2.43204995e-05, 0.00000000e+00, 2.46470850e-04,\n",
            "       7.35205223e-04, 5.11014994e-04, 0.00000000e+00, 1.09749999e-05,\n",
            "       4.99179987e-06, 1.63607998e-04, 2.07000001e-04, 0.00000000e+00,\n",
            "       3.31409907e-04, 0.00000000e+00, 0.00000000e+00, 1.28507997e-06,\n",
            "       3.11826596e-04, 2.28015400e-04, 0.00000000e+00, 6.63990437e-04,\n",
            "       8.40985012e-05, 1.44251729e-04, 4.50766342e-04, 4.13993797e-05,\n",
            "       0.00000000e+00, 3.10986991e-07, 2.57359308e-04, 3.93270533e-05,\n",
            "       8.90455995e-05, 8.87558664e-05, 2.95646998e-04, 2.36932367e-04,\n",
            "       2.80109991e-04, 0.00000000e+00, 2.11570916e-04, 4.57635910e-04,\n",
            "       1.13736542e-03, 1.93933793e-04, 1.11678521e-03, 2.42520252e-04,\n",
            "       1.95594510e-04, 5.52644235e-04, 4.94971918e-05, 6.09355492e-04,\n",
            "       0.00000000e+00, 2.98219627e-04, 3.03988685e-05, 0.00000000e+00,\n",
            "       4.06740000e-05, 1.62486199e-04, 1.84838235e-04, 2.63681995e-05,\n",
            "       1.27655003e-04, 9.36765991e-06, 0.00000000e+00, 1.92201886e-04,\n",
            "       1.47994970e-04, 1.59383999e-05, 4.11913807e-05, 5.01484088e-04,\n",
            "       5.17806984e-05, 2.54310702e-03, 2.50565203e-04, 0.00000000e+00]), array([5.05280596e-04, 5.38441412e-04, 0.00000000e+00, 0.00000000e+00,\n",
            "       3.47425183e-04, 6.64623947e-04, 3.05529676e-04, 2.37834237e-04,\n",
            "       6.63983999e-04, 5.63526005e-04, 9.27356772e-04, 1.71940699e-04,\n",
            "       3.76510006e-05, 3.50243501e-04, 1.11804812e-04, 1.39552422e-04,\n",
            "       2.99063090e-05, 3.48172759e-04, 1.09865557e-03, 1.27308556e-04,\n",
            "       7.94733940e-04, 1.76199676e-04, 7.72899316e-05, 1.14501481e-04,\n",
            "       3.35583668e-04, 6.49941982e-04, 1.07232142e-04, 9.25886961e-05,\n",
            "       6.03116424e-04, 4.86887997e-05, 7.62936158e-04, 1.15326150e-03,\n",
            "       1.47839452e-04, 7.16607772e-05, 7.36386118e-04, 1.36088251e-04,\n",
            "       5.72046811e-05, 1.91681993e-05, 1.53795862e-03, 5.23818595e-04,\n",
            "       2.78644780e-04, 1.39212512e-04, 6.53748957e-04, 1.26869640e-03,\n",
            "       1.65986010e-03, 7.60336752e-04, 1.04126565e-03, 2.82237139e-03,\n",
            "       1.99579943e-03, 2.00165220e-03, 2.91174397e-04, 7.94155377e-04,\n",
            "       2.63972188e-05, 2.75556674e-03, 4.41728061e-04, 3.58681991e-04,\n",
            "       4.79863322e-04, 5.44580719e-04, 1.65403661e-03, 8.09498428e-04,\n",
            "       4.33223361e-04, 4.12022603e-04, 1.71674892e-05, 4.83679731e-04,\n",
            "       1.41914164e-03, 0.00000000e+00, 5.38273511e-04, 3.76432222e-04,\n",
            "       6.70532556e-04, 2.95310773e-03, 6.60294175e-04, 1.46886822e-03])]\n"
          ]
        },
        {
          "output_type": "display_data",
          "data": {
            "text/plain": [
              "<Figure size 1000x500 with 1 Axes>"
            ],
            "image/png": "[encoded data removed]"
          },
          "metadata": {}
        }
      ]
    },
    {
      "cell_type": "code",
      "source": [
        "df = df[[col for col in df.columns if col not in [\"timestamp\", \"Asset_ID\",\"Target\"]] + [\"timestamp\", \"Asset_ID\",\"Target\"]]"
      ],
      "metadata": {
        "id": "ZNnzFai5aE1a"
      },
      "execution_count": null,
      "outputs": []
    },
    {
      "cell_type": "code",
      "source": [
        "df.columns[:-3]"
      ],
      "metadata": {
        "colab": {
          "base_uri": "https://localhost:8080/"
        },
        "id": "n8Ywjb_QeipS",
        "outputId": "6bbdd880-c393-4816-f738-5eccc837bd2b"
      },
      "execution_count": null,
      "outputs": [
        {
          "output_type": "execute_result",
          "data": {
            "text/plain": [
              "Index(['Count', 'Open', 'High', 'Low', 'Close', 'Volume', 'VWAP', 'High-Low',\n",
              "       'Upper_Shadow', 'Lower_Shadow'],\n",
              "      dtype='object')"
            ]
          },
          "metadata": {},
          "execution_count": 18
        }
      ]
    },
    {
      "cell_type": "code",
      "source": [],
      "metadata": {
        "id": "jc7b-wU-pEKd"
      },
      "execution_count": null,
      "outputs": []
    },
    {
      "cell_type": "code",
      "source": [
        "from statsmodels.stats.outliers_influence import variance_inflation_factor\n",
        "from statsmodels.tools.tools import add_constant\n",
        "\n",
        "\n",
        "X = testDF[testDF.columns[:-1]]\n",
        "X = X.dropna()\n",
        "X[~np.isfinite(X)] = 0\n",
        "X = add_constant(X)\n",
        "\n",
        "vif = pd.Series([variance_inflation_factor(X.values, i)\n",
        "               for i in range(X.shape[1])],\n",
        "              index=X.columns)\n",
        "\n",
        "# VIF dataframe\n",
        "#vif_data = pd.DataFrame()\n",
        "#vif_data[\"feature\"] = X.columns[:-1]\n",
        "\n",
        "# calculating VIF for each feature\n",
        "#vif_data[\"VIF\"] = [variance_inflation_factor(X[:,:-1], i)\n",
        "#                          for i in range(len(X.columns[:-1]))]"
      ],
      "metadata": {
        "id": "SltkrEAuL0uj"
      },
      "execution_count": null,
      "outputs": []
    },
    {
      "cell_type": "code",
      "source": [
        "vif.sort_values(ascending=False).head(40)"
      ],
      "metadata": {
        "colab": {
          "base_uri": "https://localhost:8080/"
        },
        "id": "TrHj_Cd4ukT6",
        "outputId": "d55eb6c6-2ba1-47aa-f1aa-77bc8c73030d"
      },
      "execution_count": null,
      "outputs": [
        {
          "output_type": "execute_result",
          "data": {
            "text/plain": [
              "Upper_Shadow(10)                          inf\n",
              "Low(2)                                    inf\n",
              "High-Low(2)                               inf\n",
              "High-Low(1)                               inf\n",
              "Upper_Shadow(1)                           inf\n",
              "Upper_Shadow(2)                           inf\n",
              "Lower_Shadow(1)                           inf\n",
              "Close(10)                                 inf\n",
              "Close(8)                                  inf\n",
              "Close(2)                                  inf\n",
              "Close(1)                                  inf\n",
              "High-Low(10)                              inf\n",
              "Low(8)                                    inf\n",
              "Low(10)                                   inf\n",
              "Low(1)                                    inf\n",
              "Open(8)                                   inf\n",
              "Lower_Shadow(10)                          inf\n",
              "Lower_Shadow(2)                           inf\n",
              "High(10)                                  inf\n",
              "Open(2)                                   inf\n",
              "Open(1)                                   inf\n",
              "Open(10)                                  inf\n",
              "High(1)                                   inf\n",
              "High(2)                                   inf\n",
              "High(8)                                   inf\n",
              "High-Low(8)                               inf\n",
              "Upper_Shadow(8)                  3.002400e+15\n",
              "Lower_Shadow(8)                  3.002400e+15\n",
              "VWAP(1)                          3.421532e+06\n",
              "VWAP(2)                          5.055816e+05\n",
              "VWAP(8)                          4.135472e+05\n",
              "VWAP(10)                         1.397778e+03\n",
              "const                            3.561031e+01\n",
              "log_Return(Close)(6-5)           1.972742e+01\n",
              "movingAverage(High-Low)(5-14)    1.923913e+01\n",
              "log_Return(VWAP)(6-5)            1.833457e+01\n",
              "movingAverage(High-Low)(5-28)    1.433799e+01\n",
              "movingAverage(High-Low)(2-4)     1.210538e+01\n",
              "Count(2)                         1.017174e+01\n",
              "Count(1)                         9.476416e+00\n",
              "dtype: float64"
            ]
          },
          "metadata": {},
          "execution_count": 22
        }
      ]
    },
    {
      "cell_type": "markdown",
      "source": [],
      "metadata": {
        "id": "nJAUpyIRgdwo"
      }
    },
    {
      "cell_type": "code",
      "source": [
        "#Lstm\n",
        "!pip install keras-tcn"
      ],
      "metadata": {
        "id": "Taerquhr_eXu",
        "colab": {
          "base_uri": "https://localhost:8080/"
        },
        "outputId": "7e8df190-0996-4a69-f0c3-7b5f0eb3414d"
      },
      "execution_count": null,
      "outputs": [
        {
          "output_type": "stream",
          "name": "stdout",
          "text": [
            "Looking in indexes: https://pypi.org/simple, https://us-python.pkg.dev/colab-wheels/public/simple/\n",
            "Collecting keras-tcn\n",
            "  Downloading keras_tcn-3.5.0-py3-none-any.whl (13 kB)\n",
            "Collecting tensorflow-addons\n",
            "  Downloading tensorflow_addons-0.19.0-cp39-cp39-manylinux_2_17_x86_64.manylinux2014_x86_64.whl (1.1 MB)\n",
            "\u001b[2K     \u001b[90m━━━━━━━━━━━━━━━━━━━━━━━━━━━━━━━━━━━━━━━━\u001b[0m \u001b[32m1.1/1.1 MB\u001b[0m \u001b[31m14.5 MB/s\u001b[0m eta \u001b[36m0:00:00\u001b[0m\n",
            "\u001b[?25hRequirement already satisfied: tensorflow in /usr/local/lib/python3.9/dist-packages (from keras-tcn) (2.11.0)\n",
            "Requirement already satisfied: numpy in /usr/local/lib/python3.9/dist-packages (from keras-tcn) (1.22.4)\n",
            "Requirement already satisfied: tensorflow-estimator<2.12,>=2.11.0 in /usr/local/lib/python3.9/dist-packages (from tensorflow->keras-tcn) (2.11.0)\n",
            "Requirement already satisfied: astunparse>=1.6.0 in /usr/local/lib/python3.9/dist-packages (from tensorflow->keras-tcn) (1.6.3)\n",
            "Requirement already satisfied: wrapt>=1.11.0 in /usr/local/lib/python3.9/dist-packages (from tensorflow->keras-tcn) (1.15.0)\n",
            "Requirement already satisfied: libclang>=13.0.0 in /usr/local/lib/python3.9/dist-packages (from tensorflow->keras-tcn) (15.0.6.1)\n",
            "Requirement already satisfied: gast<=0.4.0,>=0.2.1 in /usr/local/lib/python3.9/dist-packages (from tensorflow->keras-tcn) (0.4.0)\n",
            "Requirement already satisfied: termcolor>=1.1.0 in /usr/local/lib/python3.9/dist-packages (from tensorflow->keras-tcn) (2.2.0)\n",
            "Requirement already satisfied: google-pasta>=0.1.1 in /usr/local/lib/python3.9/dist-packages (from tensorflow->keras-tcn) (0.2.0)\n",
            "Requirement already satisfied: grpcio<2.0,>=1.24.3 in /usr/local/lib/python3.9/dist-packages (from tensorflow->keras-tcn) (1.51.3)\n",
            "Requirement already satisfied: flatbuffers>=2.0 in /usr/local/lib/python3.9/dist-packages (from tensorflow->keras-tcn) (23.3.3)\n",
            "Requirement already satisfied: h5py>=2.9.0 in /usr/local/lib/python3.9/dist-packages (from tensorflow->keras-tcn) (3.8.0)\n",
            "Requirement already satisfied: packaging in /usr/local/lib/python3.9/dist-packages (from tensorflow->keras-tcn) (23.0)\n",
            "Requirement already satisfied: tensorflow-io-gcs-filesystem>=0.23.1 in /usr/local/lib/python3.9/dist-packages (from tensorflow->keras-tcn) (0.31.0)\n",
            "Requirement already satisfied: keras<2.12,>=2.11.0 in /usr/local/lib/python3.9/dist-packages (from tensorflow->keras-tcn) (2.11.0)\n",
            "Requirement already satisfied: typing-extensions>=3.6.6 in /usr/local/lib/python3.9/dist-packages (from tensorflow->keras-tcn) (4.5.0)\n",
            "Requirement already satisfied: six>=1.12.0 in /usr/local/lib/python3.9/dist-packages (from tensorflow->keras-tcn) (1.16.0)\n",
            "Requirement already satisfied: opt-einsum>=2.3.2 in /usr/local/lib/python3.9/dist-packages (from tensorflow->keras-tcn) (3.3.0)\n",
            "Requirement already satisfied: protobuf<3.20,>=3.9.2 in /usr/local/lib/python3.9/dist-packages (from tensorflow->keras-tcn) (3.19.6)\n",
            "Requirement already satisfied: absl-py>=1.0.0 in /usr/local/lib/python3.9/dist-packages (from tensorflow->keras-tcn) (1.4.0)\n",
            "Requirement already satisfied: tensorboard<2.12,>=2.11 in /usr/local/lib/python3.9/dist-packages (from tensorflow->keras-tcn) (2.11.2)\n",
            "Requirement already satisfied: setuptools in /usr/local/lib/python3.9/dist-packages (from tensorflow->keras-tcn) (67.6.0)\n",
            "Collecting typeguard>=2.7\n",
            "  Downloading typeguard-3.0.2-py3-none-any.whl (30 kB)\n",
            "Requirement already satisfied: wheel<1.0,>=0.23.0 in /usr/local/lib/python3.9/dist-packages (from astunparse>=1.6.0->tensorflow->keras-tcn) (0.40.0)\n",
            "Requirement already satisfied: tensorboard-plugin-wit>=1.6.0 in /usr/local/lib/python3.9/dist-packages (from tensorboard<2.12,>=2.11->tensorflow->keras-tcn) (1.8.1)\n",
            "Requirement already satisfied: requests<3,>=2.21.0 in /usr/local/lib/python3.9/dist-packages (from tensorboard<2.12,>=2.11->tensorflow->keras-tcn) (2.27.1)\n",
            "Requirement already satisfied: google-auth<3,>=1.6.3 in /usr/local/lib/python3.9/dist-packages (from tensorboard<2.12,>=2.11->tensorflow->keras-tcn) (2.16.2)\n",
            "Requirement already satisfied: werkzeug>=1.0.1 in /usr/local/lib/python3.9/dist-packages (from tensorboard<2.12,>=2.11->tensorflow->keras-tcn) (2.2.3)\n",
            "Requirement already satisfied: tensorboard-data-server<0.7.0,>=0.6.0 in /usr/local/lib/python3.9/dist-packages (from tensorboard<2.12,>=2.11->tensorflow->keras-tcn) (0.6.1)\n",
            "Requirement already satisfied: markdown>=2.6.8 in /usr/local/lib/python3.9/dist-packages (from tensorboard<2.12,>=2.11->tensorflow->keras-tcn) (3.4.2)\n",
            "Requirement already satisfied: google-auth-oauthlib<0.5,>=0.4.1 in /usr/local/lib/python3.9/dist-packages (from tensorboard<2.12,>=2.11->tensorflow->keras-tcn) (0.4.6)\n",
            "Requirement already satisfied: importlib-metadata>=3.6 in /usr/local/lib/python3.9/dist-packages (from typeguard>=2.7->tensorflow-addons->keras-tcn) (6.1.0)\n",
            "Requirement already satisfied: cachetools<6.0,>=2.0.0 in /usr/local/lib/python3.9/dist-packages (from google-auth<3,>=1.6.3->tensorboard<2.12,>=2.11->tensorflow->keras-tcn) (5.3.0)\n",
            "Requirement already satisfied: pyasn1-modules>=0.2.1 in /usr/local/lib/python3.9/dist-packages (from google-auth<3,>=1.6.3->tensorboard<2.12,>=2.11->tensorflow->keras-tcn) (0.2.8)\n",
            "Requirement already satisfied: rsa<5,>=3.1.4 in /usr/local/lib/python3.9/dist-packages (from google-auth<3,>=1.6.3->tensorboard<2.12,>=2.11->tensorflow->keras-tcn) (4.9)\n",
            "Requirement already satisfied: requests-oauthlib>=0.7.0 in /usr/local/lib/python3.9/dist-packages (from google-auth-oauthlib<0.5,>=0.4.1->tensorboard<2.12,>=2.11->tensorflow->keras-tcn) (1.3.1)\n",
            "Requirement already satisfied: zipp>=0.5 in /usr/local/lib/python3.9/dist-packages (from importlib-metadata>=3.6->typeguard>=2.7->tensorflow-addons->keras-tcn) (3.15.0)\n",
            "Requirement already satisfied: urllib3<1.27,>=1.21.1 in /usr/local/lib/python3.9/dist-packages (from requests<3,>=2.21.0->tensorboard<2.12,>=2.11->tensorflow->keras-tcn) (1.26.15)\n",
            "Requirement already satisfied: certifi>=2017.4.17 in /usr/local/lib/python3.9/dist-packages (from requests<3,>=2.21.0->tensorboard<2.12,>=2.11->tensorflow->keras-tcn) (2022.12.7)\n",
            "Requirement already satisfied: idna<4,>=2.5 in /usr/local/lib/python3.9/dist-packages (from requests<3,>=2.21.0->tensorboard<2.12,>=2.11->tensorflow->keras-tcn) (3.4)\n",
            "Requirement already satisfied: charset-normalizer~=2.0.0 in /usr/local/lib/python3.9/dist-packages (from requests<3,>=2.21.0->tensorboard<2.12,>=2.11->tensorflow->keras-tcn) (2.0.12)\n",
            "Requirement already satisfied: MarkupSafe>=2.1.1 in /usr/local/lib/python3.9/dist-packages (from werkzeug>=1.0.1->tensorboard<2.12,>=2.11->tensorflow->keras-tcn) (2.1.2)\n",
            "Requirement already satisfied: pyasn1<0.5.0,>=0.4.6 in /usr/local/lib/python3.9/dist-packages (from pyasn1-modules>=0.2.1->google-auth<3,>=1.6.3->tensorboard<2.12,>=2.11->tensorflow->keras-tcn) (0.4.8)\n",
            "Requirement already satisfied: oauthlib>=3.0.0 in /usr/local/lib/python3.9/dist-packages (from requests-oauthlib>=0.7.0->google-auth-oauthlib<0.5,>=0.4.1->tensorboard<2.12,>=2.11->tensorflow->keras-tcn) (3.2.2)\n",
            "Installing collected packages: typeguard, tensorflow-addons, keras-tcn\n",
            "Successfully installed keras-tcn-3.5.0 tensorflow-addons-0.19.0 typeguard-3.0.2\n"
          ]
        }
      ]
    },
    {
      "cell_type": "code",
      "source": [
        "import keras\n",
        "import matplotlib.pyplot as plt\n",
        "from sklearn.preprocessing import MinMaxScaler\n",
        "from pandas.plotting import register_matplotlib_converters\n",
        "register_matplotlib_converters()\n",
        "from keras.preprocessing.sequence import TimeseriesGenerator\n",
        "from keras.models import Sequential\n",
        "from keras.layers import Dense\n",
        "from keras.layers import LSTM\n",
        "from tcn import TCN, tcn_full_summary\n",
        "from tensorflow.keras.layers import Dense, add, Lambda, GlobalMaxPooling1D, GlobalAveragePooling1D, concatenate, LSTM\n",
        "from tensorflow.keras import Input, Model, backend\n",
        "from tensorflow.keras.losses import binary_crossentropy\n",
        "from sklearn import preprocessing\n",
        "\n",
        "#Preprocess\n",
        "dfSample = sample_data(df.copy(), assit_id = 1, startDate = '01/01/2020', endDate = '01/03/2020')\n",
        "dfSample1 = feature_select(dfSample.copy())\n",
        "dfSample1 = reduce_mem_usage(dfSample1)\n",
        "dfSample1.interpolate(method='nearest')\n",
        "dfSample1 = dfSample1.reindex(columns = [col for col in dfSample1.columns if col != 'Target'] + ['Target'])\n",
        "dfSample1 = dfSample1.fillna(0)\n",
        "dfSample1.replace([np.inf, -np.inf], 0, inplace=True)\n",
        "scaler = preprocessing.MinMaxScaler()\n",
        "dfSample1_fitted = scaler.fit_transform(dfSample1[dfSample1.columns[:-1]])\n",
        "#dfSample1_fitted = reduce_mem_usage(pd.DataFrame((dfSample1_fitted))\n",
        "X_train, y_train = dfSample1_fitted[:,:-1], dfSample1[dfSample1.columns[-1]].values/max(dfSample1[\"Target\"].max(),abs(dfSample1[\"Target\"].min()))"
      ],
      "metadata": {
        "colab": {
          "base_uri": "https://localhost:8080/"
        },
        "id": "EIDlwYULAj65",
        "outputId": "54de5b65-db19-4c3b-8ea9-c9628b4ee6c0"
      },
      "execution_count": null,
      "outputs": [
        {
          "output_type": "stream",
          "name": "stdout",
          "text": [
            "Memory usage of dataframe is 6.59 MB\n",
            "Memory usage after optimization is: 1.65 MB\n",
            "Decreased by 75.0%\n"
          ]
        }
      ]
    },
    {
      "cell_type": "code",
      "source": [
        "y_train"
      ],
      "metadata": {
        "colab": {
          "base_uri": "https://localhost:8080/"
        },
        "id": "68CpdpCMOwPm",
        "outputId": "1d42eaf3-022f-4d11-9e22-87a813b45edd"
      },
      "execution_count": null,
      "outputs": [
        {
          "output_type": "execute_result",
          "data": {
            "text/plain": [
              "array([0.06915,     nan,     nan, ..., 0.09985, 0.0957 , 0.0957 ],\n",
              "      dtype=float16)"
            ]
          },
          "metadata": {},
          "execution_count": 19
        }
      ]
    },
    {
      "cell_type": "code",
      "source": [
        "max(dfSample1[\"Target\"].max(),abs(dfSample1[\"Target\"].min()))"
      ],
      "metadata": {
        "colab": {
          "base_uri": "https://localhost:8080/"
        },
        "id": "DschAk3EO2_r",
        "outputId": "70805526-6895-4eec-eb8b-0b0106b75b17"
      },
      "execution_count": null,
      "outputs": [
        {
          "output_type": "execute_result",
          "data": {
            "text/plain": [
              "0.03458"
            ]
          },
          "metadata": {},
          "execution_count": 24
        }
      ]
    },
    {
      "cell_type": "code",
      "source": [
        "#Create generator\n",
        "n_input = 180 #how many samples/rows/timesteps to look in the past in order to forecast the next sample\n",
        "n_features= X_train.shape[1] # how many predictors/Xs/features we have to predict y\n",
        "b_size = 256 # Number of timeseries samples in each batch\n",
        "y_T, X_T, y_V, X_V = y_train[:-12749], X_train[:-12749], y_train[-12749:-25], X_train[-12749:-25]\n",
        "generator = TimeseriesGenerator(X_T, y_T, length=n_input, batch_size=b_size, shuffle=False)\n",
        "generator_validation = TimeseriesGenerator(X_V, y_V, length=n_input, batch_size=b_size, shuffle=False)"
      ],
      "metadata": {
        "id": "NxuhNEvLI0HY"
      },
      "execution_count": null,
      "outputs": []
    },
    {
      "cell_type": "code",
      "source": [
        "#Build and run model\n",
        "i = Input(batch_shape=(b_size, n_input, n_features))\n",
        "x1 = TCN(return_sequences=True, nb_filters=64, dilations = [1, 2, 4, 8, 16, 32], nb_stacks=1, dropout_rate=.1, kernel_size=3)(i)\n",
        "x2 = Lambda(lambda z: backend.reverse(z, axes=0))(i)\n",
        "x2 = TCN(return_sequences=True, nb_filters=64, dilations = [1, 2, 4, 8, 16, 32], nb_stacks=1, dropout_rate=.2, kernel_size=3)(x2)\n",
        "x = add([x1, x2])\n",
        "x = LSTM(8, dropout=.1)(x)\n",
        "o = Dense(1, activation='linear')(x)\n",
        "m = Model(inputs=i, outputs=o)\n",
        "m.compile(optimizer='adam', loss='mse')\n",
        "history = m.fit_generator(generator=generator,\n",
        "                    validation_data=generator_validation, epochs=10)\n",
        "#history = m.fit(generator,epochs=5, validation_split = 0.05)"
      ],
      "metadata": {
        "colab": {
          "base_uri": "https://localhost:8080/",
          "height": 693
        },
        "id": "YCxX1s28j3NK",
        "outputId": "8ea2c488-4056-4371-cb26-6e2526103642"
      },
      "execution_count": null,
      "outputs": [
        {
          "output_type": "stream",
          "name": "stdout",
          "text": [
            "Epoch 1/10\n",
            "287/287 [==============================] - 1267s 4s/step - loss: 0.0033 - val_loss: 0.0012\n",
            "Epoch 2/10\n",
            "287/287 [==============================] - 1242s 4s/step - loss: 0.0015 - val_loss: 0.0012\n",
            "Epoch 3/10\n",
            "287/287 [==============================] - 1259s 4s/step - loss: 0.0015 - val_loss: 0.0012\n",
            "Epoch 4/10\n",
            "287/287 [==============================] - 1259s 4s/step - loss: 0.0015 - val_loss: 0.0012\n",
            "Epoch 5/10\n",
            "287/287 [==============================] - 1248s 4s/step - loss: 0.0015 - val_loss: 0.0012\n",
            "Epoch 6/10\n",
            "287/287 [==============================] - 1257s 4s/step - loss: 0.0015 - val_loss: 0.0012\n",
            "Epoch 7/10\n",
            "287/287 [==============================] - 1245s 4s/step - loss: 0.0015 - val_loss: 0.0012\n",
            "Epoch 8/10\n",
            " 45/287 [===>..........................] - ETA: 16:23 - loss: 0.0016"
          ]
        },
        {
          "output_type": "error",
          "ename": "KeyboardInterrupt",
          "evalue": "ignored",
          "traceback": [
            "\u001b[0;31m---------------------------------------------------------------------------\u001b[0m",
            "\u001b[0;31mKeyboardInterrupt\u001b[0m                         Traceback (most recent call last)",
            "\u001b[0;32m<ipython-input-28-be7f0dcc5873>\u001b[0m in \u001b[0;36m<module>\u001b[0;34m\u001b[0m\n\u001b[1;32m      9\u001b[0m \u001b[0mm\u001b[0m \u001b[0;34m=\u001b[0m \u001b[0mModel\u001b[0m\u001b[0;34m(\u001b[0m\u001b[0minputs\u001b[0m\u001b[0;34m=\u001b[0m\u001b[0mi\u001b[0m\u001b[0;34m,\u001b[0m \u001b[0moutputs\u001b[0m\u001b[0;34m=\u001b[0m\u001b[0mo\u001b[0m\u001b[0;34m)\u001b[0m\u001b[0;34m\u001b[0m\u001b[0;34m\u001b[0m\u001b[0m\n\u001b[1;32m     10\u001b[0m \u001b[0mm\u001b[0m\u001b[0;34m.\u001b[0m\u001b[0mcompile\u001b[0m\u001b[0;34m(\u001b[0m\u001b[0moptimizer\u001b[0m\u001b[0;34m=\u001b[0m\u001b[0;34m'adam'\u001b[0m\u001b[0;34m,\u001b[0m \u001b[0mloss\u001b[0m\u001b[0;34m=\u001b[0m\u001b[0;34m'mse'\u001b[0m\u001b[0;34m)\u001b[0m\u001b[0;34m\u001b[0m\u001b[0;34m\u001b[0m\u001b[0m\n\u001b[0;32m---> 11\u001b[0;31m history = m.fit_generator(generator=generator,\n\u001b[0m\u001b[1;32m     12\u001b[0m                     validation_data=generator_validation, epochs=10)\n\u001b[1;32m     13\u001b[0m \u001b[0;31m#history = m.fit(generator,epochs=5, validation_split = 0.05)\u001b[0m\u001b[0;34m\u001b[0m\u001b[0;34m\u001b[0m\u001b[0m\n",
            "\u001b[0;32m/usr/local/lib/python3.9/dist-packages/keras/engine/training.py\u001b[0m in \u001b[0;36mfit_generator\u001b[0;34m(self, generator, steps_per_epoch, epochs, verbose, callbacks, validation_data, validation_steps, validation_freq, class_weight, max_queue_size, workers, use_multiprocessing, shuffle, initial_epoch)\u001b[0m\n\u001b[1;32m   2602\u001b[0m             \u001b[0mstacklevel\u001b[0m\u001b[0;34m=\u001b[0m\u001b[0;36m2\u001b[0m\u001b[0;34m,\u001b[0m\u001b[0;34m\u001b[0m\u001b[0;34m\u001b[0m\u001b[0m\n\u001b[1;32m   2603\u001b[0m         )\n\u001b[0;32m-> 2604\u001b[0;31m         return self.fit(\n\u001b[0m\u001b[1;32m   2605\u001b[0m             \u001b[0mgenerator\u001b[0m\u001b[0;34m,\u001b[0m\u001b[0;34m\u001b[0m\u001b[0;34m\u001b[0m\u001b[0m\n\u001b[1;32m   2606\u001b[0m             \u001b[0msteps_per_epoch\u001b[0m\u001b[0;34m=\u001b[0m\u001b[0msteps_per_epoch\u001b[0m\u001b[0;34m,\u001b[0m\u001b[0;34m\u001b[0m\u001b[0;34m\u001b[0m\u001b[0m\n",
            "\u001b[0;32m/usr/local/lib/python3.9/dist-packages/keras/utils/traceback_utils.py\u001b[0m in \u001b[0;36merror_handler\u001b[0;34m(*args, **kwargs)\u001b[0m\n\u001b[1;32m     63\u001b[0m         \u001b[0mfiltered_tb\u001b[0m \u001b[0;34m=\u001b[0m \u001b[0;32mNone\u001b[0m\u001b[0;34m\u001b[0m\u001b[0;34m\u001b[0m\u001b[0m\n\u001b[1;32m     64\u001b[0m         \u001b[0;32mtry\u001b[0m\u001b[0;34m:\u001b[0m\u001b[0;34m\u001b[0m\u001b[0;34m\u001b[0m\u001b[0m\n\u001b[0;32m---> 65\u001b[0;31m             \u001b[0;32mreturn\u001b[0m \u001b[0mfn\u001b[0m\u001b[0;34m(\u001b[0m\u001b[0;34m*\u001b[0m\u001b[0margs\u001b[0m\u001b[0;34m,\u001b[0m \u001b[0;34m**\u001b[0m\u001b[0mkwargs\u001b[0m\u001b[0;34m)\u001b[0m\u001b[0;34m\u001b[0m\u001b[0;34m\u001b[0m\u001b[0m\n\u001b[0m\u001b[1;32m     66\u001b[0m         \u001b[0;32mexcept\u001b[0m \u001b[0mException\u001b[0m \u001b[0;32mas\u001b[0m \u001b[0me\u001b[0m\u001b[0;34m:\u001b[0m\u001b[0;34m\u001b[0m\u001b[0;34m\u001b[0m\u001b[0m\n\u001b[1;32m     67\u001b[0m             \u001b[0mfiltered_tb\u001b[0m \u001b[0;34m=\u001b[0m \u001b[0m_process_traceback_frames\u001b[0m\u001b[0;34m(\u001b[0m\u001b[0me\u001b[0m\u001b[0;34m.\u001b[0m\u001b[0m__traceback__\u001b[0m\u001b[0;34m)\u001b[0m\u001b[0;34m\u001b[0m\u001b[0;34m\u001b[0m\u001b[0m\n",
            "\u001b[0;32m/usr/local/lib/python3.9/dist-packages/keras/engine/training.py\u001b[0m in \u001b[0;36mfit\u001b[0;34m(self, x, y, batch_size, epochs, verbose, callbacks, validation_split, validation_data, shuffle, class_weight, sample_weight, initial_epoch, steps_per_epoch, validation_steps, validation_batch_size, validation_freq, max_queue_size, workers, use_multiprocessing)\u001b[0m\n\u001b[1;32m   1648\u001b[0m                         ):\n\u001b[1;32m   1649\u001b[0m                             \u001b[0mcallbacks\u001b[0m\u001b[0;34m.\u001b[0m\u001b[0mon_train_batch_begin\u001b[0m\u001b[0;34m(\u001b[0m\u001b[0mstep\u001b[0m\u001b[0;34m)\u001b[0m\u001b[0;34m\u001b[0m\u001b[0;34m\u001b[0m\u001b[0m\n\u001b[0;32m-> 1650\u001b[0;31m                             \u001b[0mtmp_logs\u001b[0m \u001b[0;34m=\u001b[0m \u001b[0mself\u001b[0m\u001b[0;34m.\u001b[0m\u001b[0mtrain_function\u001b[0m\u001b[0;34m(\u001b[0m\u001b[0miterator\u001b[0m\u001b[0;34m)\u001b[0m\u001b[0;34m\u001b[0m\u001b[0;34m\u001b[0m\u001b[0m\n\u001b[0m\u001b[1;32m   1651\u001b[0m                             \u001b[0;32mif\u001b[0m \u001b[0mdata_handler\u001b[0m\u001b[0;34m.\u001b[0m\u001b[0mshould_sync\u001b[0m\u001b[0;34m:\u001b[0m\u001b[0;34m\u001b[0m\u001b[0;34m\u001b[0m\u001b[0m\n\u001b[1;32m   1652\u001b[0m                                 \u001b[0mcontext\u001b[0m\u001b[0;34m.\u001b[0m\u001b[0masync_wait\u001b[0m\u001b[0;34m(\u001b[0m\u001b[0;34m)\u001b[0m\u001b[0;34m\u001b[0m\u001b[0;34m\u001b[0m\u001b[0m\n",
            "\u001b[0;32m/usr/local/lib/python3.9/dist-packages/tensorflow/python/util/traceback_utils.py\u001b[0m in \u001b[0;36merror_handler\u001b[0;34m(*args, **kwargs)\u001b[0m\n\u001b[1;32m    148\u001b[0m     \u001b[0mfiltered_tb\u001b[0m \u001b[0;34m=\u001b[0m \u001b[0;32mNone\u001b[0m\u001b[0;34m\u001b[0m\u001b[0;34m\u001b[0m\u001b[0m\n\u001b[1;32m    149\u001b[0m     \u001b[0;32mtry\u001b[0m\u001b[0;34m:\u001b[0m\u001b[0;34m\u001b[0m\u001b[0;34m\u001b[0m\u001b[0m\n\u001b[0;32m--> 150\u001b[0;31m       \u001b[0;32mreturn\u001b[0m \u001b[0mfn\u001b[0m\u001b[0;34m(\u001b[0m\u001b[0;34m*\u001b[0m\u001b[0margs\u001b[0m\u001b[0;34m,\u001b[0m \u001b[0;34m**\u001b[0m\u001b[0mkwargs\u001b[0m\u001b[0;34m)\u001b[0m\u001b[0;34m\u001b[0m\u001b[0;34m\u001b[0m\u001b[0m\n\u001b[0m\u001b[1;32m    151\u001b[0m     \u001b[0;32mexcept\u001b[0m \u001b[0mException\u001b[0m \u001b[0;32mas\u001b[0m \u001b[0me\u001b[0m\u001b[0;34m:\u001b[0m\u001b[0;34m\u001b[0m\u001b[0;34m\u001b[0m\u001b[0m\n\u001b[1;32m    152\u001b[0m       \u001b[0mfiltered_tb\u001b[0m \u001b[0;34m=\u001b[0m \u001b[0m_process_traceback_frames\u001b[0m\u001b[0;34m(\u001b[0m\u001b[0me\u001b[0m\u001b[0;34m.\u001b[0m\u001b[0m__traceback__\u001b[0m\u001b[0;34m)\u001b[0m\u001b[0;34m\u001b[0m\u001b[0;34m\u001b[0m\u001b[0m\n",
            "\u001b[0;32m/usr/local/lib/python3.9/dist-packages/tensorflow/python/eager/polymorphic_function/polymorphic_function.py\u001b[0m in \u001b[0;36m__call__\u001b[0;34m(self, *args, **kwds)\u001b[0m\n\u001b[1;32m    878\u001b[0m \u001b[0;34m\u001b[0m\u001b[0m\n\u001b[1;32m    879\u001b[0m       \u001b[0;32mwith\u001b[0m \u001b[0mOptionalXlaContext\u001b[0m\u001b[0;34m(\u001b[0m\u001b[0mself\u001b[0m\u001b[0;34m.\u001b[0m\u001b[0m_jit_compile\u001b[0m\u001b[0;34m)\u001b[0m\u001b[0;34m:\u001b[0m\u001b[0;34m\u001b[0m\u001b[0;34m\u001b[0m\u001b[0m\n\u001b[0;32m--> 880\u001b[0;31m         \u001b[0mresult\u001b[0m \u001b[0;34m=\u001b[0m \u001b[0mself\u001b[0m\u001b[0;34m.\u001b[0m\u001b[0m_call\u001b[0m\u001b[0;34m(\u001b[0m\u001b[0;34m*\u001b[0m\u001b[0margs\u001b[0m\u001b[0;34m,\u001b[0m \u001b[0;34m**\u001b[0m\u001b[0mkwds\u001b[0m\u001b[0;34m)\u001b[0m\u001b[0;34m\u001b[0m\u001b[0;34m\u001b[0m\u001b[0m\n\u001b[0m\u001b[1;32m    881\u001b[0m \u001b[0;34m\u001b[0m\u001b[0m\n\u001b[1;32m    882\u001b[0m       \u001b[0mnew_tracing_count\u001b[0m \u001b[0;34m=\u001b[0m \u001b[0mself\u001b[0m\u001b[0;34m.\u001b[0m\u001b[0mexperimental_get_tracing_count\u001b[0m\u001b[0;34m(\u001b[0m\u001b[0;34m)\u001b[0m\u001b[0;34m\u001b[0m\u001b[0;34m\u001b[0m\u001b[0m\n",
            "\u001b[0;32m/usr/local/lib/python3.9/dist-packages/tensorflow/python/eager/polymorphic_function/polymorphic_function.py\u001b[0m in \u001b[0;36m_call\u001b[0;34m(self, *args, **kwds)\u001b[0m\n\u001b[1;32m    910\u001b[0m       \u001b[0;31m# In this case we have created variables on the first call, so we run the\u001b[0m\u001b[0;34m\u001b[0m\u001b[0;34m\u001b[0m\u001b[0m\n\u001b[1;32m    911\u001b[0m       \u001b[0;31m# defunned version which is guaranteed to never create variables.\u001b[0m\u001b[0;34m\u001b[0m\u001b[0;34m\u001b[0m\u001b[0m\n\u001b[0;32m--> 912\u001b[0;31m       \u001b[0;32mreturn\u001b[0m \u001b[0mself\u001b[0m\u001b[0;34m.\u001b[0m\u001b[0m_no_variable_creation_fn\u001b[0m\u001b[0;34m(\u001b[0m\u001b[0;34m*\u001b[0m\u001b[0margs\u001b[0m\u001b[0;34m,\u001b[0m \u001b[0;34m**\u001b[0m\u001b[0mkwds\u001b[0m\u001b[0;34m)\u001b[0m  \u001b[0;31m# pylint: disable=not-callable\u001b[0m\u001b[0;34m\u001b[0m\u001b[0;34m\u001b[0m\u001b[0m\n\u001b[0m\u001b[1;32m    913\u001b[0m     \u001b[0;32melif\u001b[0m \u001b[0mself\u001b[0m\u001b[0;34m.\u001b[0m\u001b[0m_variable_creation_fn\u001b[0m \u001b[0;32mis\u001b[0m \u001b[0;32mnot\u001b[0m \u001b[0;32mNone\u001b[0m\u001b[0;34m:\u001b[0m\u001b[0;34m\u001b[0m\u001b[0;34m\u001b[0m\u001b[0m\n\u001b[1;32m    914\u001b[0m       \u001b[0;31m# Release the lock early so that multiple threads can perform the call\u001b[0m\u001b[0;34m\u001b[0m\u001b[0;34m\u001b[0m\u001b[0m\n",
            "\u001b[0;32m/usr/local/lib/python3.9/dist-packages/tensorflow/python/eager/polymorphic_function/tracing_compiler.py\u001b[0m in \u001b[0;36m__call__\u001b[0;34m(self, *args, **kwargs)\u001b[0m\n\u001b[1;32m    132\u001b[0m       (concrete_function,\n\u001b[1;32m    133\u001b[0m        filtered_flat_args) = self._maybe_define_function(args, kwargs)\n\u001b[0;32m--> 134\u001b[0;31m     return concrete_function._call_flat(\n\u001b[0m\u001b[1;32m    135\u001b[0m         filtered_flat_args, captured_inputs=concrete_function.captured_inputs)  # pylint: disable=protected-access\n\u001b[1;32m    136\u001b[0m \u001b[0;34m\u001b[0m\u001b[0m\n",
            "\u001b[0;32m/usr/local/lib/python3.9/dist-packages/tensorflow/python/eager/polymorphic_function/monomorphic_function.py\u001b[0m in \u001b[0;36m_call_flat\u001b[0;34m(self, args, captured_inputs, cancellation_manager)\u001b[0m\n\u001b[1;32m   1743\u001b[0m         and executing_eagerly):\n\u001b[1;32m   1744\u001b[0m       \u001b[0;31m# No tape is watching; skip to running the function.\u001b[0m\u001b[0;34m\u001b[0m\u001b[0;34m\u001b[0m\u001b[0m\n\u001b[0;32m-> 1745\u001b[0;31m       return self._build_call_outputs(self._inference_function.call(\n\u001b[0m\u001b[1;32m   1746\u001b[0m           ctx, args, cancellation_manager=cancellation_manager))\n\u001b[1;32m   1747\u001b[0m     forward_backward = self._select_forward_and_backward_functions(\n",
            "\u001b[0;32m/usr/local/lib/python3.9/dist-packages/tensorflow/python/eager/polymorphic_function/monomorphic_function.py\u001b[0m in \u001b[0;36mcall\u001b[0;34m(self, ctx, args, cancellation_manager)\u001b[0m\n\u001b[1;32m    376\u001b[0m       \u001b[0;32mwith\u001b[0m \u001b[0m_InterpolateFunctionError\u001b[0m\u001b[0;34m(\u001b[0m\u001b[0mself\u001b[0m\u001b[0;34m)\u001b[0m\u001b[0;34m:\u001b[0m\u001b[0;34m\u001b[0m\u001b[0;34m\u001b[0m\u001b[0m\n\u001b[1;32m    377\u001b[0m         \u001b[0;32mif\u001b[0m \u001b[0mcancellation_manager\u001b[0m \u001b[0;32mis\u001b[0m \u001b[0;32mNone\u001b[0m\u001b[0;34m:\u001b[0m\u001b[0;34m\u001b[0m\u001b[0;34m\u001b[0m\u001b[0m\n\u001b[0;32m--> 378\u001b[0;31m           outputs = execute.execute(\n\u001b[0m\u001b[1;32m    379\u001b[0m               \u001b[0mstr\u001b[0m\u001b[0;34m(\u001b[0m\u001b[0mself\u001b[0m\u001b[0;34m.\u001b[0m\u001b[0msignature\u001b[0m\u001b[0;34m.\u001b[0m\u001b[0mname\u001b[0m\u001b[0;34m)\u001b[0m\u001b[0;34m,\u001b[0m\u001b[0;34m\u001b[0m\u001b[0;34m\u001b[0m\u001b[0m\n\u001b[1;32m    380\u001b[0m               \u001b[0mnum_outputs\u001b[0m\u001b[0;34m=\u001b[0m\u001b[0mself\u001b[0m\u001b[0;34m.\u001b[0m\u001b[0m_num_outputs\u001b[0m\u001b[0;34m,\u001b[0m\u001b[0;34m\u001b[0m\u001b[0;34m\u001b[0m\u001b[0m\n",
            "\u001b[0;32m/usr/local/lib/python3.9/dist-packages/tensorflow/python/eager/execute.py\u001b[0m in \u001b[0;36mquick_execute\u001b[0;34m(op_name, num_outputs, inputs, attrs, ctx, name)\u001b[0m\n\u001b[1;32m     50\u001b[0m   \u001b[0;32mtry\u001b[0m\u001b[0;34m:\u001b[0m\u001b[0;34m\u001b[0m\u001b[0;34m\u001b[0m\u001b[0m\n\u001b[1;32m     51\u001b[0m     \u001b[0mctx\u001b[0m\u001b[0;34m.\u001b[0m\u001b[0mensure_initialized\u001b[0m\u001b[0;34m(\u001b[0m\u001b[0;34m)\u001b[0m\u001b[0;34m\u001b[0m\u001b[0;34m\u001b[0m\u001b[0m\n\u001b[0;32m---> 52\u001b[0;31m     tensors = pywrap_tfe.TFE_Py_Execute(ctx._handle, device_name, op_name,\n\u001b[0m\u001b[1;32m     53\u001b[0m                                         inputs, attrs, num_outputs)\n\u001b[1;32m     54\u001b[0m   \u001b[0;32mexcept\u001b[0m \u001b[0mcore\u001b[0m\u001b[0;34m.\u001b[0m\u001b[0m_NotOkStatusException\u001b[0m \u001b[0;32mas\u001b[0m \u001b[0me\u001b[0m\u001b[0;34m:\u001b[0m\u001b[0;34m\u001b[0m\u001b[0;34m\u001b[0m\u001b[0m\n",
            "\u001b[0;31mKeyboardInterrupt\u001b[0m: "
          ]
        }
      ]
    },
    {
      "cell_type": "code",
      "source": [],
      "metadata": {
        "id": "9nujsfAa5-UZ"
      },
      "execution_count": null,
      "outputs": []
    },
    {
      "cell_type": "code",
      "source": [
        "file = f'drive/Shareddrives/273_ML_Project/g-research-crypto-forecasting/trained_model_30Window_TCN'\n",
        "pickle.dump(m, open(file, 'wb'))\n",
        "print(f\"Trained model was saved to 'trained_model_id{0}_TCN.pkl'\")"
      ],
      "metadata": {
        "colab": {
          "base_uri": "https://localhost:8080/"
        },
        "id": "WuZ1nTc-u-d-",
        "outputId": "87b33e69-e5ea-4219-ed6b-1c863066ada4"
      },
      "execution_count": null,
      "outputs": [
        {
          "output_type": "stream",
          "name": "stdout",
          "text": [
            "Keras weights file (<HDF5 file \"variables.h5\" (mode r+)>) saving:\n",
            "...layers\n",
            "......add\n",
            ".........vars\n",
            "......dense\n",
            ".........vars\n",
            "............0\n",
            "............1\n",
            "......input_layer\n",
            ".........vars\n",
            "......lambda\n",
            ".........vars\n",
            "......lstm\n",
            ".........cell\n",
            "............vars\n",
            "...............0\n",
            "...............1\n",
            "...............2\n",
            ".........vars\n",
            "......tcn\n",
            ".........residual_block_0\n",
            "............Act_Conv1D_0\n",
            "...............vars\n",
            "............Act_Conv1D_1\n",
            "...............vars\n",
            "............Act_Conv_Blocks\n",
            "...............vars\n",
            "............Act_Res_Block\n",
            "...............vars\n",
            "............SDropout_0\n",
            "...............vars\n",
            "............SDropout_1\n",
            "...............vars\n",
            "............conv1D_0\n",
            "...............vars\n",
            "..................0\n",
            "..................1\n",
            "............conv1D_1\n",
            "...............vars\n",
            "..................0\n",
            "..................1\n",
            "............matching_conv1D\n",
            "...............vars\n",
            "..................0\n",
            "..................1\n",
            "............vars\n",
            ".........residual_block_1\n",
            "............Act_Conv1D_0\n",
            "...............vars\n",
            "............Act_Conv1D_1\n",
            "...............vars\n",
            "............Act_Conv_Blocks\n",
            "...............vars\n",
            "............Act_Res_Block\n",
            "...............vars\n",
            "............SDropout_0\n",
            "...............vars\n",
            "............SDropout_1\n",
            "...............vars\n",
            "............conv1D_0\n",
            "...............vars\n",
            "..................0\n",
            "..................1\n",
            "............conv1D_1\n",
            "...............vars\n",
            "..................0\n",
            "..................1\n",
            "............matching_identity\n",
            "...............vars\n",
            "............vars\n",
            ".........residual_block_2\n",
            "............Act_Conv1D_0\n",
            "...............vars\n",
            "............Act_Conv1D_1\n",
            "...............vars\n",
            "............Act_Conv_Blocks\n",
            "...............vars\n",
            "............Act_Res_Block\n",
            "...............vars\n",
            "............SDropout_0\n",
            "...............vars\n",
            "............SDropout_1\n",
            "...............vars\n",
            "............conv1D_0\n",
            "...............vars\n",
            "..................0\n",
            "..................1\n",
            "............conv1D_1\n",
            "...............vars\n",
            "..................0\n",
            "..................1\n",
            "............matching_identity\n",
            "...............vars\n",
            "............vars\n",
            ".........residual_block_3\n",
            "............Act_Conv1D_0\n",
            "...............vars\n",
            "............Act_Conv1D_1\n",
            "...............vars\n",
            "............Act_Conv_Blocks\n",
            "...............vars\n",
            "............Act_Res_Block\n",
            "...............vars\n",
            "............SDropout_0\n",
            "...............vars\n",
            "............SDropout_1\n",
            "...............vars\n",
            "............conv1D_0\n",
            "...............vars\n",
            "..................0\n",
            "..................1\n",
            "............conv1D_1\n",
            "...............vars\n",
            "..................0\n",
            "..................1\n",
            "............matching_identity\n",
            "...............vars\n",
            "............vars\n",
            ".........residual_block_4\n",
            "............Act_Conv1D_0\n",
            "...............vars\n",
            "............Act_Conv1D_1\n",
            "...............vars\n",
            "............Act_Conv_Blocks\n",
            "...............vars\n",
            "............Act_Res_Block\n",
            "...............vars\n",
            "............SDropout_0\n",
            "...............vars\n",
            "............SDropout_1\n",
            "...............vars\n",
            "............conv1D_0\n",
            "...............vars\n",
            "..................0\n",
            "..................1\n",
            "............conv1D_1\n",
            "...............vars\n",
            "..................0\n",
            "..................1\n",
            "............matching_identity\n",
            "...............vars\n",
            "............vars\n",
            ".........residual_block_5\n",
            "............Act_Conv1D_0\n",
            "...............vars\n",
            "............Act_Conv1D_1\n",
            "...............vars\n",
            "............Act_Conv_Blocks\n",
            "...............vars\n",
            "............Act_Res_Block\n",
            "...............vars\n",
            "............SDropout_0\n",
            "...............vars\n",
            "............SDropout_1\n",
            "...............vars\n",
            "............conv1D_0\n",
            "...............vars\n",
            "..................0\n",
            "..................1\n",
            "............conv1D_1\n",
            "...............vars\n",
            "..................0\n",
            "..................1\n",
            "............matching_identity\n",
            "...............vars\n",
            "............vars\n",
            ".........slicer_layer\n",
            "............vars\n",
            ".........vars\n",
            "......tcn_1\n",
            ".........residual_block_0\n",
            "............Act_Conv1D_0\n",
            "...............vars\n",
            "............Act_Conv1D_1\n",
            "...............vars\n",
            "............Act_Conv_Blocks\n",
            "...............vars\n",
            "............Act_Res_Block\n",
            "...............vars\n",
            "............SDropout_0\n",
            "...............vars\n",
            "............SDropout_1\n",
            "...............vars\n",
            "............conv1D_0\n",
            "...............vars\n",
            "..................0\n",
            "..................1\n",
            "............conv1D_1\n",
            "...............vars\n",
            "..................0\n",
            "..................1\n",
            "............matching_conv1D\n",
            "...............vars\n",
            "..................0\n",
            "..................1\n",
            "............vars\n",
            ".........residual_block_1\n",
            "............Act_Conv1D_0\n",
            "...............vars\n",
            "............Act_Conv1D_1\n",
            "...............vars\n",
            "............Act_Conv_Blocks\n",
            "...............vars\n",
            "............Act_Res_Block\n",
            "...............vars\n",
            "............SDropout_0\n",
            "...............vars\n",
            "............SDropout_1\n",
            "...............vars\n",
            "............conv1D_0\n",
            "...............vars\n",
            "..................0\n",
            "..................1\n",
            "............conv1D_1\n",
            "...............vars\n",
            "..................0\n",
            "..................1\n",
            "............matching_identity\n",
            "...............vars\n",
            "............vars\n",
            ".........residual_block_2\n",
            "............Act_Conv1D_0\n",
            "...............vars\n",
            "............Act_Conv1D_1\n",
            "...............vars\n",
            "............Act_Conv_Blocks\n",
            "...............vars\n",
            "............Act_Res_Block\n",
            "...............vars\n",
            "............SDropout_0\n",
            "...............vars\n",
            "............SDropout_1\n",
            "...............vars\n",
            "............conv1D_0\n",
            "...............vars\n",
            "..................0\n",
            "..................1\n",
            "............conv1D_1\n",
            "...............vars\n",
            "..................0\n",
            "..................1\n",
            "............matching_identity\n",
            "...............vars\n",
            "............vars\n",
            ".........residual_block_3\n",
            "............Act_Conv1D_0\n",
            "...............vars\n",
            "............Act_Conv1D_1\n",
            "...............vars\n",
            "............Act_Conv_Blocks\n",
            "...............vars\n",
            "............Act_Res_Block\n",
            "...............vars\n",
            "............SDropout_0\n",
            "...............vars\n",
            "............SDropout_1\n",
            "...............vars\n",
            "............conv1D_0\n",
            "...............vars\n",
            "..................0\n",
            "..................1\n",
            "............conv1D_1\n",
            "...............vars\n",
            "..................0\n",
            "..................1\n",
            "............matching_identity\n",
            "...............vars\n",
            "............vars\n",
            ".........residual_block_4\n",
            "............Act_Conv1D_0\n",
            "...............vars\n",
            "............Act_Conv1D_1\n",
            "...............vars\n",
            "............Act_Conv_Blocks\n",
            "...............vars\n",
            "............Act_Res_Block\n",
            "...............vars\n",
            "............SDropout_0\n",
            "...............vars\n",
            "............SDropout_1\n",
            "...............vars\n",
            "............conv1D_0\n",
            "...............vars\n",
            "..................0\n",
            "..................1\n",
            "............conv1D_1\n",
            "...............vars\n",
            "..................0\n",
            "..................1\n",
            "............matching_identity\n",
            "...............vars\n",
            "............vars\n",
            ".........residual_block_5\n",
            "............Act_Conv1D_0\n",
            "...............vars\n",
            "............Act_Conv1D_1\n",
            "...............vars\n",
            "............Act_Conv_Blocks\n",
            "...............vars\n",
            "............Act_Res_Block\n",
            "...............vars\n",
            "............SDropout_0\n",
            "...............vars\n",
            "............SDropout_1\n",
            "...............vars\n",
            "............conv1D_0\n",
            "...............vars\n",
            "..................0\n",
            "..................1\n",
            "............conv1D_1\n",
            "...............vars\n",
            "..................0\n",
            "..................1\n",
            "............matching_identity\n",
            "...............vars\n",
            "............vars\n",
            ".........slicer_layer\n",
            "............vars\n",
            ".........vars\n",
            "...metrics\n",
            "......mean\n",
            ".........vars\n",
            "............0\n",
            "............1\n",
            "...optimizer\n",
            "......vars\n",
            ".........0\n",
            ".........1\n",
            ".........10\n",
            ".........100\n",
            ".........101\n",
            ".........102\n",
            ".........103\n",
            ".........104\n",
            ".........105\n",
            ".........106\n",
            ".........107\n",
            ".........108\n",
            ".........109\n",
            ".........11\n",
            ".........110\n",
            ".........111\n",
            ".........112\n",
            ".........113\n",
            ".........114\n",
            ".........12\n",
            ".........13\n",
            ".........14\n",
            ".........15\n",
            ".........16\n",
            ".........17\n",
            ".........18\n",
            ".........19\n",
            ".........2\n",
            ".........20\n",
            ".........21\n",
            ".........22\n",
            ".........23\n",
            ".........24\n",
            ".........25\n",
            ".........26\n",
            ".........27\n",
            ".........28\n",
            ".........29\n",
            ".........3\n",
            ".........30\n",
            ".........31\n",
            ".........32\n",
            ".........33\n",
            ".........34\n",
            ".........35\n",
            ".........36\n",
            ".........37\n",
            ".........38\n",
            ".........39\n",
            ".........4\n",
            ".........40\n",
            ".........41\n",
            ".........42\n",
            ".........43\n",
            ".........44\n",
            ".........45\n",
            ".........46\n",
            ".........47\n",
            ".........48\n",
            ".........49\n",
            ".........5\n",
            ".........50\n",
            ".........51\n",
            ".........52\n",
            ".........53\n",
            ".........54\n",
            ".........55\n",
            ".........56\n",
            ".........57\n",
            ".........58\n",
            ".........59\n",
            ".........6\n",
            ".........60\n",
            ".........61\n",
            ".........62\n",
            ".........63\n",
            ".........64\n",
            ".........65\n",
            ".........66\n",
            ".........67\n",
            ".........68\n",
            ".........69\n",
            ".........7\n",
            ".........70\n",
            ".........71\n",
            ".........72\n",
            ".........73\n",
            ".........74\n",
            ".........75\n",
            ".........76\n",
            ".........77\n",
            ".........78\n",
            ".........79\n",
            ".........8\n",
            ".........80\n",
            ".........81\n",
            ".........82\n",
            ".........83\n",
            ".........84\n",
            ".........85\n",
            ".........86\n",
            ".........87\n",
            ".........88\n",
            ".........89\n",
            ".........9\n",
            ".........90\n",
            ".........91\n",
            ".........92\n",
            ".........93\n",
            ".........94\n",
            ".........95\n",
            ".........96\n",
            ".........97\n",
            ".........98\n",
            ".........99\n",
            "...vars\n",
            "Keras model archive saving:\n",
            "File Name                                             Modified             Size\n",
            "metadata.json                                  2023-03-25 05:29:14           64\n",
            "config.json                                    2023-03-25 05:29:14         3847\n",
            "variables.h5                                   2023-03-25 05:29:15      3730144\n",
            "Trained model was saved to 'trained_model_id0_TCN.pkl'\n"
          ]
        }
      ]
    },
    {
      "cell_type": "code",
      "source": [
        "m.save(\"drive/Shareddrives/273_ML_Project/g-research-crypto-forecasting/trained_model_2_TCN\")"
      ],
      "metadata": {
        "colab": {
          "base_uri": "https://localhost:8080/"
        },
        "id": "63Cu15MnMKOi",
        "outputId": "227aaf59-f466-4b67-c775-5da0ad035de6"
      },
      "execution_count": null,
      "outputs": [
        {
          "output_type": "stream",
          "name": "stderr",
          "text": [
            "WARNING:absl:Found untraced functions such as _update_step_xla, residual_block_0_layer_call_fn, residual_block_0_layer_call_and_return_conditional_losses, residual_block_1_layer_call_fn, residual_block_1_layer_call_and_return_conditional_losses while saving (showing 5 of 225). These functions will not be directly callable after loading.\n"
          ]
        }
      ]
    },
    {
      "cell_type": "code",
      "source": [
        "#m = pickle.load(open(\"trained_model_id0_TCN.pkl\", 'rb'))\n",
        "#Preprocess Test\n",
        "dfSample = sample_data(df.copy(), assit_id = 0, startDate = '02/03/2021', endDate = '01/04/2021')\n",
        "dfSample1 = feature_select(dfSample.copy())\n",
        "dfSample1 = reduce_mem_usage(dfSample1)\n",
        "dfSample1.interpolate(method='nearest')\n",
        "dfSample1 = dfSample1.reindex(columns = [col for col in dfSample1.columns if col != 'Target'] + ['Target'])\n",
        "dfSample1 = dfSample1.fillna(0)\n",
        "dfSample1.replace([np.inf, -np.inf], 0, inplace=True)\n",
        "scaler = preprocessing.MinMaxScaler()\n",
        "dfSample1_fitted = scaler.fit_transform(dfSample1[dfSample1.columns[:-1]])\n",
        "#dfSample1_fitted = reduce_mem_usage(pd.DataFrame((dfSample1_fitted))\n",
        "X_test, y_test = dfSample1_fitted[:,:-1], dfSample1[dfSample1.columns[-1]].values\n",
        "\n",
        "#Create generator\n",
        "n_input = 50 #how many samples/rows/timesteps to look in the past in order to forecast the next sample\n",
        "n_features= X_test.shape[1] # how many predictors/Xs/features we have to predict y\n",
        "b_size = 128 # Number of timeseries samples in each batch\n",
        "generator = TimeseriesGenerator(X_test[:-71], y_test[:-71], length=n_input, batch_size=b_size, shuffle=False)"
      ],
      "metadata": {
        "id": "_1U0MBvkFMz2"
      },
      "execution_count": null,
      "outputs": []
    },
    {
      "cell_type": "code",
      "source": [
        "dfSample1"
      ],
      "metadata": {
        "colab": {
          "base_uri": "https://localhost:8080/",
          "height": 519
        },
        "id": "oncdmJbBCGaM",
        "outputId": "2151e828-23fc-493e-b67d-434599b2b4ed"
      },
      "execution_count": null,
      "outputs": [
        {
          "output_type": "execute_result",
          "data": {
            "text/plain": [
              "                   Open         High          Low        Close        Volume  \\\n",
              "timestamp                                                                      \n",
              "1614643200  3894.966446  3899.173257  3887.461838  3896.158242  8.525338e+05   \n",
              "1614643260  3896.313362  3903.442511  3893.586022  3899.408420  3.008852e+05   \n",
              "1614643320  3899.538276  3905.126788  3895.662290  3901.407034  6.249516e+05   \n",
              "1614643380  3901.999111  3911.702282  3898.991284  3908.817400  6.471994e+05   \n",
              "1614643440  3908.746440  3914.098407  3905.197185  3910.991154  3.937609e+05   \n",
              "...                 ...          ...          ...          ...           ...   \n",
              "1617234960  4574.218259  4576.016652  4570.322371  4573.151666  1.018376e+06   \n",
              "1617235020  4573.198703  4579.394574  4569.705832  4576.547105  6.816973e+05   \n",
              "1617235080  4576.567096  4578.974905  4573.569846  4576.744334  5.308723e+05   \n",
              "1617235140  4577.021088  4584.289852  4574.931378  4579.276206  1.595262e+06   \n",
              "1617235200  4577.021088  4584.289852  4574.931378  4579.276206  1.595262e+06   \n",
              "\n",
              "                   VWAP  LogReturnOpen(5)  LogReturnOpen(15)  \\\n",
              "timestamp                                                      \n",
              "1614643200  3893.264185          0.000000           0.000000   \n",
              "1614643260  3899.311876          0.000000           0.000000   \n",
              "1614643320  3900.251109          0.000000           0.000000   \n",
              "1614643380  3906.413009          0.000000           0.000000   \n",
              "1614643440  3909.933038          0.000000           0.000000   \n",
              "...                 ...               ...                ...   \n",
              "1617234960  4573.715157         -0.001546          -0.000938   \n",
              "1617235020  4573.379712         -0.001049          -0.001413   \n",
              "1617235080  4576.175141          0.000222          -0.001247   \n",
              "1617235140  4579.195236          0.000418          -0.001086   \n",
              "1617235200  4579.195236          0.000010          -0.001187   \n",
              "\n",
              "            LogReturnClose(5)  LogReturnClose(15)  ...  LogReturnOpen(3)  \\\n",
              "timestamp                                          ...                     \n",
              "1614643200           0.000000            0.000000  ...          0.000000   \n",
              "1614643260           0.000000            0.000000  ...          0.000000   \n",
              "1614643320           0.000000            0.000000  ...          0.000000   \n",
              "1614643380           0.000000            0.000000  ...          0.001804   \n",
              "1614643440           0.000000            0.000000  ...          0.003186   \n",
              "...                       ...                 ...  ...               ...   \n",
              "1617234960          -0.001157           -0.001463  ...         -0.000291   \n",
              "1617235020           0.000214           -0.001258  ...         -0.000417   \n",
              "1617235080           0.000208           -0.001174  ...         -0.000089   \n",
              "1617235140           0.000597           -0.000659  ...          0.000613   \n",
              "1617235200           0.001040           -0.001781  ...          0.000835   \n",
              "\n",
              "            LogReturnClose(1)  LogReturnClose(3)  LogReturnHigh(1)  \\\n",
              "timestamp                                                            \n",
              "1614643200           0.000000           0.000000          0.000000   \n",
              "1614643260           0.000834           0.000000          0.527487   \n",
              "1614643320           0.000512           0.000000         -0.243479   \n",
              "1614643380           0.001898           0.003244          0.551740   \n",
              "1614643440           0.000556           0.002966         -0.594989   \n",
              "...                       ...                ...               ...   \n",
              "1617234960          -0.000299          -0.000577         -0.907793   \n",
              "1617235020           0.000742           0.000001          1.236990   \n",
              "1617235080           0.000043           0.000487         -0.945166   \n",
              "1617235140           0.000553           0.001338          1.104869   \n",
              "1617235200           0.000000           0.000596          0.000000   \n",
              "\n",
              "            LogReturnHigh(3)    MAClose21     MAClose7  Upper_Shadow  \\\n",
              "timestamp                                                              \n",
              "1614643200          0.000000     0.000000     0.000000      3.015015   \n",
              "1614643260          0.000000     0.000000     0.000000      4.034092   \n",
              "1614643320          0.000000     0.000000     0.000000      3.719754   \n",
              "1614643380          0.835748     0.000000     0.000000      2.884883   \n",
              "1614643440         -0.286728     0.000000     0.000000      3.107253   \n",
              "...                      ...          ...          ...           ...   \n",
              "1617234960         -0.919006  4580.498202  4576.512937      1.798393   \n",
              "1617235020          0.368057  4580.173891  4575.794675      2.847469   \n",
              "1617235080         -0.615969  4579.903705  4575.551575      2.230571   \n",
              "1617235140          1.396693  4579.867016  4576.081458      5.013646   \n",
              "1617235200          0.159703  4579.871755  4576.579297      5.013646   \n",
              "\n",
              "            Lower_Shadow    Target  \n",
              "timestamp                           \n",
              "1614643200      7.504608  0.000474  \n",
              "1614643260      2.727340  0.000705  \n",
              "1614643320      3.875986  0.000682  \n",
              "1614643380      3.007827  0.000572  \n",
              "1614643440      3.549255  0.000398  \n",
              "...                  ...       ...  \n",
              "1617234960      2.829296 -0.000354  \n",
              "1617235020      3.492870 -0.000611  \n",
              "1617235080      2.997250 -0.001045  \n",
              "1617235140      2.089710 -0.000714  \n",
              "1617235200      2.089710 -0.000714  \n",
              "\n",
              "[43201 rows x 23 columns]"
            ],
            "text/html": [
              "\n",
              "  <div id=\"df-bbb314ed-7ab2-4ae3-a46c-eff55589cd1f\">\n",
              "    <div class=\"colab-df-container\">\n",
              "      <div>\n",
              "<style scoped>\n",
              "    .dataframe tbody tr th:only-of-type {\n",
              "        vertical-align: middle;\n",
              "    }\n",
              "\n",
              "    .dataframe tbody tr th {\n",
              "        vertical-align: top;\n",
              "    }\n",
              "\n",
              "    .dataframe thead th {\n",
              "        text-align: right;\n",
              "    }\n",
              "</style>\n",
              "<table border=\"1\" class=\"dataframe\">\n",
              "  <thead>\n",
              "    <tr style=\"text-align: right;\">\n",
              "      <th></th>\n",
              "      <th>Open</th>\n",
              "      <th>High</th>\n",
              "      <th>Low</th>\n",
              "      <th>Close</th>\n",
              "      <th>Volume</th>\n",
              "      <th>VWAP</th>\n",
              "      <th>LogReturnOpen(5)</th>\n",
              "      <th>LogReturnOpen(15)</th>\n",
              "      <th>LogReturnClose(5)</th>\n",
              "      <th>LogReturnClose(15)</th>\n",
              "      <th>...</th>\n",
              "      <th>LogReturnOpen(3)</th>\n",
              "      <th>LogReturnClose(1)</th>\n",
              "      <th>LogReturnClose(3)</th>\n",
              "      <th>LogReturnHigh(1)</th>\n",
              "      <th>LogReturnHigh(3)</th>\n",
              "      <th>MAClose21</th>\n",
              "      <th>MAClose7</th>\n",
              "      <th>Upper_Shadow</th>\n",
              "      <th>Lower_Shadow</th>\n",
              "      <th>Target</th>\n",
              "    </tr>\n",
              "    <tr>\n",
              "      <th>timestamp</th>\n",
              "      <th></th>\n",
              "      <th></th>\n",
              "      <th></th>\n",
              "      <th></th>\n",
              "      <th></th>\n",
              "      <th></th>\n",
              "      <th></th>\n",
              "      <th></th>\n",
              "      <th></th>\n",
              "      <th></th>\n",
              "      <th></th>\n",
              "      <th></th>\n",
              "      <th></th>\n",
              "      <th></th>\n",
              "      <th></th>\n",
              "      <th></th>\n",
              "      <th></th>\n",
              "      <th></th>\n",
              "      <th></th>\n",
              "      <th></th>\n",
              "      <th></th>\n",
              "    </tr>\n",
              "  </thead>\n",
              "  <tbody>\n",
              "    <tr>\n",
              "      <th>1614643200</th>\n",
              "      <td>3894.966446</td>\n",
              "      <td>3899.173257</td>\n",
              "      <td>3887.461838</td>\n",
              "      <td>3896.158242</td>\n",
              "      <td>8.525338e+05</td>\n",
              "      <td>3893.264185</td>\n",
              "      <td>0.000000</td>\n",
              "      <td>0.000000</td>\n",
              "      <td>0.000000</td>\n",
              "      <td>0.000000</td>\n",
              "      <td>...</td>\n",
              "      <td>0.000000</td>\n",
              "      <td>0.000000</td>\n",
              "      <td>0.000000</td>\n",
              "      <td>0.000000</td>\n",
              "      <td>0.000000</td>\n",
              "      <td>0.000000</td>\n",
              "      <td>0.000000</td>\n",
              "      <td>3.015015</td>\n",
              "      <td>7.504608</td>\n",
              "      <td>0.000474</td>\n",
              "    </tr>\n",
              "    <tr>\n",
              "      <th>1614643260</th>\n",
              "      <td>3896.313362</td>\n",
              "      <td>3903.442511</td>\n",
              "      <td>3893.586022</td>\n",
              "      <td>3899.408420</td>\n",
              "      <td>3.008852e+05</td>\n",
              "      <td>3899.311876</td>\n",
              "      <td>0.000000</td>\n",
              "      <td>0.000000</td>\n",
              "      <td>0.000000</td>\n",
              "      <td>0.000000</td>\n",
              "      <td>...</td>\n",
              "      <td>0.000000</td>\n",
              "      <td>0.000834</td>\n",
              "      <td>0.000000</td>\n",
              "      <td>0.527487</td>\n",
              "      <td>0.000000</td>\n",
              "      <td>0.000000</td>\n",
              "      <td>0.000000</td>\n",
              "      <td>4.034092</td>\n",
              "      <td>2.727340</td>\n",
              "      <td>0.000705</td>\n",
              "    </tr>\n",
              "    <tr>\n",
              "      <th>1614643320</th>\n",
              "      <td>3899.538276</td>\n",
              "      <td>3905.126788</td>\n",
              "      <td>3895.662290</td>\n",
              "      <td>3901.407034</td>\n",
              "      <td>6.249516e+05</td>\n",
              "      <td>3900.251109</td>\n",
              "      <td>0.000000</td>\n",
              "      <td>0.000000</td>\n",
              "      <td>0.000000</td>\n",
              "      <td>0.000000</td>\n",
              "      <td>...</td>\n",
              "      <td>0.000000</td>\n",
              "      <td>0.000512</td>\n",
              "      <td>0.000000</td>\n",
              "      <td>-0.243479</td>\n",
              "      <td>0.000000</td>\n",
              "      <td>0.000000</td>\n",
              "      <td>0.000000</td>\n",
              "      <td>3.719754</td>\n",
              "      <td>3.875986</td>\n",
              "      <td>0.000682</td>\n",
              "    </tr>\n",
              "    <tr>\n",
              "      <th>1614643380</th>\n",
              "      <td>3901.999111</td>\n",
              "      <td>3911.702282</td>\n",
              "      <td>3898.991284</td>\n",
              "      <td>3908.817400</td>\n",
              "      <td>6.471994e+05</td>\n",
              "      <td>3906.413009</td>\n",
              "      <td>0.000000</td>\n",
              "      <td>0.000000</td>\n",
              "      <td>0.000000</td>\n",
              "      <td>0.000000</td>\n",
              "      <td>...</td>\n",
              "      <td>0.001804</td>\n",
              "      <td>0.001898</td>\n",
              "      <td>0.003244</td>\n",
              "      <td>0.551740</td>\n",
              "      <td>0.835748</td>\n",
              "      <td>0.000000</td>\n",
              "      <td>0.000000</td>\n",
              "      <td>2.884883</td>\n",
              "      <td>3.007827</td>\n",
              "      <td>0.000572</td>\n",
              "    </tr>\n",
              "    <tr>\n",
              "      <th>1614643440</th>\n",
              "      <td>3908.746440</td>\n",
              "      <td>3914.098407</td>\n",
              "      <td>3905.197185</td>\n",
              "      <td>3910.991154</td>\n",
              "      <td>3.937609e+05</td>\n",
              "      <td>3909.933038</td>\n",
              "      <td>0.000000</td>\n",
              "      <td>0.000000</td>\n",
              "      <td>0.000000</td>\n",
              "      <td>0.000000</td>\n",
              "      <td>...</td>\n",
              "      <td>0.003186</td>\n",
              "      <td>0.000556</td>\n",
              "      <td>0.002966</td>\n",
              "      <td>-0.594989</td>\n",
              "      <td>-0.286728</td>\n",
              "      <td>0.000000</td>\n",
              "      <td>0.000000</td>\n",
              "      <td>3.107253</td>\n",
              "      <td>3.549255</td>\n",
              "      <td>0.000398</td>\n",
              "    </tr>\n",
              "    <tr>\n",
              "      <th>...</th>\n",
              "      <td>...</td>\n",
              "      <td>...</td>\n",
              "      <td>...</td>\n",
              "      <td>...</td>\n",
              "      <td>...</td>\n",
              "      <td>...</td>\n",
              "      <td>...</td>\n",
              "      <td>...</td>\n",
              "      <td>...</td>\n",
              "      <td>...</td>\n",
              "      <td>...</td>\n",
              "      <td>...</td>\n",
              "      <td>...</td>\n",
              "      <td>...</td>\n",
              "      <td>...</td>\n",
              "      <td>...</td>\n",
              "      <td>...</td>\n",
              "      <td>...</td>\n",
              "      <td>...</td>\n",
              "      <td>...</td>\n",
              "      <td>...</td>\n",
              "    </tr>\n",
              "    <tr>\n",
              "      <th>1617234960</th>\n",
              "      <td>4574.218259</td>\n",
              "      <td>4576.016652</td>\n",
              "      <td>4570.322371</td>\n",
              "      <td>4573.151666</td>\n",
              "      <td>1.018376e+06</td>\n",
              "      <td>4573.715157</td>\n",
              "      <td>-0.001546</td>\n",
              "      <td>-0.000938</td>\n",
              "      <td>-0.001157</td>\n",
              "      <td>-0.001463</td>\n",
              "      <td>...</td>\n",
              "      <td>-0.000291</td>\n",
              "      <td>-0.000299</td>\n",
              "      <td>-0.000577</td>\n",
              "      <td>-0.907793</td>\n",
              "      <td>-0.919006</td>\n",
              "      <td>4580.498202</td>\n",
              "      <td>4576.512937</td>\n",
              "      <td>1.798393</td>\n",
              "      <td>2.829296</td>\n",
              "      <td>-0.000354</td>\n",
              "    </tr>\n",
              "    <tr>\n",
              "      <th>1617235020</th>\n",
              "      <td>4573.198703</td>\n",
              "      <td>4579.394574</td>\n",
              "      <td>4569.705832</td>\n",
              "      <td>4576.547105</td>\n",
              "      <td>6.816973e+05</td>\n",
              "      <td>4573.379712</td>\n",
              "      <td>-0.001049</td>\n",
              "      <td>-0.001413</td>\n",
              "      <td>0.000214</td>\n",
              "      <td>-0.001258</td>\n",
              "      <td>...</td>\n",
              "      <td>-0.000417</td>\n",
              "      <td>0.000742</td>\n",
              "      <td>0.000001</td>\n",
              "      <td>1.236990</td>\n",
              "      <td>0.368057</td>\n",
              "      <td>4580.173891</td>\n",
              "      <td>4575.794675</td>\n",
              "      <td>2.847469</td>\n",
              "      <td>3.492870</td>\n",
              "      <td>-0.000611</td>\n",
              "    </tr>\n",
              "    <tr>\n",
              "      <th>1617235080</th>\n",
              "      <td>4576.567096</td>\n",
              "      <td>4578.974905</td>\n",
              "      <td>4573.569846</td>\n",
              "      <td>4576.744334</td>\n",
              "      <td>5.308723e+05</td>\n",
              "      <td>4576.175141</td>\n",
              "      <td>0.000222</td>\n",
              "      <td>-0.001247</td>\n",
              "      <td>0.000208</td>\n",
              "      <td>-0.001174</td>\n",
              "      <td>...</td>\n",
              "      <td>-0.000089</td>\n",
              "      <td>0.000043</td>\n",
              "      <td>0.000487</td>\n",
              "      <td>-0.945166</td>\n",
              "      <td>-0.615969</td>\n",
              "      <td>4579.903705</td>\n",
              "      <td>4575.551575</td>\n",
              "      <td>2.230571</td>\n",
              "      <td>2.997250</td>\n",
              "      <td>-0.001045</td>\n",
              "    </tr>\n",
              "    <tr>\n",
              "      <th>1617235140</th>\n",
              "      <td>4577.021088</td>\n",
              "      <td>4584.289852</td>\n",
              "      <td>4574.931378</td>\n",
              "      <td>4579.276206</td>\n",
              "      <td>1.595262e+06</td>\n",
              "      <td>4579.195236</td>\n",
              "      <td>0.000418</td>\n",
              "      <td>-0.001086</td>\n",
              "      <td>0.000597</td>\n",
              "      <td>-0.000659</td>\n",
              "      <td>...</td>\n",
              "      <td>0.000613</td>\n",
              "      <td>0.000553</td>\n",
              "      <td>0.001338</td>\n",
              "      <td>1.104869</td>\n",
              "      <td>1.396693</td>\n",
              "      <td>4579.867016</td>\n",
              "      <td>4576.081458</td>\n",
              "      <td>5.013646</td>\n",
              "      <td>2.089710</td>\n",
              "      <td>-0.000714</td>\n",
              "    </tr>\n",
              "    <tr>\n",
              "      <th>1617235200</th>\n",
              "      <td>4577.021088</td>\n",
              "      <td>4584.289852</td>\n",
              "      <td>4574.931378</td>\n",
              "      <td>4579.276206</td>\n",
              "      <td>1.595262e+06</td>\n",
              "      <td>4579.195236</td>\n",
              "      <td>0.000010</td>\n",
              "      <td>-0.001187</td>\n",
              "      <td>0.001040</td>\n",
              "      <td>-0.001781</td>\n",
              "      <td>...</td>\n",
              "      <td>0.000835</td>\n",
              "      <td>0.000000</td>\n",
              "      <td>0.000596</td>\n",
              "      <td>0.000000</td>\n",
              "      <td>0.159703</td>\n",
              "      <td>4579.871755</td>\n",
              "      <td>4576.579297</td>\n",
              "      <td>5.013646</td>\n",
              "      <td>2.089710</td>\n",
              "      <td>-0.000714</td>\n",
              "    </tr>\n",
              "  </tbody>\n",
              "</table>\n",
              "<p>43201 rows × 23 columns</p>\n",
              "</div>\n",
              "      <button class=\"colab-df-convert\" onclick=\"convertToInteractive('df-bbb314ed-7ab2-4ae3-a46c-eff55589cd1f')\"\n",
              "              title=\"Convert this dataframe to an interactive table.\"\n",
              "              style=\"display:none;\">\n",
              "        \n",
              "  <svg xmlns=\"http://www.w3.org/2000/svg\" height=\"24px\"viewBox=\"0 0 24 24\"\n",
              "       width=\"24px\">\n",
              "    <path d=\"M0 0h24v24H0V0z\" fill=\"none\"/>\n",
              "    <path d=\"M18.56 5.44l.94 2.06.94-2.06 2.06-.94-2.06-.94-.94-2.06-.94 2.06-2.06.94zm-11 1L8.5 8.5l.94-2.06 2.06-.94-2.06-.94L8.5 2.5l-.94 2.06-2.06.94zm10 10l.94 2.06.94-2.06 2.06-.94-2.06-.94-.94-2.06-.94 2.06-2.06.94z\"/><path d=\"M17.41 7.96l-1.37-1.37c-.4-.4-.92-.59-1.43-.59-.52 0-1.04.2-1.43.59L10.3 9.45l-7.72 7.72c-.78.78-.78 2.05 0 2.83L4 21.41c.39.39.9.59 1.41.59.51 0 1.02-.2 1.41-.59l7.78-7.78 2.81-2.81c.8-.78.8-2.07 0-2.86zM5.41 20L4 18.59l7.72-7.72 1.47 1.35L5.41 20z\"/>\n",
              "  </svg>\n",
              "      </button>\n",
              "      \n",
              "  <style>\n",
              "    .colab-df-container {\n",
              "      display:flex;\n",
              "      flex-wrap:wrap;\n",
              "      gap: 12px;\n",
              "    }\n",
              "\n",
              "    .colab-df-convert {\n",
              "      background-color: #E8F0FE;\n",
              "      border: none;\n",
              "      border-radius: 50%;\n",
              "      cursor: pointer;\n",
              "      display: none;\n",
              "      fill: #1967D2;\n",
              "      height: 32px;\n",
              "      padding: 0 0 0 0;\n",
              "      width: 32px;\n",
              "    }\n",
              "\n",
              "    .colab-df-convert:hover {\n",
              "      background-color: #E2EBFA;\n",
              "      box-shadow: 0px 1px 2px rgba(60, 64, 67, 0.3), 0px 1px 3px 1px rgba(60, 64, 67, 0.15);\n",
              "      fill: #174EA6;\n",
              "    }\n",
              "\n",
              "    [theme=dark] .colab-df-convert {\n",
              "      background-color: #3B4455;\n",
              "      fill: #D2E3FC;\n",
              "    }\n",
              "\n",
              "    [theme=dark] .colab-df-convert:hover {\n",
              "      background-color: #434B5C;\n",
              "      box-shadow: 0px 1px 3px 1px rgba(0, 0, 0, 0.15);\n",
              "      filter: drop-shadow(0px 1px 2px rgba(0, 0, 0, 0.3));\n",
              "      fill: #FFFFFF;\n",
              "    }\n",
              "  </style>\n",
              "\n",
              "      <script>\n",
              "        const buttonEl =\n",
              "          document.querySelector('#df-bbb314ed-7ab2-4ae3-a46c-eff55589cd1f button.colab-df-convert');\n",
              "        buttonEl.style.display =\n",
              "          google.colab.kernel.accessAllowed ? 'block' : 'none';\n",
              "\n",
              "        async function convertToInteractive(key) {\n",
              "          const element = document.querySelector('#df-bbb314ed-7ab2-4ae3-a46c-eff55589cd1f');\n",
              "          const dataTable =\n",
              "            await google.colab.kernel.invokeFunction('convertToInteractive',\n",
              "                                                     [key], {});\n",
              "          if (!dataTable) return;\n",
              "\n",
              "          const docLinkHtml = 'Like what you see? Visit the ' +\n",
              "            '<a target=\"_blank\" href=https://colab.research.google.com/notebooks/data_table.ipynb>data table notebook</a>'\n",
              "            + ' to learn more about interactive tables.';\n",
              "          element.innerHTML = '';\n",
              "          dataTable['output_type'] = 'display_data';\n",
              "          await google.colab.output.renderOutput(dataTable, element);\n",
              "          const docLink = document.createElement('div');\n",
              "          docLink.innerHTML = docLinkHtml;\n",
              "          element.appendChild(docLink);\n",
              "        }\n",
              "      </script>\n",
              "    </div>\n",
              "  </div>\n",
              "  "
            ]
          },
          "metadata": {},
          "execution_count": 140
        }
      ]
    },
    {
      "cell_type": "code",
      "source": [
        "pred_y = m.predict(generator)"
      ],
      "metadata": {
        "colab": {
          "base_uri": "https://localhost:8080/",
          "height": 1000
        },
        "id": "7Wsps_JxFVc8",
        "outputId": "4c6b9234-0266-48a3-858e-6673a26473a7"
      },
      "execution_count": null,
      "outputs": [
        {
          "output_type": "error",
          "ename": "InvalidArgumentError",
          "evalue": "ignored",
          "traceback": [
            "\u001b[0;31m---------------------------------------------------------------------------\u001b[0m",
            "\u001b[0;31mInvalidArgumentError\u001b[0m                      Traceback (most recent call last)",
            "\u001b[0;32m<ipython-input-142-27ff35ad13b9>\u001b[0m in \u001b[0;36m<module>\u001b[0;34m\u001b[0m\n\u001b[0;32m----> 1\u001b[0;31m \u001b[0mpred_y\u001b[0m \u001b[0;34m=\u001b[0m \u001b[0mm\u001b[0m\u001b[0;34m.\u001b[0m\u001b[0mpredict\u001b[0m\u001b[0;34m(\u001b[0m\u001b[0mgenerator\u001b[0m\u001b[0;34m)\u001b[0m\u001b[0;34m\u001b[0m\u001b[0;34m\u001b[0m\u001b[0m\n\u001b[0m",
            "\u001b[0;32m/usr/local/lib/python3.9/dist-packages/keras/utils/traceback_utils.py\u001b[0m in \u001b[0;36merror_handler\u001b[0;34m(*args, **kwargs)\u001b[0m\n\u001b[1;32m     68\u001b[0m             \u001b[0;31m# To get the full stack trace, call:\u001b[0m\u001b[0;34m\u001b[0m\u001b[0;34m\u001b[0m\u001b[0m\n\u001b[1;32m     69\u001b[0m             \u001b[0;31m# `tf.debugging.disable_traceback_filtering()`\u001b[0m\u001b[0;34m\u001b[0m\u001b[0;34m\u001b[0m\u001b[0m\n\u001b[0;32m---> 70\u001b[0;31m             \u001b[0;32mraise\u001b[0m \u001b[0me\u001b[0m\u001b[0;34m.\u001b[0m\u001b[0mwith_traceback\u001b[0m\u001b[0;34m(\u001b[0m\u001b[0mfiltered_tb\u001b[0m\u001b[0;34m)\u001b[0m \u001b[0;32mfrom\u001b[0m \u001b[0;32mNone\u001b[0m\u001b[0;34m\u001b[0m\u001b[0;34m\u001b[0m\u001b[0m\n\u001b[0m\u001b[1;32m     71\u001b[0m         \u001b[0;32mfinally\u001b[0m\u001b[0;34m:\u001b[0m\u001b[0;34m\u001b[0m\u001b[0;34m\u001b[0m\u001b[0m\n\u001b[1;32m     72\u001b[0m             \u001b[0;32mdel\u001b[0m \u001b[0mfiltered_tb\u001b[0m\u001b[0;34m\u001b[0m\u001b[0;34m\u001b[0m\u001b[0m\n",
            "\u001b[0;32m/usr/local/lib/python3.9/dist-packages/tensorflow/python/eager/execute.py\u001b[0m in \u001b[0;36mquick_execute\u001b[0;34m(op_name, num_outputs, inputs, attrs, ctx, name)\u001b[0m\n\u001b[1;32m     50\u001b[0m   \u001b[0;32mtry\u001b[0m\u001b[0;34m:\u001b[0m\u001b[0;34m\u001b[0m\u001b[0;34m\u001b[0m\u001b[0m\n\u001b[1;32m     51\u001b[0m     \u001b[0mctx\u001b[0m\u001b[0;34m.\u001b[0m\u001b[0mensure_initialized\u001b[0m\u001b[0;34m(\u001b[0m\u001b[0;34m)\u001b[0m\u001b[0;34m\u001b[0m\u001b[0;34m\u001b[0m\u001b[0m\n\u001b[0;32m---> 52\u001b[0;31m     tensors = pywrap_tfe.TFE_Py_Execute(ctx._handle, device_name, op_name,\n\u001b[0m\u001b[1;32m     53\u001b[0m                                         inputs, attrs, num_outputs)\n\u001b[1;32m     54\u001b[0m   \u001b[0;32mexcept\u001b[0m \u001b[0mcore\u001b[0m\u001b[0;34m.\u001b[0m\u001b[0m_NotOkStatusException\u001b[0m \u001b[0;32mas\u001b[0m \u001b[0me\u001b[0m\u001b[0;34m:\u001b[0m\u001b[0;34m\u001b[0m\u001b[0;34m\u001b[0m\u001b[0m\n",
            "\u001b[0;31mInvalidArgumentError\u001b[0m: Graph execution error:\n\nDetected at node 'model_21/tcn_48/residual_block_1/conv1D_0/Conv1D/SpaceToBatchND' defined at (most recent call last):\n    File \"/usr/lib/python3.9/runpy.py\", line 197, in _run_module_as_main\n      return _run_code(code, main_globals, None,\n    File \"/usr/lib/python3.9/runpy.py\", line 87, in _run_code\n      exec(code, run_globals)\n    File \"/usr/local/lib/python3.9/dist-packages/ipykernel_launcher.py\", line 16, in <module>\n      app.launch_new_instance()\n    File \"/usr/local/lib/python3.9/dist-packages/traitlets/config/application.py\", line 992, in launch_instance\n      app.start()\n    File \"/usr/local/lib/python3.9/dist-packages/ipykernel/kernelapp.py\", line 612, in start\n      self.io_loop.start()\n    File \"/usr/local/lib/python3.9/dist-packages/tornado/platform/asyncio.py\", line 215, in start\n      self.asyncio_loop.run_forever()\n    File \"/usr/lib/python3.9/asyncio/base_events.py\", line 601, in run_forever\n      self._run_once()\n    File \"/usr/lib/python3.9/asyncio/base_events.py\", line 1905, in _run_once\n      handle._run()\n    File \"/usr/lib/python3.9/asyncio/events.py\", line 80, in _run\n      self._context.run(self._callback, *self._args)\n    File \"/usr/local/lib/python3.9/dist-packages/tornado/ioloop.py\", line 687, in <lambda>\n      lambda f: self._run_callback(functools.partial(callback, future))\n    File \"/usr/local/lib/python3.9/dist-packages/tornado/ioloop.py\", line 740, in _run_callback\n      ret = callback()\n    File \"/usr/local/lib/python3.9/dist-packages/tornado/gen.py\", line 821, in inner\n      self.ctx_run(self.run)\n    File \"/usr/local/lib/python3.9/dist-packages/tornado/gen.py\", line 782, in run\n      yielded = self.gen.send(value)\n    File \"/usr/local/lib/python3.9/dist-packages/ipykernel/kernelbase.py\", line 381, in dispatch_queue\n      yield self.process_one()\n    File \"/usr/local/lib/python3.9/dist-packages/tornado/gen.py\", line 250, in wrapper\n      runner = Runner(ctx_run, result, future, yielded)\n    File \"/usr/local/lib/python3.9/dist-packages/tornado/gen.py\", line 748, in __init__\n      self.ctx_run(self.run)\n    File \"/usr/local/lib/python3.9/dist-packages/tornado/gen.py\", line 782, in run\n      yielded = self.gen.send(value)\n    File \"/usr/local/lib/python3.9/dist-packages/ipykernel/kernelbase.py\", line 365, in process_one\n      yield gen.maybe_future(dispatch(*args))\n    File \"/usr/local/lib/python3.9/dist-packages/tornado/gen.py\", line 234, in wrapper\n      yielded = ctx_run(next, result)\n    File \"/usr/local/lib/python3.9/dist-packages/ipykernel/kernelbase.py\", line 268, in dispatch_shell\n      yield gen.maybe_future(handler(stream, idents, msg))\n    File \"/usr/local/lib/python3.9/dist-packages/tornado/gen.py\", line 234, in wrapper\n      yielded = ctx_run(next, result)\n    File \"/usr/local/lib/python3.9/dist-packages/ipykernel/kernelbase.py\", line 543, in execute_request\n      self.do_execute(\n    File \"/usr/local/lib/python3.9/dist-packages/tornado/gen.py\", line 234, in wrapper\n      yielded = ctx_run(next, result)\n    File \"/usr/local/lib/python3.9/dist-packages/ipykernel/ipkernel.py\", line 306, in do_execute\n      res = shell.run_cell(code, store_history=store_history, silent=silent)\n    File \"/usr/local/lib/python3.9/dist-packages/ipykernel/zmqshell.py\", line 536, in run_cell\n      return super(ZMQInteractiveShell, self).run_cell(*args, **kwargs)\n    File \"/usr/local/lib/python3.9/dist-packages/IPython/core/interactiveshell.py\", line 2854, in run_cell\n      result = self._run_cell(\n    File \"/usr/local/lib/python3.9/dist-packages/IPython/core/interactiveshell.py\", line 2881, in _run_cell\n      return runner(coro)\n    File \"/usr/local/lib/python3.9/dist-packages/IPython/core/async_helpers.py\", line 68, in _pseudo_sync_runner\n      coro.send(None)\n    File \"/usr/local/lib/python3.9/dist-packages/IPython/core/interactiveshell.py\", line 3057, in run_cell_async\n      has_raised = await self.run_ast_nodes(code_ast.body, cell_name,\n    File \"/usr/local/lib/python3.9/dist-packages/IPython/core/interactiveshell.py\", line 3249, in run_ast_nodes\n      if (await self.run_code(code, result,  async_=asy)):\n    File \"/usr/local/lib/python3.9/dist-packages/IPython/core/interactiveshell.py\", line 3326, in run_code\n      exec(code_obj, self.user_global_ns, self.user_ns)\n    File \"<ipython-input-135-27ff35ad13b9>\", line 1, in <module>\n      pred_y = m.predict(generator)\n    File \"/usr/local/lib/python3.9/dist-packages/keras/utils/traceback_utils.py\", line 65, in error_handler\n      return fn(*args, **kwargs)\n    File \"/usr/local/lib/python3.9/dist-packages/keras/engine/training.py\", line 2350, in predict\n      tmp_batch_outputs = self.predict_function(iterator)\n    File \"/usr/local/lib/python3.9/dist-packages/keras/engine/training.py\", line 2137, in predict_function\n      return step_function(self, iterator)\n    File \"/usr/local/lib/python3.9/dist-packages/keras/engine/training.py\", line 2123, in step_function\n      outputs = model.distribute_strategy.run(run_step, args=(data,))\n    File \"/usr/local/lib/python3.9/dist-packages/keras/engine/training.py\", line 2111, in run_step\n      outputs = model.predict_step(data)\n    File \"/usr/local/lib/python3.9/dist-packages/keras/engine/training.py\", line 2079, in predict_step\n      return self(x, training=False)\n    File \"/usr/local/lib/python3.9/dist-packages/keras/utils/traceback_utils.py\", line 65, in error_handler\n      return fn(*args, **kwargs)\n    File \"/usr/local/lib/python3.9/dist-packages/keras/engine/training.py\", line 561, in __call__\n      return super().__call__(*args, **kwargs)\n    File \"/usr/local/lib/python3.9/dist-packages/keras/utils/traceback_utils.py\", line 65, in error_handler\n      return fn(*args, **kwargs)\n    File \"/usr/local/lib/python3.9/dist-packages/keras/engine/base_layer.py\", line 1132, in __call__\n      outputs = call_fn(inputs, *args, **kwargs)\n    File \"/usr/local/lib/python3.9/dist-packages/keras/utils/traceback_utils.py\", line 96, in error_handler\n      return fn(*args, **kwargs)\n    File \"/usr/local/lib/python3.9/dist-packages/keras/engine/functional.py\", line 511, in call\n      return self._run_internal_graph(inputs, training=training, mask=mask)\n    File \"/usr/local/lib/python3.9/dist-packages/keras/engine/functional.py\", line 668, in _run_internal_graph\n      outputs = node.layer(*args, **kwargs)\n    File \"/usr/local/lib/python3.9/dist-packages/keras/utils/traceback_utils.py\", line 65, in error_handler\n      return fn(*args, **kwargs)\n    File \"/usr/local/lib/python3.9/dist-packages/keras/engine/base_layer.py\", line 1132, in __call__\n      outputs = call_fn(inputs, *args, **kwargs)\n    File \"/usr/local/lib/python3.9/dist-packages/keras/utils/traceback_utils.py\", line 96, in error_handler\n      return fn(*args, **kwargs)\n    File \"/usr/local/lib/python3.9/dist-packages/tcn/tcn.py\", line 342, in call\n      for res_block in self.residual_blocks:\n    File \"/usr/local/lib/python3.9/dist-packages/tcn/tcn.py\", line 344, in call\n      x, skip_out = res_block(x, training=training)\n    File \"/usr/local/lib/python3.9/dist-packages/keras/utils/traceback_utils.py\", line 65, in error_handler\n      return fn(*args, **kwargs)\n    File \"/usr/local/lib/python3.9/dist-packages/keras/engine/base_layer.py\", line 1132, in __call__\n      outputs = call_fn(inputs, *args, **kwargs)\n    File \"/usr/local/lib/python3.9/dist-packages/keras/utils/traceback_utils.py\", line 96, in error_handler\n      return fn(*args, **kwargs)\n    File \"/usr/local/lib/python3.9/dist-packages/tcn/tcn.py\", line 173, in call\n      for layer in self.layers:\n    File \"/usr/local/lib/python3.9/dist-packages/tcn/tcn.py\", line 175, in call\n      x1 = layer(x1, training=training) if training_flag else layer(x1)\n    File \"/usr/local/lib/python3.9/dist-packages/tcn/tcn.py\", line 175, in call\n      x1 = layer(x1, training=training) if training_flag else layer(x1)\n    File \"/usr/local/lib/python3.9/dist-packages/keras/utils/traceback_utils.py\", line 65, in error_handler\n      return fn(*args, **kwargs)\n    File \"/usr/local/lib/python3.9/dist-packages/keras/engine/base_layer.py\", line 1132, in __call__\n      outputs = call_fn(inputs, *args, **kwargs)\n    File \"/usr/local/lib/python3.9/dist-packages/keras/utils/traceback_utils.py\", line 96, in error_handler\n      return fn(*args, **kwargs)\n    File \"/usr/local/lib/python3.9/dist-packages/keras/layers/convolutional/base_conv.py\", line 283, in call\n      outputs = self.convolution_op(inputs, self.kernel)\n    File \"/usr/local/lib/python3.9/dist-packages/keras/layers/convolutional/base_conv.py\", line 255, in convolution_op\n      return tf.nn.convolution(\nNode: 'model_21/tcn_48/residual_block_1/conv1D_0/Conv1D/SpaceToBatchND'\npadded_shape[0]=29 is not divisible by block_shape[0]=2\n\t [[{{node model_21/tcn_48/residual_block_1/conv1D_0/Conv1D/SpaceToBatchND}}]] [Op:__inference_predict_function_325579]"
          ]
        }
      ]
    },
    {
      "cell_type": "code",
      "source": [
        "m.summary()"
      ],
      "metadata": {
        "colab": {
          "base_uri": "https://localhost:8080/"
        },
        "id": "ocytCb9h_2s3",
        "outputId": "7b412daf-0785-4c3b-cdac-d564309b306b"
      },
      "execution_count": null,
      "outputs": [
        {
          "output_type": "stream",
          "name": "stdout",
          "text": [
            "Model: \"model_21\"\n",
            "__________________________________________________________________________________________________\n",
            " Layer (type)                   Output Shape         Param #     Connected to                     \n",
            "==================================================================================================\n",
            " input_25 (InputLayer)          [(128, 50, 21)]      0           []                               \n",
            "                                                                                                  \n",
            " lambda_24 (Lambda)             (128, 50, 21)        0           ['input_25[0][0]']               \n",
            "                                                                                                  \n",
            " tcn_48 (TCN)                   (128, 50, 64)        141376      ['input_25[0][0]']               \n",
            "                                                                                                  \n",
            " tcn_49 (TCN)                   (128, 50, 64)        141376      ['lambda_24[0][0]']              \n",
            "                                                                                                  \n",
            " add_24 (Add)                   (128, 50, 64)        0           ['tcn_48[0][0]',                 \n",
            "                                                                  'tcn_49[0][0]']                 \n",
            "                                                                                                  \n",
            " lstm_26 (LSTM)                 (128, 16)            5184        ['add_24[0][0]']                 \n",
            "                                                                                                  \n",
            " dense_21 (Dense)               (128, 4)             68          ['lstm_26[0][0]']                \n",
            "                                                                                                  \n",
            "==================================================================================================\n",
            "Total params: 288,004\n",
            "Trainable params: 288,004\n",
            "Non-trainable params: 0\n",
            "__________________________________________________________________________________________________\n"
          ]
        }
      ]
    },
    {
      "cell_type": "code",
      "source": [
        "print(history.history.keys())\n",
        "# summarize history for accuracy\n",
        "plt.plot(history.history['loss'][1:])\n",
        "plt.plot(history.history['val_loss'][1:])\n",
        "plt.title('model accuracy')\n",
        "plt.ylabel('loss')\n",
        "plt.xlabel('epoch')\n",
        "plt.legend(['train', 'test'], loc='upper left')\n",
        "plt.show()\n"
      ],
      "metadata": {
        "colab": {
          "base_uri": "https://localhost:8080/",
          "height": 313
        },
        "id": "Bem6NxI2AL3i",
        "outputId": "013d386d-b9c3-4880-cde7-94d604e35961"
      },
      "execution_count": null,
      "outputs": [
        {
          "output_type": "stream",
          "name": "stdout",
          "text": [
            "dict_keys(['loss', 'val_loss'])\n"
          ]
        },
        {
          "output_type": "display_data",
          "data": {
            "text/plain": [
              "<Figure size 432x288 with 1 Axes>"
            ],
            "image/png": "[encoded data removed]"
          },
          "metadata": {
            "needs_background": "light"
          }
        }
      ]
    },
    {
      "cell_type": "code",
      "source": [
        "pred_y"
      ],
      "metadata": {
        "colab": {
          "base_uri": "https://localhost:8080/"
        },
        "id": "ey-cXtyWGhre",
        "outputId": "b2c33a07-bd19-40c6-96c7-a5db63966426"
      },
      "execution_count": null,
      "outputs": [
        {
          "output_type": "execute_result",
          "data": {
            "text/plain": [
              "array([[0.00297412],\n",
              "       [0.00281756],\n",
              "       [0.00290158],\n",
              "       ...,\n",
              "       [0.00127758],\n",
              "       [0.00118804],\n",
              "       [0.00128496]], dtype=float32)"
            ]
          },
          "metadata": {},
          "execution_count": 16
        }
      ]
    },
    {
      "cell_type": "code",
      "source": [
        "correct = 0\n",
        "for i in range(len(pred_y)):\n",
        "  p = pred[i]>0\n",
        "  t = t_test[i]>0"
      ],
      "metadata": {
        "id": "k3zLRXE1A7xx"
      },
      "execution_count": null,
      "outputs": []
    },
    {
      "cell_type": "code",
      "source": [
        "y_test[:-72]"
      ],
      "metadata": {
        "colab": {
          "base_uri": "https://localhost:8080/"
        },
        "id": "Zl3A92gwGlYd",
        "outputId": "d2b75571-3475-44c6-c4fa-700ad61d05a9"
      },
      "execution_count": null,
      "outputs": [
        {
          "output_type": "execute_result",
          "data": {
            "text/plain": [
              "array([-1.18979256e-03, -1.18514294e-03, -9.88592527e-04, ...,\n",
              "        7.40865954e-05,  6.60553277e-05,  2.04442603e-04])"
            ]
          },
          "metadata": {},
          "execution_count": 17
        }
      ]
    },
    {
      "cell_type": "code",
      "source": [
        "plt.plot(pred_y[:2000], alpha=0.5)\n",
        "plt.plot(y_test[:2000], alpha=0.5)"
      ],
      "metadata": {
        "colab": {
          "base_uri": "https://localhost:8080/",
          "height": 283
        },
        "id": "gLpc5G-SLeq9",
        "outputId": "4b72bb49-18e0-4d0f-b8f7-23cdc4584915"
      },
      "execution_count": null,
      "outputs": [
        {
          "output_type": "execute_result",
          "data": {
            "text/plain": [
              "[<matplotlib.lines.Line2D at 0x7fedcb22c490>]"
            ]
          },
          "metadata": {},
          "execution_count": 28
        },
        {
          "output_type": "display_data",
          "data": {
            "text/plain": [
              "<Figure size 432x288 with 1 Axes>"
            ],
            "image/png": "[encoded data removed]"
          },
          "metadata": {
            "needs_background": "light"
          }
        }
      ]
    },
    {
      "cell_type": "code",
      "source": [
        "np.dot((pred_y > 0).T, y_test[25:-72].reshape(-1,1) > 0)/len(pred_y)"
      ],
      "metadata": {
        "colab": {
          "base_uri": "https://localhost:8080/"
        },
        "id": "mh9CGt1gLozx",
        "outputId": "def9283e-5a5b-47ba-90cd-2399b5efb7c5"
      },
      "execution_count": null,
      "outputs": [
        {
          "output_type": "execute_result",
          "data": {
            "text/plain": [
              "array([[2.24497126e-05]])"
            ]
          },
          "metadata": {},
          "execution_count": 40
        }
      ]
    },
    {
      "cell_type": "code",
      "source": [
        "np.dot((pred_y > 0).T, y_test[25:-72].reshape(-1,1) > 0)"
      ],
      "metadata": {
        "colab": {
          "base_uri": "https://localhost:8080/"
        },
        "id": "klCuJFOmUHZO",
        "outputId": "f237734e-e63a-42ec-ddb9-355f0dc71f33"
      },
      "execution_count": null,
      "outputs": [
        {
          "output_type": "execute_result",
          "data": {
            "text/plain": [
              "array([[ True]])"
            ]
          },
          "metadata": {},
          "execution_count": 41
        }
      ]
    },
    {
      "cell_type": "code",
      "source": [
        "pred_y > 0"
      ],
      "metadata": {
        "colab": {
          "base_uri": "https://localhost:8080/"
        },
        "id": "XZl6BPJGUmRV",
        "outputId": "f8b0eaad-e188-4317-d1a2-42a769fb42ab"
      },
      "execution_count": null,
      "outputs": [
        {
          "output_type": "execute_result",
          "data": {
            "text/plain": [
              "array([[False],\n",
              "       [False],\n",
              "       [False],\n",
              "       ...,\n",
              "       [False],\n",
              "       [False],\n",
              "       [False]])"
            ]
          },
          "metadata": {},
          "execution_count": 48
        }
      ]
    },
    {
      "cell_type": "code",
      "source": [
        "pred_y"
      ],
      "metadata": {
        "colab": {
          "base_uri": "https://localhost:8080/"
        },
        "id": "2t_tC8FGUJgZ",
        "outputId": "b8eca28b-334d-4a23-8a92-6304173c4797"
      },
      "execution_count": null,
      "outputs": [
        {
          "output_type": "execute_result",
          "data": {
            "text/plain": [
              "array([[-0.00096059],\n",
              "       [-0.00098464],\n",
              "       [-0.00106899],\n",
              "       ...,\n",
              "       [-0.00140578],\n",
              "       [-0.00150296],\n",
              "       [-0.00157361]], dtype=float32)"
            ]
          },
          "metadata": {},
          "execution_count": 44
        }
      ]
    },
    {
      "cell_type": "code",
      "source": [
        "y_test[25:-72]"
      ],
      "metadata": {
        "colab": {
          "base_uri": "https://localhost:8080/"
        },
        "id": "uZCCJr7KU8N2",
        "outputId": "cbca3ac9-a7fa-4750-9bd3-7e79b37371bf"
      },
      "execution_count": null,
      "outputs": [
        {
          "output_type": "execute_result",
          "data": {
            "text/plain": [
              "array([9.39025817e-04, 1.16904631e-03, 1.07975000e-03, ...,\n",
              "       7.40865954e-05, 6.60553277e-05, 2.04442603e-04])"
            ]
          },
          "metadata": {},
          "execution_count": 49
        }
      ]
    },
    {
      "cell_type": "code",
      "source": [
        "m.summary()"
      ],
      "metadata": {
        "colab": {
          "base_uri": "https://localhost:8080/"
        },
        "id": "XuJXjEYqpGy8",
        "outputId": "f3a9559c-6a4c-46f2-dc3b-22ac9bdfa990"
      },
      "execution_count": null,
      "outputs": [
        {
          "output_type": "stream",
          "name": "stdout",
          "text": [
            "Model: \"model_4\"\n",
            "__________________________________________________________________________________________________\n",
            " Layer (type)                   Output Shape         Param #     Connected to                     \n",
            "==================================================================================================\n",
            " input_6 (InputLayer)           [(128, 30, 13)]      0           []                               \n",
            "                                                                                                  \n",
            " lambda_5 (Lambda)              (128, 30, 13)        0           ['input_6[0][0]']                \n",
            "                                                                                                  \n",
            " tcn_10 (TCN)                   (128, 30, 64)        139328      ['input_6[0][0]']                \n",
            "                                                                                                  \n",
            " tcn_11 (TCN)                   (128, 30, 64)        139328      ['lambda_5[0][0]']               \n",
            "                                                                                                  \n",
            " add_8 (Add)                    (128, 30, 64)        0           ['tcn_10[0][0]',                 \n",
            "                                                                  'tcn_11[0][0]']                 \n",
            "                                                                                                  \n",
            " lstm_8 (LSTM)                  (128, 30, 4)         1104        ['add_8[0][0]']                  \n",
            "                                                                                                  \n",
            " dense_4 (Dense)                (128, 30, 1)         5           ['lstm_8[0][0]']                 \n",
            "                                                                                                  \n",
            "==================================================================================================\n",
            "Total params: 279,765\n",
            "Trainable params: 279,765\n",
            "Non-trainable params: 0\n",
            "__________________________________________________________________________________________________\n"
          ]
        }
      ]
    }
  ]
}